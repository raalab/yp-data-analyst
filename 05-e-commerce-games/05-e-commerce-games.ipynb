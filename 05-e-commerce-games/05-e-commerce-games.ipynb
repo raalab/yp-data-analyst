{
 "cells": [
  {
   "cell_type": "markdown",
   "metadata": {},
   "source": [
    "# Анализ статистики продаж компьютерных игр.\n",
    "\n",
    "**Описание проекта**\n",
    "Вы работаете в компании, которая осуществляет продажу компьютерных игр через интернет-магазин и в сети офлайн магазинов. Одно из ключевых преимуществ компании — это анализ данных при планировании закупок и рекламных компаний. Ваша задача проанализировать накопленные данные о продажах в разные года, определить тренды и проверить гипотезы. Ваш основной результат — итоговая рекомендация руководству компании о том, на каких играх стоит сосредоточиться в будущем году.\n",
    "***\n",
    "В наборе данных попадается аббревиатура ESRB (Entertainment Software Rating Board) — это ассоциация, определяющая возрастной рейтинг компьютерных игр. ESRB оценивает игровой контент и присваивает ему подходящую возрастную категорию, например, «Для взрослых», «Для детей младшего возраста» или «Для подростков».\n",
    "\n",
    "**Источники данных**\n",
    "собственная статистика продаж компании\n",
    "'/datasets/games_data.csv'\n",
    "'/datasets/rating.csv'"
   ]
  },
  {
   "cell_type": "markdown",
   "metadata": {},
   "source": [
    "**Описание данных**\n",
    "platform — платформа\n",
    "sales_year — год продажи\n",
    "genre — жанр игры\n",
    "online — количество продаж (в сотнях тысяч)\n",
    "offline — количество продаж (в сотнях тысяч)\n",
    "critic_score — оценка критиков (максимум 100)\n",
    "user_score — оценка пользователей (максимум 10)\n",
    "rating — возрастной рейтинг ESRB\n",
    "game_id — id игры"
   ]
  },
  {
   "cell_type": "markdown",
   "metadata": {},
   "source": [
    "## Шаг 1. Загрузка исходных данных и визуальная оценка"
   ]
  },
  {
   "cell_type": "code",
   "execution_count": 1,
   "metadata": {},
   "outputs": [],
   "source": [
    "# загрузка библиотек\n",
    "import pandas as pd\n",
    "import numpy as np\n",
    "import matplotlib.pyplot as plt\n",
    "import seaborn as sns\n",
    "from scipy import stats as st \n",
    "\n",
    "# настройка окружения\n",
    "pd.options.display.max_columns = None\n",
    "pd.options.display.float_format = '{0:.2f}'.format\n",
    "sns.set()\n",
    "#from IPython.display import set_matplotlib_formats\n",
    "#set_matplotlib_formats('svg')"
   ]
  },
  {
   "cell_type": "code",
   "execution_count": 2,
   "metadata": {},
   "outputs": [
    {
     "data": {
      "text/html": [
       "<div>\n",
       "<style scoped>\n",
       "    .dataframe tbody tr th:only-of-type {\n",
       "        vertical-align: middle;\n",
       "    }\n",
       "\n",
       "    .dataframe tbody tr th {\n",
       "        vertical-align: top;\n",
       "    }\n",
       "\n",
       "    .dataframe thead th {\n",
       "        text-align: right;\n",
       "    }\n",
       "</style>\n",
       "<table border=\"1\" class=\"dataframe\">\n",
       "  <thead>\n",
       "    <tr style=\"text-align: right;\">\n",
       "      <th></th>\n",
       "      <th>platform</th>\n",
       "      <th>sales_year</th>\n",
       "      <th>genre</th>\n",
       "      <th>online</th>\n",
       "      <th>offline</th>\n",
       "      <th>critic_score</th>\n",
       "      <th>user_score</th>\n",
       "      <th>rating</th>\n",
       "      <th>game_id</th>\n",
       "    </tr>\n",
       "  </thead>\n",
       "  <tbody>\n",
       "    <tr>\n",
       "      <td>0</td>\n",
       "      <td>PS3</td>\n",
       "      <td>2017.00</td>\n",
       "      <td>Action</td>\n",
       "      <td>702.00</td>\n",
       "      <td>909.00</td>\n",
       "      <td>97.00</td>\n",
       "      <td>8.2</td>\n",
       "      <td>M</td>\n",
       "      <td>20838</td>\n",
       "    </tr>\n",
       "    <tr>\n",
       "      <td>1</td>\n",
       "      <td>X360</td>\n",
       "      <td>2017.00</td>\n",
       "      <td>Action</td>\n",
       "      <td>966.00</td>\n",
       "      <td>514.00</td>\n",
       "      <td>97.00</td>\n",
       "      <td>8.1</td>\n",
       "      <td>M</td>\n",
       "      <td>48673</td>\n",
       "    </tr>\n",
       "    <tr>\n",
       "      <td>2</td>\n",
       "      <td>X360</td>\n",
       "      <td>2017.00</td>\n",
       "      <td>Shooter</td>\n",
       "      <td>904.00</td>\n",
       "      <td>424.00</td>\n",
       "      <td>88.00</td>\n",
       "      <td>3.4</td>\n",
       "      <td>M</td>\n",
       "      <td>17801</td>\n",
       "    </tr>\n",
       "    <tr>\n",
       "      <td>3</td>\n",
       "      <td>PS4</td>\n",
       "      <td>2015.00</td>\n",
       "      <td>Shooter</td>\n",
       "      <td>603.00</td>\n",
       "      <td>586.00</td>\n",
       "      <td>nan</td>\n",
       "      <td>NaN</td>\n",
       "      <td>NaN</td>\n",
       "      <td>12200</td>\n",
       "    </tr>\n",
       "    <tr>\n",
       "      <td>4</td>\n",
       "      <td>3DS</td>\n",
       "      <td>2017.00</td>\n",
       "      <td>Role-Playing</td>\n",
       "      <td>528.00</td>\n",
       "      <td>419.00</td>\n",
       "      <td>nan</td>\n",
       "      <td>NaN</td>\n",
       "      <td>NaN</td>\n",
       "      <td>11432</td>\n",
       "    </tr>\n",
       "  </tbody>\n",
       "</table>\n",
       "</div>"
      ],
      "text/plain": [
       "  platform  sales_year         genre  online  offline  critic_score  \\\n",
       "0      PS3     2017.00        Action  702.00   909.00         97.00   \n",
       "1     X360     2017.00        Action  966.00   514.00         97.00   \n",
       "2     X360     2017.00       Shooter  904.00   424.00         88.00   \n",
       "3      PS4     2015.00       Shooter  603.00   586.00           nan   \n",
       "4      3DS     2017.00  Role-Playing  528.00   419.00           nan   \n",
       "\n",
       "  user_score rating  game_id  \n",
       "0        8.2      M    20838  \n",
       "1        8.1      M    48673  \n",
       "2        3.4      M    17801  \n",
       "3        NaN    NaN    12200  \n",
       "4        NaN    NaN    11432  "
      ]
     },
     "metadata": {},
     "output_type": "display_data"
    },
    {
     "data": {
      "text/html": [
       "<div>\n",
       "<style scoped>\n",
       "    .dataframe tbody tr th:only-of-type {\n",
       "        vertical-align: middle;\n",
       "    }\n",
       "\n",
       "    .dataframe tbody tr th {\n",
       "        vertical-align: top;\n",
       "    }\n",
       "\n",
       "    .dataframe thead th {\n",
       "        text-align: right;\n",
       "    }\n",
       "</style>\n",
       "<table border=\"1\" class=\"dataframe\">\n",
       "  <thead>\n",
       "    <tr style=\"text-align: right;\">\n",
       "      <th></th>\n",
       "      <th>rating_type</th>\n",
       "      <th>decryption</th>\n",
       "    </tr>\n",
       "  </thead>\n",
       "  <tbody>\n",
       "    <tr>\n",
       "      <td>0</td>\n",
       "      <td>E</td>\n",
       "      <td>Для всех</td>\n",
       "    </tr>\n",
       "    <tr>\n",
       "      <td>1</td>\n",
       "      <td>M</td>\n",
       "      <td>От 17 лет</td>\n",
       "    </tr>\n",
       "    <tr>\n",
       "      <td>2</td>\n",
       "      <td>T</td>\n",
       "      <td>Подросткам 13—19 лет</td>\n",
       "    </tr>\n",
       "    <tr>\n",
       "      <td>3</td>\n",
       "      <td>E10+</td>\n",
       "      <td>Для всех старше 10 лет</td>\n",
       "    </tr>\n",
       "    <tr>\n",
       "      <td>4</td>\n",
       "      <td>K-A</td>\n",
       "      <td>Для всех(до 1998 года)</td>\n",
       "    </tr>\n",
       "    <tr>\n",
       "      <td>5</td>\n",
       "      <td>AO</td>\n",
       "      <td>Только для взрослых</td>\n",
       "    </tr>\n",
       "    <tr>\n",
       "      <td>6</td>\n",
       "      <td>EC</td>\n",
       "      <td>Для детей младшего возраста</td>\n",
       "    </tr>\n",
       "    <tr>\n",
       "      <td>7</td>\n",
       "      <td>RP</td>\n",
       "      <td>Рейтинг ожидается</td>\n",
       "    </tr>\n",
       "  </tbody>\n",
       "</table>\n",
       "</div>"
      ],
      "text/plain": [
       "  rating_type                   decryption\n",
       "0           E                     Для всех\n",
       "1           M                    От 17 лет\n",
       "2           T         Подросткам 13—19 лет\n",
       "3        E10+       Для всех старше 10 лет\n",
       "4         K-A       Для всех(до 1998 года)\n",
       "5          AO          Только для взрослых\n",
       "6          EC  Для детей младшего возраста\n",
       "7          RP            Рейтинг ожидается"
      ]
     },
     "metadata": {},
     "output_type": "display_data"
    }
   ],
   "source": [
    "# загрузка исходного датасета и первичная оценка данных\n",
    "df_games = pd.read_csv('/datasets/games_data.csv')\n",
    "df_esrb = pd.read_csv('/datasets/rating.csv') # данные о возрастном рейтинге ESRB\n",
    "\n",
    "display(df_games.head())  \n",
    "display(df_esrb)"
   ]
  },
  {
   "cell_type": "markdown",
   "metadata": {},
   "source": [
    "## Шаг 2. Подготовка данных\n",
    "Посчитайте общее количество продаж и запишите в отдельный столбец.\n",
    "***\n",
    "Приведите данные к нужным типам:\n",
    "Опишите, в каких столбцах пришлось заменить тип данных и почему\n",
    "***\n",
    "Обработайте пропуски при необходимости:\n",
    "Если вы решили заполнить пропуски определённым образом или не заполнять совсем — объясните, почему;\n",
    "Опишите возможные причины возникновения пропусков;\n",
    "Обратите внимание на аббревиатуру 'tbd' в столбцах с рейтингом. Отдельно разберите это значение и опишите, как его обработать"
   ]
  },
  {
   "cell_type": "code",
   "execution_count": 3,
   "metadata": {},
   "outputs": [
    {
     "name": "stdout",
     "output_type": "stream",
     "text": [
      "<class 'pandas.core.frame.DataFrame'>\n",
      "RangeIndex: 4026 entries, 0 to 4025\n",
      "Data columns (total 9 columns):\n",
      "platform        4026 non-null object\n",
      "sales_year      4026 non-null float64\n",
      "genre           4026 non-null object\n",
      "online          4026 non-null float64\n",
      "offline         4026 non-null float64\n",
      "critic_score    1812 non-null float64\n",
      "user_score      2382 non-null object\n",
      "rating          2315 non-null object\n",
      "game_id         4026 non-null int64\n",
      "dtypes: float64(4), int64(1), object(4)\n",
      "memory usage: 283.2+ KB\n"
     ]
    }
   ],
   "source": [
    "# проверка типа данных в исходной таблице\n",
    "df_games.info()"
   ]
  },
  {
   "cell_type": "markdown",
   "metadata": {},
   "source": [
    "Типу 'object' соответствуют столбцы с категориальными данными и рейтинг пользователей 'user_score'.\n",
    "Значит есть проблема с типом данных или содержимым. Проверяем структуру значений для столбцов dtype = 'object':"
   ]
  },
  {
   "cell_type": "code",
   "execution_count": 4,
   "metadata": {},
   "outputs": [
    {
     "data": {
      "text/html": [
       "<div>\n",
       "<style scoped>\n",
       "    .dataframe tbody tr th:only-of-type {\n",
       "        vertical-align: middle;\n",
       "    }\n",
       "\n",
       "    .dataframe tbody tr th {\n",
       "        vertical-align: top;\n",
       "    }\n",
       "\n",
       "    .dataframe thead th {\n",
       "        text-align: right;\n",
       "    }\n",
       "</style>\n",
       "<table border=\"1\" class=\"dataframe\">\n",
       "  <thead>\n",
       "    <tr style=\"text-align: right;\">\n",
       "      <th></th>\n",
       "      <th>platform</th>\n",
       "      <th>genre</th>\n",
       "      <th>user_score</th>\n",
       "      <th>rating</th>\n",
       "    </tr>\n",
       "  </thead>\n",
       "  <tbody>\n",
       "    <tr>\n",
       "      <td>count</td>\n",
       "      <td>4026</td>\n",
       "      <td>4026</td>\n",
       "      <td>2382</td>\n",
       "      <td>2315</td>\n",
       "    </tr>\n",
       "    <tr>\n",
       "      <td>unique</td>\n",
       "      <td>12</td>\n",
       "      <td>12</td>\n",
       "      <td>87</td>\n",
       "      <td>6</td>\n",
       "    </tr>\n",
       "    <tr>\n",
       "      <td>top</td>\n",
       "      <td>PS3</td>\n",
       "      <td>Action</td>\n",
       "      <td>tbd</td>\n",
       "      <td>M</td>\n",
       "    </tr>\n",
       "    <tr>\n",
       "      <td>freq</td>\n",
       "      <td>708</td>\n",
       "      <td>1270</td>\n",
       "      <td>350</td>\n",
       "      <td>622</td>\n",
       "    </tr>\n",
       "  </tbody>\n",
       "</table>\n",
       "</div>"
      ],
      "text/plain": [
       "       platform   genre user_score rating\n",
       "count      4026    4026       2382   2315\n",
       "unique       12      12         87      6\n",
       "top         PS3  Action        tbd      M\n",
       "freq        708    1270        350    622"
      ]
     },
     "execution_count": 4,
     "metadata": {},
     "output_type": "execute_result"
    }
   ],
   "source": [
    "df_games.describe(include = ['object'])"
   ]
  },
  {
   "cell_type": "markdown",
   "metadata": {},
   "source": [
    "**В 'user_score' имеется 350 записей со строковым значением 'tbd'. В данном контексте TBD = to be determined (будет определено позднее). Для данного иследования это означает отсутствие рейтинга на данный момент, выполняем преобразование данных в числовой формат и заменяем значения 'tbd' на 'NaN', чтобы иметь возможность проводить статистическую обработку данных.**"
   ]
  },
  {
   "cell_type": "markdown",
   "metadata": {},
   "source": [
    "**'sales_year','online', 'offline'** - Выполняем преобразование столбцов с годом, числом продаж и экспертным рейтингом в целочисленный формат. Число проданных игр и год не могут быть дробными. Преобразование в данном случае целесообразно для удобства представления данных, а для больших объемов данных также даст скорость обработки и экономию места хранения."
   ]
  },
  {
   "cell_type": "code",
   "execution_count": 5,
   "metadata": {},
   "outputs": [],
   "source": [
    "# преоброзование столбцов в формат 'int'\n",
    "for column in ['sales_year', 'online', 'offline']:\n",
    "    df_games[column] = df_games[column].astype('int', errors = 'ignore')  "
   ]
  },
  {
   "cell_type": "code",
   "execution_count": 6,
   "metadata": {},
   "outputs": [],
   "source": [
    "# добавление столбца 'total_sales' и подсчет общих продаж\n",
    "df_games['total_sales'] = df_games['online'] + df_games['offline']"
   ]
  },
  {
   "cell_type": "code",
   "execution_count": 7,
   "metadata": {},
   "outputs": [
    {
     "name": "stdout",
     "output_type": "stream",
     "text": [
      "<class 'pandas.core.frame.DataFrame'>\n",
      "RangeIndex: 4026 entries, 0 to 4025\n",
      "Data columns (total 10 columns):\n",
      "platform        4026 non-null object\n",
      "sales_year      4026 non-null int64\n",
      "genre           4026 non-null object\n",
      "online          4026 non-null int64\n",
      "offline         4026 non-null int64\n",
      "critic_score    1812 non-null float64\n",
      "user_score      2032 non-null float64\n",
      "rating          2315 non-null object\n",
      "game_id         4026 non-null int64\n",
      "total_sales     4026 non-null int64\n",
      "dtypes: float64(2), int64(5), object(3)\n",
      "memory usage: 314.7+ KB\n"
     ]
    }
   ],
   "source": [
    "# замена значений 'tbd' на NaN в столбце 'user_score'\n",
    "df_games['user_score'].replace('tbd', np.nan, inplace = True)\n",
    "\n",
    "# преобразование столбца 'user_score' в числовой формат\n",
    "df_games['user_score'] = df_games['user_score'].astype('float', errors='ignore')\n",
    "\n",
    "# проверка\n",
    "df_games.info()    "
   ]
  },
  {
   "cell_type": "code",
   "execution_count": 8,
   "metadata": {},
   "outputs": [
    {
     "data": {
      "text/plain": [
       "0"
      ]
     },
     "execution_count": 8,
     "metadata": {},
     "output_type": "execute_result"
    }
   ],
   "source": [
    "# проверка таблицы на дубликаты\n",
    "df_games.duplicated().sum()\n",
    "# Дубликаты отсутствуют"
   ]
  },
  {
   "cell_type": "code",
   "execution_count": 9,
   "metadata": {},
   "outputs": [
    {
     "data": {
      "text/plain": [
       "190"
      ]
     },
     "execution_count": 9,
     "metadata": {},
     "output_type": "execute_result"
    }
   ],
   "source": [
    "# проверка стлбца 'game_id' на уникальность значений \n",
    "# (если все значения уникальны результат должен быть равен нулю):\n",
    "df_games['game_id'].shape[0] - df_games['game_id'].unique().shape[0]\n",
    "# 190 значений повторяются. id не уникальны."
   ]
  },
  {
   "cell_type": "markdown",
   "metadata": {},
   "source": [
    "**Вывод: Данные подготовлены к дальнейшему анализу. Выполнены необходимые преобразования типов данных. Дубликаты не выявлены. \n",
    "Сокращение  'tbd' в 'user_score' заменено на 'NaN'. В столбце 'game_id' номера не являются уникальными, кроме id идентификация игр должна производиться и по другим столбцам (жанр и платформа)**"
   ]
  },
  {
   "cell_type": "markdown",
   "metadata": {},
   "source": [
    "## Шаг 3. Исследовательский анализ данных"
   ]
  },
  {
   "cell_type": "markdown",
   "metadata": {},
   "source": [
    "1. Постройте распределение количества игр по годам продажи и опишите полученный результат\n",
    "2. Постройте распределение по годам продажи для игр с отзывом и без отзыва; cравните полученные распределения и сделайте вывод\n",
    "3. Постройте график продаж по каждому году; сделайте вывод\n",
    "4. Постройте ящик с усами по общим продажам, опишите полученный результат\n",
    "5. Узнайте, на какой платформе было продано больше всего игр\n",
    "6. Определите, игр какого жанра больше всего\n",
    "7. Найдите игры с наибольшей и наименьшей оценкой от пользователей\n",
    "8. Найдите игры с наибольшей и наименьшей оценкой от критиков\n",
    "9. Оцените корреляцию между оценками критиков и пользовательскими оценками."
   ]
  },
  {
   "cell_type": "markdown",
   "metadata": {},
   "source": [
    "#### Распределение количества игр по годам продажи"
   ]
  },
  {
   "cell_type": "code",
   "execution_count": 10,
   "metadata": {},
   "outputs": [
    {
     "data": {
      "image/png": "[encoded data removed]",
      "text/plain": [
       "<Figure size 720x360 with 1 Axes>"
      ]
     },
     "metadata": {
      "needs_background": "light"
     },
     "output_type": "display_data"
    }
   ],
   "source": [
    "# Распределение количества игр по годам продажи \n",
    "(df_games\n",
    "     .groupby('sales_year')['game_id']\n",
    "     .count().plot(kind='bar', grid=True, figsize=(10,5))\n",
    ");"
   ]
  },
  {
   "cell_type": "markdown",
   "metadata": {},
   "source": [
    "**Вывод:** количество игр достигло максимума в 2017г.: 1700 игр против 600 в 2015г. \n",
    "В 2018 произошло небольшое снижение количества игр - до 1200."
   ]
  },
  {
   "cell_type": "markdown",
   "metadata": {},
   "source": [
    "#### Распределение объема продаж по годам "
   ]
  },
  {
   "cell_type": "code",
   "execution_count": 11,
   "metadata": {},
   "outputs": [
    {
     "data": {
      "image/png": "[encoded data removed]",
      "text/plain": [
       "<Figure size 720x360 with 1 Axes>"
      ]
     },
     "metadata": {
      "needs_background": "light"
     },
     "output_type": "display_data"
    }
   ],
   "source": [
    "# Распределение объема продаж по годам\n",
    "(df_games\n",
    "     .groupby('sales_year')['online', 'offline', 'total_sales']\n",
    "     .sum().plot(kind='bar', grid=True, figsize=(10,5))\n",
    ");"
   ]
  },
  {
   "cell_type": "markdown",
   "metadata": {},
   "source": [
    "**Вывод:** Есть тенденция к увеличению объемов продаж, но их динамика скачкообразна. В 2016 было двукратное падение объема продаж по отношению к 2015г: с 20 млн. до 10 млн., затем в 2017 - почти 7 кратный скачок до 68 илн. Затем, в 2018г., вновь спад до 52 млн. С 2017г объем онлайн продаж превышает продажи оффлайн, до этого момента они были практически равны.\n",
    "***\n",
    "**Гистограмма продаж похожа на гистограмму количества игр.**"
   ]
  },
  {
   "cell_type": "markdown",
   "metadata": {},
   "source": [
    "#### Распределение  объема продаж по годам для игр с отзывом и без отзыва"
   ]
  },
  {
   "cell_type": "code",
   "execution_count": 12,
   "metadata": {},
   "outputs": [
    {
     "data": {
      "text/plain": [
       "sales_year\n",
       "2015   28.08\n",
       "2016   16.65\n",
       "2017   13.32\n",
       "2018   14.72\n",
       "dtype: float64"
      ]
     },
     "execution_count": 12,
     "metadata": {},
     "output_type": "execute_result"
    },
    {
     "data": {
      "image/png": "[encoded data removed]",
      "text/plain": [
       "<Figure size 720x360 with 1 Axes>"
      ]
     },
     "metadata": {
      "needs_background": "light"
     },
     "output_type": "display_data"
    }
   ],
   "source": [
    "# Распределение объема продаж по годам для игр с отзывом и без отзыва\n",
    "df_rating = pd.concat(\n",
    "    [df_games.loc[df_games['rating'].isna() == True].groupby('sales_year')['total_sales'].sum(),\n",
    "    df_games.loc[df_games['rating'].isna() == False].groupby('sales_year')['total_sales'].sum()],\n",
    "    axis=1)\n",
    "df_rating.columns = ['w/o_rating' , 'rated']\n",
    "df_rating.plot(kind='bar', grid=True, figsize=(10,5))\n",
    "df_rating['w/o_rating'] / (df_rating['rated'] + df_rating['w/o_rating']) * 100 # доля игр без рейтинга к общему количеству в %"
   ]
  },
  {
   "cell_type": "markdown",
   "metadata": {},
   "source": [
    "**Вывод:** Наибольшая доля продаваемых игр без рейтинга была в 2015 г. - 28%, с 2016 их доля снизилась и находится в диапазоне 13 - 17% от общего количества. "
   ]
  },
  {
   "cell_type": "markdown",
   "metadata": {},
   "source": [
    "#### \"Ящик с усами\" по объему общих продаж"
   ]
  },
  {
   "cell_type": "code",
   "execution_count": 13,
   "metadata": {},
   "outputs": [
    {
     "data": {
      "image/png": "[encoded data removed]",
      "text/plain": [
       "<Figure size 1440x288 with 2 Axes>"
      ]
     },
     "metadata": {
      "needs_background": "light"
     },
     "output_type": "display_data"
    }
   ],
   "source": [
    "# для данных по объему продаж строим классический boxplot и вариант \"виолончель\" отражающий распределение частот\n",
    "fig, axes = plt.subplots(1, 2, sharey=True, figsize=(20, 4))\n",
    "sns.boxplot(df_games['total_sales'], ax=axes[0])\n",
    "sns.violinplot(df_games['total_sales'], ax=axes[1])\n",
    "axes[0].set_title('Распределение объемов продаж по играм');"
   ]
  },
  {
   "cell_type": "markdown",
   "metadata": {},
   "source": [
    "**Вывод:** 75% игр имеют продажи до 100 тысяч экземпляров, при этом есть игры продажи которых исчисляются миллионами экзепляров."
   ]
  },
  {
   "cell_type": "markdown",
   "metadata": {},
   "source": [
    "#### На какой платформе было продано больше всего игр?"
   ]
  },
  {
   "cell_type": "code",
   "execution_count": 14,
   "metadata": {},
   "outputs": [
    {
     "data": {
      "text/plain": [
       "platform\n",
       "X360    34384\n",
       "PS3     33130\n",
       "PS4     24979\n",
       "Name: total_sales, dtype: int64"
      ]
     },
     "execution_count": 14,
     "metadata": {},
     "output_type": "execute_result"
    }
   ],
   "source": [
    "df_games.groupby('platform')['total_sales'].sum().sort_values(ascending=False).head(3)"
   ]
  },
  {
   "cell_type": "markdown",
   "metadata": {},
   "source": [
    "**Вывод:** по объемам продаж лидируют игры для платформы X360 - 34 384 тыс.шт., с небольшим отрывом идет PS3 - 33 130 тыс.шт. и  третье место у PS4 - 24 979 тыс.шт."
   ]
  },
  {
   "cell_type": "markdown",
   "metadata": {},
   "source": [
    "#### Игр какого жанра больше всего"
   ]
  },
  {
   "cell_type": "code",
   "execution_count": 15,
   "metadata": {
    "scrolled": true
   },
   "outputs": [
    {
     "data": {
      "text/plain": [
       "Action          1270\n",
       "Role-Playing     467\n",
       "Adventure        410\n",
       "Sports           389\n",
       "Misc             375\n",
       "Name: genre, dtype: int64"
      ]
     },
     "execution_count": 15,
     "metadata": {},
     "output_type": "execute_result"
    }
   ],
   "source": [
    "df_games['genre'].value_counts().head()"
   ]
  },
  {
   "cell_type": "markdown",
   "metadata": {},
   "source": [
    "**Вывод:** с большим отрывом лидируют продажи игр жанра 'Action' - 1270 тыс.шт., второе место 'Role-Playing' - 467 тыс.шт., и завершают пятерку 'Adventure', 'Sports', 'Misc' с продажами 410, 389 и 375 тыс.шт. соответственно."
   ]
  },
  {
   "cell_type": "markdown",
   "metadata": {},
   "source": [
    "#### Игры с наибольшей и наименьшей оценкой от пользователей"
   ]
  },
  {
   "cell_type": "code",
   "execution_count": 16,
   "metadata": {},
   "outputs": [
    {
     "data": {
      "text/html": [
       "<div>\n",
       "<style scoped>\n",
       "    .dataframe tbody tr th:only-of-type {\n",
       "        vertical-align: middle;\n",
       "    }\n",
       "\n",
       "    .dataframe tbody tr th {\n",
       "        vertical-align: top;\n",
       "    }\n",
       "\n",
       "    .dataframe thead th {\n",
       "        text-align: right;\n",
       "    }\n",
       "</style>\n",
       "<table border=\"1\" class=\"dataframe\">\n",
       "  <thead>\n",
       "    <tr style=\"text-align: right;\">\n",
       "      <th></th>\n",
       "      <th>platform</th>\n",
       "      <th>sales_year</th>\n",
       "      <th>genre</th>\n",
       "      <th>online</th>\n",
       "      <th>offline</th>\n",
       "      <th>critic_score</th>\n",
       "      <th>user_score</th>\n",
       "      <th>rating</th>\n",
       "      <th>game_id</th>\n",
       "      <th>total_sales</th>\n",
       "    </tr>\n",
       "  </thead>\n",
       "  <tbody>\n",
       "    <tr>\n",
       "      <td>2348</td>\n",
       "      <td>PSV</td>\n",
       "      <td>2015</td>\n",
       "      <td>Adventure</td>\n",
       "      <td>0</td>\n",
       "      <td>3</td>\n",
       "      <td>86.00</td>\n",
       "      <td>9.30</td>\n",
       "      <td>M</td>\n",
       "      <td>38270</td>\n",
       "      <td>3</td>\n",
       "    </tr>\n",
       "    <tr>\n",
       "      <td>639</td>\n",
       "      <td>PC</td>\n",
       "      <td>2015</td>\n",
       "      <td>Role-Playing</td>\n",
       "      <td>21</td>\n",
       "      <td>46</td>\n",
       "      <td>93.00</td>\n",
       "      <td>9.30</td>\n",
       "      <td>M</td>\n",
       "      <td>12365</td>\n",
       "      <td>67</td>\n",
       "    </tr>\n",
       "    <tr>\n",
       "      <td>77</td>\n",
       "      <td>PS4</td>\n",
       "      <td>2015</td>\n",
       "      <td>Role-Playing</td>\n",
       "      <td>102</td>\n",
       "      <td>213</td>\n",
       "      <td>92.00</td>\n",
       "      <td>9.20</td>\n",
       "      <td>M</td>\n",
       "      <td>43575</td>\n",
       "      <td>315</td>\n",
       "    </tr>\n",
       "    <tr>\n",
       "      <td>339</td>\n",
       "      <td>XOne</td>\n",
       "      <td>2015</td>\n",
       "      <td>Role-Playing</td>\n",
       "      <td>69</td>\n",
       "      <td>50</td>\n",
       "      <td>91.00</td>\n",
       "      <td>9.20</td>\n",
       "      <td>M</td>\n",
       "      <td>10495</td>\n",
       "      <td>119</td>\n",
       "    </tr>\n",
       "    <tr>\n",
       "      <td>2277</td>\n",
       "      <td>PSV</td>\n",
       "      <td>2017</td>\n",
       "      <td>Adventure</td>\n",
       "      <td>4</td>\n",
       "      <td>4</td>\n",
       "      <td>83.00</td>\n",
       "      <td>9.20</td>\n",
       "      <td>M</td>\n",
       "      <td>27691</td>\n",
       "      <td>8</td>\n",
       "    </tr>\n",
       "  </tbody>\n",
       "</table>\n",
       "</div>"
      ],
      "text/plain": [
       "     platform  sales_year         genre  online  offline  critic_score  \\\n",
       "2348      PSV        2015     Adventure       0        3         86.00   \n",
       "639        PC        2015  Role-Playing      21       46         93.00   \n",
       "77        PS4        2015  Role-Playing     102      213         92.00   \n",
       "339      XOne        2015  Role-Playing      69       50         91.00   \n",
       "2277      PSV        2017     Adventure       4        4         83.00   \n",
       "\n",
       "      user_score rating  game_id  total_sales  \n",
       "2348        9.30      M    38270            3  \n",
       "639         9.30      M    12365           67  \n",
       "77          9.20      M    43575          315  \n",
       "339         9.20      M    10495          119  \n",
       "2277        9.20      M    27691            8  "
      ]
     },
     "metadata": {},
     "output_type": "display_data"
    },
    {
     "data": {
      "text/html": [
       "<div>\n",
       "<style scoped>\n",
       "    .dataframe tbody tr th:only-of-type {\n",
       "        vertical-align: middle;\n",
       "    }\n",
       "\n",
       "    .dataframe tbody tr th {\n",
       "        vertical-align: top;\n",
       "    }\n",
       "\n",
       "    .dataframe thead th {\n",
       "        text-align: right;\n",
       "    }\n",
       "</style>\n",
       "<table border=\"1\" class=\"dataframe\">\n",
       "  <thead>\n",
       "    <tr style=\"text-align: right;\">\n",
       "      <th></th>\n",
       "      <th>platform</th>\n",
       "      <th>sales_year</th>\n",
       "      <th>genre</th>\n",
       "      <th>online</th>\n",
       "      <th>offline</th>\n",
       "      <th>critic_score</th>\n",
       "      <th>user_score</th>\n",
       "      <th>rating</th>\n",
       "      <th>game_id</th>\n",
       "      <th>total_sales</th>\n",
       "    </tr>\n",
       "  </thead>\n",
       "  <tbody>\n",
       "    <tr>\n",
       "      <td>2321</td>\n",
       "      <td>X360</td>\n",
       "      <td>2017</td>\n",
       "      <td>Shooter</td>\n",
       "      <td>7</td>\n",
       "      <td>2</td>\n",
       "      <td>43.00</td>\n",
       "      <td>1.20</td>\n",
       "      <td>M</td>\n",
       "      <td>24620</td>\n",
       "      <td>9</td>\n",
       "    </tr>\n",
       "    <tr>\n",
       "      <td>3026</td>\n",
       "      <td>PS3</td>\n",
       "      <td>2017</td>\n",
       "      <td>Racing</td>\n",
       "      <td>2</td>\n",
       "      <td>1</td>\n",
       "      <td>13.00</td>\n",
       "      <td>1.00</td>\n",
       "      <td>M</td>\n",
       "      <td>28618</td>\n",
       "      <td>3</td>\n",
       "    </tr>\n",
       "    <tr>\n",
       "      <td>2695</td>\n",
       "      <td>DS</td>\n",
       "      <td>2017</td>\n",
       "      <td>Platform</td>\n",
       "      <td>6</td>\n",
       "      <td>0</td>\n",
       "      <td>nan</td>\n",
       "      <td>0.90</td>\n",
       "      <td>E</td>\n",
       "      <td>14384</td>\n",
       "      <td>6</td>\n",
       "    </tr>\n",
       "    <tr>\n",
       "      <td>1739</td>\n",
       "      <td>X360</td>\n",
       "      <td>2016</td>\n",
       "      <td>Sports</td>\n",
       "      <td>14</td>\n",
       "      <td>2</td>\n",
       "      <td>nan</td>\n",
       "      <td>0.70</td>\n",
       "      <td>E</td>\n",
       "      <td>28773</td>\n",
       "      <td>16</td>\n",
       "    </tr>\n",
       "    <tr>\n",
       "      <td>2118</td>\n",
       "      <td>PS3</td>\n",
       "      <td>2016</td>\n",
       "      <td>Sports</td>\n",
       "      <td>7</td>\n",
       "      <td>2</td>\n",
       "      <td>nan</td>\n",
       "      <td>0.20</td>\n",
       "      <td>E</td>\n",
       "      <td>23493</td>\n",
       "      <td>9</td>\n",
       "    </tr>\n",
       "  </tbody>\n",
       "</table>\n",
       "</div>"
      ],
      "text/plain": [
       "     platform  sales_year     genre  online  offline  critic_score  \\\n",
       "2321     X360        2017   Shooter       7        2         43.00   \n",
       "3026      PS3        2017    Racing       2        1         13.00   \n",
       "2695       DS        2017  Platform       6        0           nan   \n",
       "1739     X360        2016    Sports      14        2           nan   \n",
       "2118      PS3        2016    Sports       7        2           nan   \n",
       "\n",
       "      user_score rating  game_id  total_sales  \n",
       "2321        1.20      M    24620            9  \n",
       "3026        1.00      M    28618            3  \n",
       "2695        0.90      E    14384            6  \n",
       "1739        0.70      E    28773           16  \n",
       "2118        0.20      E    23493            9  "
      ]
     },
     "execution_count": 16,
     "metadata": {},
     "output_type": "execute_result"
    }
   ],
   "source": [
    "display(df_games.sort_values(by='user_score', ascending=False).head())\n",
    "df_games.sort_values(by='user_score', ascending=False, na_position='first').tail()"
   ]
  },
  {
   "cell_type": "markdown",
   "metadata": {},
   "source": [
    "**Вывод:** По мнению пользователей лучшие игры (имеют равный рейтинг 9.3) это игра id-38270 в жанре Adventure на платформе PSV и id-12365 в жанре Role-Playing на платформе PС, худшая ( с рейтингом 0.2)- id-23493 в жанре Sports платформа PS3.\n",
    "Все TOP-5 игр в пользовательском рейтинге имеют жанр или Adventure или Role-Playing."
   ]
  },
  {
   "cell_type": "markdown",
   "metadata": {},
   "source": [
    "#### Игры с наибольшей и наименьшей оценкой от критиков"
   ]
  },
  {
   "cell_type": "code",
   "execution_count": 17,
   "metadata": {},
   "outputs": [
    {
     "data": {
      "text/html": [
       "<div>\n",
       "<style scoped>\n",
       "    .dataframe tbody tr th:only-of-type {\n",
       "        vertical-align: middle;\n",
       "    }\n",
       "\n",
       "    .dataframe tbody tr th {\n",
       "        vertical-align: top;\n",
       "    }\n",
       "\n",
       "    .dataframe thead th {\n",
       "        text-align: right;\n",
       "    }\n",
       "</style>\n",
       "<table border=\"1\" class=\"dataframe\">\n",
       "  <thead>\n",
       "    <tr style=\"text-align: right;\">\n",
       "      <th></th>\n",
       "      <th>platform</th>\n",
       "      <th>sales_year</th>\n",
       "      <th>genre</th>\n",
       "      <th>online</th>\n",
       "      <th>offline</th>\n",
       "      <th>critic_score</th>\n",
       "      <th>user_score</th>\n",
       "      <th>rating</th>\n",
       "      <th>game_id</th>\n",
       "      <th>total_sales</th>\n",
       "    </tr>\n",
       "  </thead>\n",
       "  <tbody>\n",
       "    <tr>\n",
       "      <td>0</td>\n",
       "      <td>PS3</td>\n",
       "      <td>2017</td>\n",
       "      <td>Action</td>\n",
       "      <td>702</td>\n",
       "      <td>909</td>\n",
       "      <td>97.00</td>\n",
       "      <td>8.20</td>\n",
       "      <td>M</td>\n",
       "      <td>20838</td>\n",
       "      <td>1611</td>\n",
       "    </tr>\n",
       "    <tr>\n",
       "      <td>9</td>\n",
       "      <td>PS4</td>\n",
       "      <td>2018</td>\n",
       "      <td>Action</td>\n",
       "      <td>396</td>\n",
       "      <td>631</td>\n",
       "      <td>97.00</td>\n",
       "      <td>8.30</td>\n",
       "      <td>M</td>\n",
       "      <td>28618</td>\n",
       "      <td>1027</td>\n",
       "    </tr>\n",
       "    <tr>\n",
       "      <td>44</td>\n",
       "      <td>XOne</td>\n",
       "      <td>2018</td>\n",
       "      <td>Action</td>\n",
       "      <td>281</td>\n",
       "      <td>219</td>\n",
       "      <td>97.00</td>\n",
       "      <td>7.90</td>\n",
       "      <td>M</td>\n",
       "      <td>39055</td>\n",
       "      <td>500</td>\n",
       "    </tr>\n",
       "    <tr>\n",
       "      <td>1</td>\n",
       "      <td>X360</td>\n",
       "      <td>2017</td>\n",
       "      <td>Action</td>\n",
       "      <td>966</td>\n",
       "      <td>514</td>\n",
       "      <td>97.00</td>\n",
       "      <td>8.10</td>\n",
       "      <td>M</td>\n",
       "      <td>48673</td>\n",
       "      <td>1480</td>\n",
       "    </tr>\n",
       "    <tr>\n",
       "      <td>19</td>\n",
       "      <td>X360</td>\n",
       "      <td>2017</td>\n",
       "      <td>Role-Playing</td>\n",
       "      <td>505</td>\n",
       "      <td>279</td>\n",
       "      <td>96.00</td>\n",
       "      <td>8.40</td>\n",
       "      <td>M</td>\n",
       "      <td>29673</td>\n",
       "      <td>784</td>\n",
       "    </tr>\n",
       "  </tbody>\n",
       "</table>\n",
       "</div>"
      ],
      "text/plain": [
       "   platform  sales_year         genre  online  offline  critic_score  \\\n",
       "0       PS3        2017        Action     702      909         97.00   \n",
       "9       PS4        2018        Action     396      631         97.00   \n",
       "44     XOne        2018        Action     281      219         97.00   \n",
       "1      X360        2017        Action     966      514         97.00   \n",
       "19     X360        2017  Role-Playing     505      279         96.00   \n",
       "\n",
       "    user_score rating  game_id  total_sales  \n",
       "0         8.20      M    20838         1611  \n",
       "9         8.30      M    28618         1027  \n",
       "44        7.90      M    39055          500  \n",
       "1         8.10      M    48673         1480  \n",
       "19        8.40      M    29673          784  "
      ]
     },
     "metadata": {},
     "output_type": "display_data"
    },
    {
     "data": {
      "text/html": [
       "<div>\n",
       "<style scoped>\n",
       "    .dataframe tbody tr th:only-of-type {\n",
       "        vertical-align: middle;\n",
       "    }\n",
       "\n",
       "    .dataframe tbody tr th {\n",
       "        vertical-align: top;\n",
       "    }\n",
       "\n",
       "    .dataframe thead th {\n",
       "        text-align: right;\n",
       "    }\n",
       "</style>\n",
       "<table border=\"1\" class=\"dataframe\">\n",
       "  <thead>\n",
       "    <tr style=\"text-align: right;\">\n",
       "      <th></th>\n",
       "      <th>platform</th>\n",
       "      <th>sales_year</th>\n",
       "      <th>genre</th>\n",
       "      <th>online</th>\n",
       "      <th>offline</th>\n",
       "      <th>critic_score</th>\n",
       "      <th>user_score</th>\n",
       "      <th>rating</th>\n",
       "      <th>game_id</th>\n",
       "      <th>total_sales</th>\n",
       "    </tr>\n",
       "  </thead>\n",
       "  <tbody>\n",
       "    <tr>\n",
       "      <td>2121</td>\n",
       "      <td>X360</td>\n",
       "      <td>2017</td>\n",
       "      <td>Sports</td>\n",
       "      <td>8</td>\n",
       "      <td>3</td>\n",
       "      <td>21.00</td>\n",
       "      <td>5.00</td>\n",
       "      <td>T</td>\n",
       "      <td>18203</td>\n",
       "      <td>11</td>\n",
       "    </tr>\n",
       "    <tr>\n",
       "      <td>2415</td>\n",
       "      <td>XOne</td>\n",
       "      <td>2015</td>\n",
       "      <td>Sports</td>\n",
       "      <td>3</td>\n",
       "      <td>5</td>\n",
       "      <td>20.00</td>\n",
       "      <td>3.10</td>\n",
       "      <td>E</td>\n",
       "      <td>42977</td>\n",
       "      <td>8</td>\n",
       "    </tr>\n",
       "    <tr>\n",
       "      <td>2127</td>\n",
       "      <td>PS4</td>\n",
       "      <td>2015</td>\n",
       "      <td>Sports</td>\n",
       "      <td>4</td>\n",
       "      <td>6</td>\n",
       "      <td>19.00</td>\n",
       "      <td>3.40</td>\n",
       "      <td>E</td>\n",
       "      <td>12797</td>\n",
       "      <td>10</td>\n",
       "    </tr>\n",
       "    <tr>\n",
       "      <td>2812</td>\n",
       "      <td>X360</td>\n",
       "      <td>2017</td>\n",
       "      <td>Racing</td>\n",
       "      <td>4</td>\n",
       "      <td>1</td>\n",
       "      <td>19.00</td>\n",
       "      <td>1.30</td>\n",
       "      <td>M</td>\n",
       "      <td>11902</td>\n",
       "      <td>5</td>\n",
       "    </tr>\n",
       "    <tr>\n",
       "      <td>3026</td>\n",
       "      <td>PS3</td>\n",
       "      <td>2017</td>\n",
       "      <td>Racing</td>\n",
       "      <td>2</td>\n",
       "      <td>1</td>\n",
       "      <td>13.00</td>\n",
       "      <td>1.00</td>\n",
       "      <td>M</td>\n",
       "      <td>28618</td>\n",
       "      <td>3</td>\n",
       "    </tr>\n",
       "  </tbody>\n",
       "</table>\n",
       "</div>"
      ],
      "text/plain": [
       "     platform  sales_year   genre  online  offline  critic_score  user_score  \\\n",
       "2121     X360        2017  Sports       8        3         21.00        5.00   \n",
       "2415     XOne        2015  Sports       3        5         20.00        3.10   \n",
       "2127      PS4        2015  Sports       4        6         19.00        3.40   \n",
       "2812     X360        2017  Racing       4        1         19.00        1.30   \n",
       "3026      PS3        2017  Racing       2        1         13.00        1.00   \n",
       "\n",
       "     rating  game_id  total_sales  \n",
       "2121      T    18203           11  \n",
       "2415      E    42977            8  \n",
       "2127      E    12797           10  \n",
       "2812      M    11902            5  \n",
       "3026      M    28618            3  "
      ]
     },
     "execution_count": 17,
     "metadata": {},
     "output_type": "execute_result"
    }
   ],
   "source": [
    "display(df_games.sort_values(by='critic_score', ascending=False).head())\n",
    "df_games.sort_values(by='critic_score', ascending=False, na_position='first').tail()"
   ]
  },
  {
   "cell_type": "markdown",
   "metadata": {},
   "source": [
    "**Вывод:** По мнению критиков лучшие игры (их 4 и они имеют одинаковый рейтинг 97) с id-20838, 28618, 39055, 48673, причем все указанные игры в жанре Action. Ни одна из игр TOP-5 не совпадает с играми из аналогичного пользовательского рейтинга.\n",
    "Худшая игра (с рейтингом 1)- id-28618 в жанре Racing платформа PS3. Тут мнение критиков и пользователей почти совпадает, игра числится в худших и у пользователей.\n",
    "И в пользовательском рейтинге и в рейтинге критиков худшие игры относятся к жанрам Sports и Racing."
   ]
  },
  {
   "cell_type": "markdown",
   "metadata": {},
   "source": [
    "#### Корреляция между оценками критиков и пользовательскими оценками."
   ]
  },
  {
   "cell_type": "code",
   "execution_count": 18,
   "metadata": {},
   "outputs": [
    {
     "name": "stdout",
     "output_type": "stream",
     "text": [
      "Коэф. корреляции между оценками критиков и пользователей: 0.53\n"
     ]
    }
   ],
   "source": [
    "print('Коэф. корреляции между оценками критиков и пользователей: {:.2f}'\n",
    "      .format(df_games['user_score'].corr(df_games['critic_score'])))"
   ]
  },
  {
   "cell_type": "markdown",
   "metadata": {},
   "source": [
    "**Вывод:** коэффициент корреляции между оценками критиков и пользователей составляет - 0.53 - средний уровень положительной связи  (по шкале Чеддока средний уровень лежит в диапазоне 0.5 - 0.7). Уровнем связи такой силы можно пренебречь. Целесообразно рассматривать оценки пользователей и критиков отдельно."
   ]
  },
  {
   "cell_type": "markdown",
   "metadata": {},
   "source": [
    "## Шаг 4. Портрет пользователя для онлайн и офлайн продаж"
   ]
  },
  {
   "cell_type": "markdown",
   "metadata": {},
   "source": [
    "Для покупателей интернет-магазина и сети розничных магазинов определите:\n",
    "1. топ-5 предпочтительных жанров\n",
    "2. в какие года пользователи были наиболее активны (больше всего покупали игры)\n",
    "3. топ-5 предпочтительных платформ\n",
    "4. какой рейтинг ESRB встречается чаще всего (наиболее частотная категория)"
   ]
  },
  {
   "cell_type": "markdown",
   "metadata": {},
   "source": [
    "#### TOП-5  жанров для покупателей интернет-магазина и сети розничных магазинов "
   ]
  },
  {
   "cell_type": "code",
   "execution_count": 19,
   "metadata": {},
   "outputs": [
    {
     "name": "stdout",
     "output_type": "stream",
     "text": [
      "ТОП-5 жанров в интернет магазине\n"
     ]
    },
    {
     "data": {
      "text/plain": [
       "genre\n",
       "Action          23088\n",
       "Shooter         19443\n",
       "Sports          10866\n",
       "Role-Playing     8377\n",
       "Misc             6967\n",
       "Name: online, dtype: int64"
      ]
     },
     "metadata": {},
     "output_type": "display_data"
    },
    {
     "name": "stdout",
     "output_type": "stream",
     "text": [
      "ТОП-5 жанров в сети розничных магазинов\n"
     ]
    },
    {
     "data": {
      "text/plain": [
       "genre\n",
       "Action          19910\n",
       "Shooter         14798\n",
       "Sports           8847\n",
       "Role-Playing     6229\n",
       "Racing           4056\n",
       "Name: offline, dtype: int64"
      ]
     },
     "metadata": {},
     "output_type": "display_data"
    }
   ],
   "source": [
    "print('ТОП-5 жанров в интернет магазине')\n",
    "display(df_games.groupby('genre')['online'].sum().sort_values(ascending=False).head())\n",
    "print('ТОП-5 жанров в сети розничных магазинов')\n",
    "display(df_games.groupby('genre')['offline'].sum().sort_values(ascending=False).head())"
   ]
  },
  {
   "cell_type": "markdown",
   "metadata": {},
   "source": [
    "**Вывод:** По обоим каналам продаж топовый рейтинг совпадает, это жанры: Action, Shooter, Sports, Role-Playing.\n",
    "Пятое место отличается: Misc для интернет магазина, Racing в рознице."
   ]
  },
  {
   "cell_type": "markdown",
   "metadata": {},
   "source": [
    "#### В какие года пользователи были наиболее активны (больше всего покупали игры)\n",
    "Вопрос повторяет вопрос предыдущего раздела об объемах продаж по годам. Ответ соответственно тот же:\n",
    "**Вывод:** Есть тенденция к увеличению активности, но динамика скачкообразна. В 2016 было двукратное падение объема продаж по отношению к 2015г: с 20 млн. до 10 млн., затем в 2017 - почти 7 кратный скачок до 68 илн. Затем, в 2018г., вновь спад до 52 млн."
   ]
  },
  {
   "cell_type": "markdown",
   "metadata": {},
   "source": [
    "#### TOП-5 платформ для покупателей интернет-магазина и сети розничных магазинов "
   ]
  },
  {
   "cell_type": "code",
   "execution_count": 20,
   "metadata": {},
   "outputs": [
    {
     "name": "stdout",
     "output_type": "stream",
     "text": [
      "ТОП-5 платформ в интернет магазине\n"
     ]
    },
    {
     "data": {
      "text/plain": [
       "platform\n",
       "X360    22675\n",
       "PS3     16823\n",
       "PS4     10873\n",
       "XOne     9312\n",
       "3DS      8265\n",
       "Name: online, dtype: int64"
      ]
     },
     "metadata": {},
     "output_type": "display_data"
    },
    {
     "name": "stdout",
     "output_type": "stream",
     "text": [
      "ТОП-5 платформ в сети розничных магазинов\n"
     ]
    },
    {
     "data": {
      "text/plain": [
       "platform\n",
       "PS3     16307\n",
       "PS4     14106\n",
       "X360    11709\n",
       "3DS      6126\n",
       "PC       5669\n",
       "Name: offline, dtype: int64"
      ]
     },
     "metadata": {},
     "output_type": "display_data"
    }
   ],
   "source": [
    "print('ТОП-5 платформ в интернет магазине')\n",
    "display(df_games.groupby('platform')['online'].sum().sort_values(ascending=False).head())\n",
    "print('ТОП-5 платформ в сети розничных магазинов')\n",
    "display(df_games.groupby('platform')['offline'].sum().sort_values(ascending=False).head())"
   ]
  },
  {
   "cell_type": "markdown",
   "metadata": {},
   "source": [
    "**Вывод:** Самая популярная платформа онлайн продаж - X360, оффлайн - PS3. \n",
    "TOP-3 платформы совпадают и для онлайн и оффлайн продаж, это: X360 и PS3, PS4. \n",
    "4-5 места в интернет магазине занимают платформы XOne и 3DS, в рознице 3DS и PC."
   ]
  },
  {
   "cell_type": "markdown",
   "metadata": {},
   "source": [
    "#### Какой рейтинг ESRB встречается чаще всего (наиболее частотная категория)"
   ]
  },
  {
   "cell_type": "code",
   "execution_count": 21,
   "metadata": {},
   "outputs": [
    {
     "data": {
      "text/html": [
       "<div>\n",
       "<style scoped>\n",
       "    .dataframe tbody tr th:only-of-type {\n",
       "        vertical-align: middle;\n",
       "    }\n",
       "\n",
       "    .dataframe tbody tr th {\n",
       "        vertical-align: top;\n",
       "    }\n",
       "\n",
       "    .dataframe thead th {\n",
       "        text-align: right;\n",
       "    }\n",
       "</style>\n",
       "<table border=\"1\" class=\"dataframe\">\n",
       "  <thead>\n",
       "    <tr style=\"text-align: right;\">\n",
       "      <th></th>\n",
       "      <th>rating_type</th>\n",
       "      <th>decryption</th>\n",
       "    </tr>\n",
       "  </thead>\n",
       "  <tbody>\n",
       "    <tr>\n",
       "      <td>0</td>\n",
       "      <td>E</td>\n",
       "      <td>Для всех</td>\n",
       "    </tr>\n",
       "    <tr>\n",
       "      <td>1</td>\n",
       "      <td>M</td>\n",
       "      <td>От 17 лет</td>\n",
       "    </tr>\n",
       "    <tr>\n",
       "      <td>2</td>\n",
       "      <td>T</td>\n",
       "      <td>Подросткам 13—19 лет</td>\n",
       "    </tr>\n",
       "    <tr>\n",
       "      <td>3</td>\n",
       "      <td>E10+</td>\n",
       "      <td>Для всех старше 10 лет</td>\n",
       "    </tr>\n",
       "    <tr>\n",
       "      <td>4</td>\n",
       "      <td>K-A</td>\n",
       "      <td>Для всех(до 1998 года)</td>\n",
       "    </tr>\n",
       "    <tr>\n",
       "      <td>5</td>\n",
       "      <td>AO</td>\n",
       "      <td>Только для взрослых</td>\n",
       "    </tr>\n",
       "    <tr>\n",
       "      <td>6</td>\n",
       "      <td>EC</td>\n",
       "      <td>Для детей младшего возраста</td>\n",
       "    </tr>\n",
       "    <tr>\n",
       "      <td>7</td>\n",
       "      <td>RP</td>\n",
       "      <td>Рейтинг ожидается</td>\n",
       "    </tr>\n",
       "  </tbody>\n",
       "</table>\n",
       "</div>"
      ],
      "text/plain": [
       "  rating_type                   decryption\n",
       "0           E                     Для всех\n",
       "1           M                    От 17 лет\n",
       "2           T         Подросткам 13—19 лет\n",
       "3        E10+       Для всех старше 10 лет\n",
       "4         K-A       Для всех(до 1998 года)\n",
       "5          AO          Только для взрослых\n",
       "6          EC  Для детей младшего возраста\n",
       "7          RP            Рейтинг ожидается"
      ]
     },
     "metadata": {},
     "output_type": "display_data"
    },
    {
     "data": {
      "text/plain": [
       "M      26.87\n",
       "E      26.74\n",
       "T      26.61\n",
       "E10+   19.70\n",
       "EC      0.04\n",
       "RP      0.04\n",
       "Name: rating, dtype: float64"
      ]
     },
     "execution_count": 21,
     "metadata": {},
     "output_type": "execute_result"
    }
   ],
   "source": [
    "display(df_esrb)\n",
    "df_games['rating'].value_counts(normalize=True) *100"
   ]
  },
  {
   "cell_type": "markdown",
   "metadata": {},
   "source": [
    "**Вывод:** 80% игр в равных долях (по 27%) имеют один из рейтингов: Е, М, Т (соответственно: Е - Для всех\n",
    ", M - От 17 лет, T - Подросткам 13—19 лет). 19,7% приходится на игры с рейтингом E10+ - Для всех старше 10 лет. Распространение игр с остальными рейтингами ESRB близко к 0."
   ]
  },
  {
   "cell_type": "markdown",
   "metadata": {},
   "source": [
    "#### Распределение продаж по платформам и жанру (дополнительно)"
   ]
  },
  {
   "cell_type": "code",
   "execution_count": 22,
   "metadata": {},
   "outputs": [
    {
     "data": {
      "image/png": "[encoded data removed]",
      "text/plain": [
       "<Figure size 864x720 with 2 Axes>"
      ]
     },
     "metadata": {
      "needs_background": "light"
     },
     "output_type": "display_data"
    }
   ],
   "source": [
    "fig, axs=plt.subplots(1, 1, figsize=(12,10))\n",
    "sns.heatmap(df_games\n",
    "            .pivot_table(index='platform', columns='genre', values='total_sales', aggfunc=sum).fillna(0), \n",
    "            annot=True, fmt=\".0f\", linewidths=.1, square=True , ax=axs, vmin=1000, vmax =5000);"
   ]
  },
  {
   "cell_type": "markdown",
   "metadata": {},
   "source": [
    "**Вывод:** Есть выраженные лидеры популярности по платформам и жанрам, причем популярные жанры (Action, Shooter, Sports) совпадают для основных платформ (PS4, PC3, X360). Есть жанры популярность которых особенно выражена на отдельных платформах, своего рода \"специализация\": Misc для Wii и RolePlaying для 3DS."
   ]
  },
  {
   "cell_type": "markdown",
   "metadata": {},
   "source": [
    "## Шаг 5. Проверка гипотез"
   ]
  },
  {
   "cell_type": "markdown",
   "metadata": {},
   "source": [
    "**Проверьте гипотезы:**\n",
    "1. средний пользовательский рейтинг платформ PS2 и PS3 одинаковый;\n",
    "2. средний пользовательский рейтинг жанров Action и Sports различается.\n",
    "***\n",
    "Пороговое значение alpha задайте самостоятельно.\n",
    "Поясните:\n",
    "как вы формулировали нулевую и альтернативную гипотезы;\n",
    "какой критерий использовали для проверки гипотез и почему."
   ]
  },
  {
   "cell_type": "markdown",
   "metadata": {},
   "source": [
    "#### Сравнение пользовательского рейтинга платформ PS2 и PS3"
   ]
  },
  {
   "cell_type": "markdown",
   "metadata": {},
   "source": [
    "**Гипотеза:**\n",
    "***\n",
    "**H0:** средний пользовательский рейтинг платформ PS2 и PS3 равны;\n",
    "**H1:** средний пользовательский рейтинг платформ PS2 и PS3 различается.\n",
    "***\n",
    "Пороговое значение alpha = 0,05"
   ]
  },
  {
   "cell_type": "markdown",
   "metadata": {},
   "source": [
    "Проверяем число записей доступных для анализа:"
   ]
  },
  {
   "cell_type": "code",
   "execution_count": 23,
   "metadata": {},
   "outputs": [
    {
     "name": "stdout",
     "output_type": "stream",
     "text": [
      "Количество игр имеющих рейтинг для PS2: 3\n"
     ]
    }
   ],
   "source": [
    "print('Количество игр имеющих рейтинг для PS2:',\n",
    "df_games.loc[df_games['platform'] == 'PS2'].loc[df_games['user_score'].isnull() == False, 'user_score'].shape[0]\n",
    "     )"
   ]
  },
  {
   "cell_type": "code",
   "execution_count": 24,
   "metadata": {},
   "outputs": [
    {
     "name": "stdout",
     "output_type": "stream",
     "text": [
      "Количество игр имеющих рейтинг для PS3: 417\n"
     ]
    }
   ],
   "source": [
    "print('Количество игр имеющих рейтинг для PS3:',\n",
    "df_games.loc[df_games['platform'] == 'PS3'].loc[df_games['user_score'].isnull() == False, 'user_score'].shape[0]\n",
    "     )"
   ]
  },
  {
   "cell_type": "markdown",
   "metadata": {},
   "source": [
    "Для проверки гипотезы использум t-критерий Стьюдента для индивидуальных выборок:"
   ]
  },
  {
   "cell_type": "code",
   "execution_count": 25,
   "metadata": {},
   "outputs": [
    {
     "name": "stdout",
     "output_type": "stream",
     "text": [
      "t-критерий Стьюдента: -0.7464554470149002  Уровень значимости критерия: 0.45581194981839523\n"
     ]
    }
   ],
   "source": [
    "# проверяем ряды по t-критерию Стьюдента\n",
    "# нулевые значения пользовательского рейтинга при анализе отбрасываем\n",
    "u, p_value = st.ttest_ind(\n",
    "    df_games.loc[df_games['platform'] == 'PS2'].loc[df_games['user_score'].isnull() == False, 'user_score'], \n",
    "    df_games.loc[df_games['platform'] == 'PS3'].loc[df_games['user_score'].isnull() == False, 'user_score'],\n",
    "    equal_var = True)\n",
    "print('t-критерий Стьюдента:', u, ' Уровень значимости критерия:', p_value)"
   ]
  },
  {
   "cell_type": "markdown",
   "metadata": {},
   "source": [
    "**Вывод:** Расчетный уровень значимости t-критерия Стьюдента 45% при принятом пороговом значении 5%. Нулевая гипотеза не может быть отвергнута: **средний пользовательский рейтинг платформ PS2 и PS3 равны**."
   ]
  },
  {
   "cell_type": "markdown",
   "metadata": {},
   "source": [
    "#### Сравнение пользовательского рейтинга жанров Action и Sports"
   ]
  },
  {
   "cell_type": "markdown",
   "metadata": {},
   "source": [
    "**Гипотеза:**\n",
    "***\n",
    "**H0:** средний пользовательский рейтинг жанров Action и Sports равны;\n",
    "**H1:** средний пользовательский рейтинг жанров Action и Sports различается.\n",
    "***\n",
    "Пороговое значение alpha = 0,05"
   ]
  },
  {
   "cell_type": "code",
   "execution_count": 26,
   "metadata": {},
   "outputs": [
    {
     "name": "stdout",
     "output_type": "stream",
     "text": [
      "Тест дАгостино на соответствие выборки нормальному закону распределения:\n",
      "Жанр Actions: NormaltestResult(statistic=89.63526239294482, pvalue=3.4351845940767393e-20)\n",
      "Жанр Sports: NormaltestResult(statistic=17.021782939683874, pvalue=0.0002012643238392333)\n"
     ]
    }
   ],
   "source": [
    "# тест д'Агостино на соответствие распределения нормальному\n",
    "# ключ nan_policy='omit' игнорирует пропущенные значения в выборке при расчете\n",
    "print('Тест д''Агостино на соответствие выборки нормальному закону распределения:')\n",
    "print('Жанр Actions:', st.normaltest(df_games.loc[df_games['genre'] == 'Action'].user_score, nan_policy='omit'))\n",
    "print('Жанр Sports:', st.normaltest(df_games.loc[df_games['genre'] == 'Sports'].user_score, nan_policy='omit'))"
   ]
  },
  {
   "cell_type": "markdown",
   "metadata": {},
   "source": [
    "Гипотеза о соответсвии выборок нормальному распределению не подтвердилась. \n",
    "Для проверки нулевой гипотезы использем критерий Манна-Уитни."
   ]
  },
  {
   "cell_type": "code",
   "execution_count": 27,
   "metadata": {},
   "outputs": [
    {
     "name": "stdout",
     "output_type": "stream",
     "text": [
      "U-критерий Манна — Уитни: 48232.5  Уровень значимости критерия: 1.0620319622580433e-21\n"
     ]
    }
   ],
   "source": [
    "u, p_value = st.mannwhitneyu(\n",
    "    df_games.loc[df_games['genre'] == 'Action'].loc[df_games['user_score'].isnull() == False, 'user_score'],\n",
    "    df_games.loc[df_games['genre'] == 'Sports'].loc[df_games['user_score'].isnull() == False, 'user_score'])\n",
    "print('U-критерий Манна — Уитни:', u, ' Уровень значимости критерия:', p_value)"
   ]
  },
  {
   "cell_type": "markdown",
   "metadata": {},
   "source": [
    "**Вывод** Уровень значимости составил 1e-21 при пороговом 0.05, нулевую гипотезу отвергаем. Принимаем альтернативную гипотезу: **средний пользовательский рейтинг жанров Action и Sports различаются**."
   ]
  },
  {
   "cell_type": "markdown",
   "metadata": {},
   "source": [
    "## Шаг 6. Общий вывод"
   ]
  },
  {
   "cell_type": "markdown",
   "metadata": {},
   "source": [
    "**Рейтинг игр составленный пользователями и составленный экспертами не имеют значимого уровня корреляции между собой (уровень 0.53). Топовые игры по мнению экспертов и по мнению пользователей также отличаются.\n",
    "***\n",
    "Динамика продаж имеет скачкообразный характер по годам, но в целом растет: с 20 млн. в 2015, до 52млн. в 2018. С 2017 года большая часть продаж идет через интернет магазин. Доля продаж для игр без рейтинга снижается и составила 15% в 2018г. 75% игр имеют продажи до 100 тысяч экземпляров, при этом есть игры продажи которых исчисляются миллионами экзепляров.\n",
    "***\n",
    "Самые популярные платформы для всех каналов продаж  X360, PS3, PS4. На самых популярных платформах самые востребованные жанры совпадают, это: Action, Shooter, Sports, Role-Playing. Если брать общую структуру продаж по всем платформам, то жанр Role-Playing будет на втором месте.\n",
    "***\n",
    "Выявлены жанры, популярность которых особенно выражена на отдельных платформах, своего рода \"специализация\": Misc для Wii и RolePlaying для 3DS.\n",
    "***\n",
    "Рейтинг ESRB: 80% игр в равных долях (по 27%) имеют один из рейтингов: Е, М, Т (соответственно: Е - Для всех\n",
    ", M - От 17 лет, T - Подросткам 13—19 лет). 19,7% приходится на игры с рейтингом E10+ - Для всех старше 10 лет. Распространение игр с остальными рейтингами ESRB близко к 0.\n",
    "***\n",
    "Проверка гипотезы о равенстве среднего пользовательского рейтинга платформ PS2 и PS3  статистическими методами невозможна по предоставленному массиву данных.\n",
    "***\n",
    "Гипотеза о различии среднего пользовательского рейтинга жанров Action и Sports возможно верна.\n",
    "***\n",
    "**H0:** средний пользовательский рейтинг жанров Action и Sports равны;\n",
    "**H1:** средний пользовательский рейтинг жанров Action и Sports различается.\n",
    "Уровень значимости составил 1e-21 при пороговом 0.05, нулевая гипотеза отвергнута. "
   ]
  },
  {
   "cell_type": "markdown",
   "metadata": {},
   "source": [
    "#### Промежуточные выводы по разделам:"
   ]
  },
  {
   "cell_type": "markdown",
   "metadata": {},
   "source": [
    "#### Шаг 3. Исследовательский анализ данных\n",
    "***\n",
    "1. Распределение количества игр по годам продажи \n",
    "**Вывод:** количество игр достигло максимума в 2017г.: 1700 игр против 600 в 2015г. \n",
    "В 2018 произошло небольшое снижение количества игр - до 1200.\n",
    "***\n",
    "2. Распределение по годам продажи для игр с отзывом и без отзыва\n",
    "**Вывод:** Есть тенденция к увеличению объемов продаж, но их динамика скачкообразна. В 2016 было двукратное падение объема продаж по отношению к 2015г: с 20 млн. до 10 млн., затем в 2017 - почти 7 кратный скачок до 68 илн. Затем, в 2018г., вновь спад до 52 млн. С 2017г объем онлайн продаж превышает продажи оффлайн, до этого момента они были практически равны.\n",
    "**Гистограмма продаж похожа на гистограмму количества игр.**\n",
    "***\n",
    "3. График продаж по каждому году\n",
    "**Вывод:** Наибольшая доля продаваемых игр без рейтинга была в 2015 г. - 28%, с 2016 их доля снизилась и находится в диапазоне 13 - 17% от общего количества.\n",
    "***\n",
    "4. \"Ящик с усами\" по общим продажам\n",
    "**Вывод:** 75% игр имеют продажи до 100 тысяч экземпляров, при этом есть игры продажи которых исчисляются миллионами экзепляров.\n",
    "***\n",
    "5. Платформа где было продано больше всего игр\n",
    "**Вывод:** по объемам продаж лидируют игры для платформы X360 - 34 384 тыс.шт., с небольшим отрывом идет PS3 - 33 130 тыс.шт. и  третье место у PS4 - 24 979 тыс.шт.\n",
    "***\n",
    "6. Игр какого жанра больше всего?\n",
    "**Вывод:** с большим отрывом лидируют продажи игр жанра 'Action' - 1270 тыс.шт., второе место 'Role-Playing' - 467 тыс.шт., и завершают пятерку 'Adventure', 'Sports', 'Misc' с продажами 410, 389 и 375 тыс.шт. соответственно.\n",
    "***\n",
    "7. Игры с наибольшей и наименьшей оценкой от пользователей\n",
    "**Вывод:** По мнению пользователей лучшие игры (имеют равный рейтинг 9.3) это игра id-38270 в жанре Adventure на платформе PSV и id-12365 в жанре Role-Playing на платформе PС, худшая ( с рейтингом 0.2)- id-23493 в жанре Sports платформа PS3.\n",
    "Все TOP-5 игр в пользовательском рейтинге имеют жанр или Adventure или Role-Playing.\n",
    "\n",
    "8. Найдите игры с наибольшей и наименьшей оценкой от критиков\n",
    "**Вывод:** По мнению критиков лучшие игры (их 4 и они имеют одинаковый рейтинг 97) с id-20838, 28618, 39055, 48673, причем все указанные игры в жанре Action. Ни одна из игр TOP-5 не совпадает с играми из аналогичного пользовательского рейтинга.\n",
    "Худшая игра (с рейтингом 1)- id-28618 в жанре Racing платформа PS3. Тут мнение критиков и пользователей почти совпадает, игра числится в худших и у пользователей.\n",
    "И в пользовательском рейтинге и в рейтинге критиков худшие игры относятся к жанрам Sports и Racing.\n",
    "***\n",
    "9. Оцените корреляцию между оценками критиков и пользовательскими оценками.\n",
    "**Вывод:** коэффициент корреляции между оценками критиков и пользователей составляет - 0.53 - средний уровень положительной связи  (по шкале Чеддока средний уровень лежит в диапазоне 0.5 - 0.7). Уровнем связи такой силы можно пренебречь. Целесообразно рассматривать оценки пользователей и критиков отдельно."
   ]
  },
  {
   "cell_type": "markdown",
   "metadata": {},
   "source": [
    "#### Шаг 4. Портрет пользователя для онлайн и офлайн продаж¶\n",
    "1. Топ-5 предпочтительных жанров\n",
    "**Вывод:** По обоим каналам продаж топовый рейтинг совпадает, это жанры: Action, Shooter, Sports, Role-Playing.\n",
    "Пятое место отличается: Misc для интернет магазина, Racing в рознице.\n",
    "\n",
    "2. В какие года пользователи были наиболее активны (больше всего покупали игры)\n",
    "Вопрос повторяет вопрос предыдущего раздела об объемах продаж по годам. Ответ соответственно тот же:\n",
    "**Вывод:** Есть тенденция к увеличению активности, но динамика скачкообразна. В 2016 было двукратное падение объема продаж по отношению к 2015г: с 20 млн. до 10 млн., затем в 2017 - почти 7 кратный скачок до 68 илн. Затем, в 2018г., вновь спад до 52 млн.\n",
    "\n",
    "3. Топ-5 предпочтительных платформ\n",
    "**Вывод:** Самая популярная платформа онлайн продаж - X360, оффлайн - PS3. \n",
    "TOP-3 платформы совпадают и для онлайн и оффлайн продаж, это: X360 и PS3, PS4. \n",
    "4-5 места в интернет магазине занимают платформы XOne и 3DS, в рознице 3DS и PC.\n",
    "\n",
    "4. Какой рейтинг ESRB встречается чаще всего (наиболее частотная категория)\n",
    "**Вывод:** 80% игр в равных долях (по 27%) имеют один из рейтингов: Е, М, Т (соответственно: Е - Для всех\n",
    ", M - От 17 лет, T - Подросткам 13—19 лет). 19,7% приходится на игры с рейтингом E10+ - Для всех старше 10 лет. Распространение игр с остальными рейтингами ESRB близко к 0.\n",
    "\n",
    "5. Распределение продаж по платформам и жанру (дополнительно)\n",
    "**Вывод:** Есть выраженные лидеры популярности по платформам и жанрам, причем популярные жанры (Action, Shooter, Sports) совпадают для основных платформ (PS4, PC3, X360). Есть жанры популярность которых особенно выражена на отдельных платформах, своего рода \"специализация\": Misc для Wii и RolePlaying для 3DS."
   ]
  },
  {
   "cell_type": "markdown",
   "metadata": {},
   "source": [
    "#### **Шаг 5. Проверка гипотез**\n",
    "***\n",
    "**1.\tСредний пользовательский рейтинг платформ PS2 и PS3 одинаковый;**\n",
    "**Гипотеза:**\n",
    "***\n",
    "**H0:** средний пользовательский рейтинг платформ PS2 и PS3 равны;\n",
    "**H1:** средний пользовательский рейтинг платформ PS2 и PS3 различается.\n",
    "***\n",
    "**Вывод: Средний пользовательский рейтинг платформ PS2 и PS3 равны** Расчетный уровень значимости t-критерия Стьюдента 45% при принятом пороговом значении 5%. Нулевая гипотеза не может быть отвергнута.\n",
    "***\n",
    "**2. Средний пользовательский рейтинг жанров Action и Sports различается.**\n",
    "**Гипотеза:**\n",
    "***\n",
    "**H0:** средний пользовательский рейтинг жанров Action и Sports равны;\n",
    "**H1:** средний пользовательский рейтинг жанров Action и Sports различается.\n",
    "***\n",
    "**Вывод: Средний пользовательский рейтинг жанров Action и Sports различаются**\n",
    "Уровень значимости составил 1e-21 при пороговом 0.05, нулевую гипотезу отвергаем. Принимаем альтернативную гипотезу Н1."
   ]
  }
 ],
 "metadata": {
  "kernelspec": {
   "display_name": "Python 3",
   "language": "python",
   "name": "python3"
  },
  "language_info": {
   "codemirror_mode": {
    "name": "ipython",
    "version": 3
   },
   "file_extension": ".py",
   "mimetype": "text/x-python",
   "name": "python",
   "nbconvert_exporter": "python",
   "pygments_lexer": "ipython3",
   "version": "3.7.4"
  }
 },
 "nbformat": 4,
 "nbformat_minor": 2
}
