{
 "cells": [
  {
   "cell_type": "markdown",
   "metadata": {},
   "source": [
    "# ПРОЕКТ\n",
    "# Влияние семейного положения и количества детей у заемщика на факт возврата кредита в срок."
   ]
  },
  {
   "cell_type": "markdown",
   "metadata": {},
   "source": [
    "##### Вопросы для исследования:\n",
    "\n",
    "•\tЕсть ли зависимость между наличием детей и возвратом кредита в срок?\n",
    "•\tЕсть ли зависимость между семейным положением и возвратом кредита в срок?\n",
    "•\tЕсть ли зависимость между уровнем дохода и возвратом кредита в срок?\n",
    "•\tКак разные цели кредита влияют на его возврат в срок?\n"
   ]
  },
  {
   "cell_type": "markdown",
   "metadata": {},
   "source": [
    "##### Исходные данные:\n",
    "\n",
    "файл со статистикой по клиентам банка: '/datasets/data.csv'"
   ]
  },
  {
   "cell_type": "markdown",
   "metadata": {},
   "source": [
    "## Задание 1. Проведение исследования."
   ]
  },
  {
   "cell_type": "markdown",
   "metadata": {},
   "source": [
    "##### Импорт необходимых библиотек:"
   ]
  },
  {
   "cell_type": "code",
   "execution_count": 1,
   "metadata": {},
   "outputs": [],
   "source": [
    "import pandas as pd\n",
    "\n",
    "# импорт библиотек для лемматизации:\n",
    "from pymystem3 import Mystem\n",
    "m = Mystem()\n",
    "from collections import Counter"
   ]
  },
  {
   "cell_type": "markdown",
   "metadata": {},
   "source": [
    "Создание вспомогательных функций:"
   ]
  },
  {
   "cell_type": "code",
   "execution_count": 2,
   "metadata": {},
   "outputs": [],
   "source": [
    "# вывод основных данных \n",
    "def brief(df_columns):\n",
    "    print('Образец:')\n",
    "    print(df_columns.head())\n",
    "    print('основные характеристики:')\n",
    "    print('Минимум:', df_columns.min())\n",
    "    print('Максимум:', df_columns.max())\n",
    "    print('Среднее:', df_columns.mean())\n",
    "    print('Медиана:', df_columns.median())\n",
    "    print('Количество пропусков:', df_borrowers[column].isna().sum()) # похоже, что здесь нужно переименовать переменную\n"
   ]
  },
  {
   "cell_type": "markdown",
   "metadata": {},
   "source": [
    "### Шаг 1. Открытие файла с данными и изучение общей информации\n",
    "\n",
    "Загрузка исходного файла с данными:"
   ]
  },
  {
   "cell_type": "code",
   "execution_count": 3,
   "metadata": {},
   "outputs": [],
   "source": [
    "df_borrowers = pd.read_csv('/datasets/data.csv')"
   ]
  },
  {
   "cell_type": "markdown",
   "metadata": {},
   "source": [
    "#### Просмотр данных, их первичная оценка и формат полей:"
   ]
  },
  {
   "cell_type": "code",
   "execution_count": 4,
   "metadata": {},
   "outputs": [
    {
     "name": "stdout",
     "output_type": "stream",
     "text": [
      "<class 'pandas.core.frame.DataFrame'>\n",
      "RangeIndex: 21525 entries, 0 to 21524\n",
      "Data columns (total 12 columns):\n",
      "children            21525 non-null int64\n",
      "days_employed       19351 non-null float64\n",
      "dob_years           21525 non-null int64\n",
      "education           21525 non-null object\n",
      "education_id        21525 non-null int64\n",
      "family_status       21525 non-null object\n",
      "family_status_id    21525 non-null int64\n",
      "gender              21525 non-null object\n",
      "income_type         21525 non-null object\n",
      "debt                21525 non-null int64\n",
      "total_income        19351 non-null float64\n",
      "purpose             21525 non-null object\n",
      "dtypes: float64(2), int64(5), object(5)\n",
      "memory usage: 2.0+ MB\n"
     ]
    }
   ],
   "source": [
    "df_borrowers.info()"
   ]
  },
  {
   "cell_type": "code",
   "execution_count": 5,
   "metadata": {},
   "outputs": [
    {
     "data": {
      "text/html": [
       "<div>\n",
       "<style scoped>\n",
       "    .dataframe tbody tr th:only-of-type {\n",
       "        vertical-align: middle;\n",
       "    }\n",
       "\n",
       "    .dataframe tbody tr th {\n",
       "        vertical-align: top;\n",
       "    }\n",
       "\n",
       "    .dataframe thead th {\n",
       "        text-align: right;\n",
       "    }\n",
       "</style>\n",
       "<table border=\"1\" class=\"dataframe\">\n",
       "  <thead>\n",
       "    <tr style=\"text-align: right;\">\n",
       "      <th></th>\n",
       "      <th>children</th>\n",
       "      <th>days_employed</th>\n",
       "      <th>dob_years</th>\n",
       "      <th>education</th>\n",
       "      <th>education_id</th>\n",
       "      <th>family_status</th>\n",
       "      <th>family_status_id</th>\n",
       "      <th>gender</th>\n",
       "      <th>income_type</th>\n",
       "      <th>debt</th>\n",
       "      <th>total_income</th>\n",
       "      <th>purpose</th>\n",
       "    </tr>\n",
       "  </thead>\n",
       "  <tbody>\n",
       "    <tr>\n",
       "      <th>0</th>\n",
       "      <td>1</td>\n",
       "      <td>-8437.673028</td>\n",
       "      <td>42</td>\n",
       "      <td>высшее</td>\n",
       "      <td>0</td>\n",
       "      <td>женат / замужем</td>\n",
       "      <td>0</td>\n",
       "      <td>F</td>\n",
       "      <td>сотрудник</td>\n",
       "      <td>0</td>\n",
       "      <td>253875.639453</td>\n",
       "      <td>покупка жилья</td>\n",
       "    </tr>\n",
       "    <tr>\n",
       "      <th>1</th>\n",
       "      <td>1</td>\n",
       "      <td>-4024.803754</td>\n",
       "      <td>36</td>\n",
       "      <td>среднее</td>\n",
       "      <td>1</td>\n",
       "      <td>женат / замужем</td>\n",
       "      <td>0</td>\n",
       "      <td>F</td>\n",
       "      <td>сотрудник</td>\n",
       "      <td>0</td>\n",
       "      <td>112080.014102</td>\n",
       "      <td>приобретение автомобиля</td>\n",
       "    </tr>\n",
       "    <tr>\n",
       "      <th>2</th>\n",
       "      <td>0</td>\n",
       "      <td>-5623.422610</td>\n",
       "      <td>33</td>\n",
       "      <td>Среднее</td>\n",
       "      <td>1</td>\n",
       "      <td>женат / замужем</td>\n",
       "      <td>0</td>\n",
       "      <td>M</td>\n",
       "      <td>сотрудник</td>\n",
       "      <td>0</td>\n",
       "      <td>145885.952297</td>\n",
       "      <td>покупка жилья</td>\n",
       "    </tr>\n",
       "    <tr>\n",
       "      <th>3</th>\n",
       "      <td>3</td>\n",
       "      <td>-4124.747207</td>\n",
       "      <td>32</td>\n",
       "      <td>среднее</td>\n",
       "      <td>1</td>\n",
       "      <td>женат / замужем</td>\n",
       "      <td>0</td>\n",
       "      <td>M</td>\n",
       "      <td>сотрудник</td>\n",
       "      <td>0</td>\n",
       "      <td>267628.550329</td>\n",
       "      <td>дополнительное образование</td>\n",
       "    </tr>\n",
       "    <tr>\n",
       "      <th>4</th>\n",
       "      <td>0</td>\n",
       "      <td>340266.072047</td>\n",
       "      <td>53</td>\n",
       "      <td>среднее</td>\n",
       "      <td>1</td>\n",
       "      <td>гражданский брак</td>\n",
       "      <td>1</td>\n",
       "      <td>F</td>\n",
       "      <td>пенсионер</td>\n",
       "      <td>0</td>\n",
       "      <td>158616.077870</td>\n",
       "      <td>сыграть свадьбу</td>\n",
       "    </tr>\n",
       "    <tr>\n",
       "      <th>5</th>\n",
       "      <td>0</td>\n",
       "      <td>-926.185831</td>\n",
       "      <td>27</td>\n",
       "      <td>высшее</td>\n",
       "      <td>0</td>\n",
       "      <td>гражданский брак</td>\n",
       "      <td>1</td>\n",
       "      <td>M</td>\n",
       "      <td>компаньон</td>\n",
       "      <td>0</td>\n",
       "      <td>255763.565419</td>\n",
       "      <td>покупка жилья</td>\n",
       "    </tr>\n",
       "    <tr>\n",
       "      <th>6</th>\n",
       "      <td>0</td>\n",
       "      <td>-2879.202052</td>\n",
       "      <td>43</td>\n",
       "      <td>высшее</td>\n",
       "      <td>0</td>\n",
       "      <td>женат / замужем</td>\n",
       "      <td>0</td>\n",
       "      <td>F</td>\n",
       "      <td>компаньон</td>\n",
       "      <td>0</td>\n",
       "      <td>240525.971920</td>\n",
       "      <td>операции с жильем</td>\n",
       "    </tr>\n",
       "    <tr>\n",
       "      <th>7</th>\n",
       "      <td>0</td>\n",
       "      <td>-152.779569</td>\n",
       "      <td>50</td>\n",
       "      <td>СРЕДНЕЕ</td>\n",
       "      <td>1</td>\n",
       "      <td>женат / замужем</td>\n",
       "      <td>0</td>\n",
       "      <td>M</td>\n",
       "      <td>сотрудник</td>\n",
       "      <td>0</td>\n",
       "      <td>135823.934197</td>\n",
       "      <td>образование</td>\n",
       "    </tr>\n",
       "    <tr>\n",
       "      <th>8</th>\n",
       "      <td>2</td>\n",
       "      <td>-6929.865299</td>\n",
       "      <td>35</td>\n",
       "      <td>ВЫСШЕЕ</td>\n",
       "      <td>0</td>\n",
       "      <td>гражданский брак</td>\n",
       "      <td>1</td>\n",
       "      <td>F</td>\n",
       "      <td>сотрудник</td>\n",
       "      <td>0</td>\n",
       "      <td>95856.832424</td>\n",
       "      <td>на проведение свадьбы</td>\n",
       "    </tr>\n",
       "    <tr>\n",
       "      <th>9</th>\n",
       "      <td>0</td>\n",
       "      <td>-2188.756445</td>\n",
       "      <td>41</td>\n",
       "      <td>среднее</td>\n",
       "      <td>1</td>\n",
       "      <td>женат / замужем</td>\n",
       "      <td>0</td>\n",
       "      <td>M</td>\n",
       "      <td>сотрудник</td>\n",
       "      <td>0</td>\n",
       "      <td>144425.938277</td>\n",
       "      <td>покупка жилья для семьи</td>\n",
       "    </tr>\n",
       "  </tbody>\n",
       "</table>\n",
       "</div>"
      ],
      "text/plain": [
       "   children  days_employed  dob_years education  education_id  \\\n",
       "0         1   -8437.673028         42    высшее             0   \n",
       "1         1   -4024.803754         36   среднее             1   \n",
       "2         0   -5623.422610         33   Среднее             1   \n",
       "3         3   -4124.747207         32   среднее             1   \n",
       "4         0  340266.072047         53   среднее             1   \n",
       "5         0    -926.185831         27    высшее             0   \n",
       "6         0   -2879.202052         43    высшее             0   \n",
       "7         0    -152.779569         50   СРЕДНЕЕ             1   \n",
       "8         2   -6929.865299         35    ВЫСШЕЕ             0   \n",
       "9         0   -2188.756445         41   среднее             1   \n",
       "\n",
       "      family_status  family_status_id gender income_type  debt   total_income  \\\n",
       "0   женат / замужем                 0      F   сотрудник     0  253875.639453   \n",
       "1   женат / замужем                 0      F   сотрудник     0  112080.014102   \n",
       "2   женат / замужем                 0      M   сотрудник     0  145885.952297   \n",
       "3   женат / замужем                 0      M   сотрудник     0  267628.550329   \n",
       "4  гражданский брак                 1      F   пенсионер     0  158616.077870   \n",
       "5  гражданский брак                 1      M   компаньон     0  255763.565419   \n",
       "6   женат / замужем                 0      F   компаньон     0  240525.971920   \n",
       "7   женат / замужем                 0      M   сотрудник     0  135823.934197   \n",
       "8  гражданский брак                 1      F   сотрудник     0   95856.832424   \n",
       "9   женат / замужем                 0      M   сотрудник     0  144425.938277   \n",
       "\n",
       "                      purpose  \n",
       "0               покупка жилья  \n",
       "1     приобретение автомобиля  \n",
       "2               покупка жилья  \n",
       "3  дополнительное образование  \n",
       "4             сыграть свадьбу  \n",
       "5               покупка жилья  \n",
       "6           операции с жильем  \n",
       "7                 образование  \n",
       "8       на проведение свадьбы  \n",
       "9     покупка жилья для семьи  "
      ]
     },
     "execution_count": 5,
     "metadata": {},
     "output_type": "execute_result"
    }
   ],
   "source": [
    "df_borrowers.head(10)"
   ]
  },
  {
   "cell_type": "code",
   "execution_count": 6,
   "metadata": {},
   "outputs": [
    {
     "name": "stdout",
     "output_type": "stream",
     "text": [
      "children \n",
      " [ 1  0  3  2 -1  4 20  5]\n",
      "Количество пропусков: 0 \n",
      "\n",
      "days_employed \n",
      " [-8437.67302776 -4024.80375385 -5623.42261023 ... -2113.3468877\n",
      " -3112.4817052  -1984.50758853]\n",
      "Количество пропусков: 2174 \n",
      "\n",
      "dob_years \n",
      " [42 36 33 32 53 27 43 50 35 41 40 65 54 56 26 48 24 21 57 67 28 63 62 47\n",
      " 34 68 25 31 30 20 49 37 45 61 64 44 52 46 23 38 39 51  0 59 29 60 55 58\n",
      " 71 22 73 66 69 19 72 70 74 75]\n",
      "Количество пропусков: 0 \n",
      "\n",
      "education \n",
      " ['высшее' 'среднее' 'Среднее' 'СРЕДНЕЕ' 'ВЫСШЕЕ' 'неоконченное высшее'\n",
      " 'начальное' 'Высшее' 'НЕОКОНЧЕННОЕ ВЫСШЕЕ' 'Неоконченное высшее'\n",
      " 'НАЧАЛЬНОЕ' 'Начальное' 'Ученая степень' 'УЧЕНАЯ СТЕПЕНЬ'\n",
      " 'ученая степень']\n",
      "Количество пропусков: 0 \n",
      "\n",
      "education_id \n",
      " [0 1 2 3 4]\n",
      "Количество пропусков: 0 \n",
      "\n",
      "family_status \n",
      " ['женат / замужем' 'гражданский брак' 'вдовец / вдова' 'в разводе'\n",
      " 'Не женат / не замужем']\n",
      "Количество пропусков: 0 \n",
      "\n",
      "family_status_id \n",
      " [0 1 2 3 4]\n",
      "Количество пропусков: 0 \n",
      "\n",
      "gender \n",
      " ['F' 'M' 'XNA']\n",
      "Количество пропусков: 0 \n",
      "\n",
      "income_type \n",
      " ['сотрудник' 'пенсионер' 'компаньон' 'госслужащий' 'безработный'\n",
      " 'предприниматель' 'студент' 'в декрете']\n",
      "Количество пропусков: 0 \n",
      "\n",
      "debt \n",
      " [0 1]\n",
      "Количество пропусков: 0 \n",
      "\n",
      "total_income \n",
      " [253875.6394526  112080.01410244 145885.95229686 ...  89672.56115303\n",
      " 244093.05050043  82047.41889948]\n",
      "Количество пропусков: 2174 \n",
      "\n",
      "purpose \n",
      " ['покупка жилья' 'приобретение автомобиля' 'дополнительное образование'\n",
      " 'сыграть свадьбу' 'операции с жильем' 'образование'\n",
      " 'на проведение свадьбы' 'покупка жилья для семьи' 'покупка недвижимости'\n",
      " 'покупка коммерческой недвижимости' 'покупка жилой недвижимости'\n",
      " 'строительство собственной недвижимости' 'недвижимость'\n",
      " 'строительство недвижимости' 'на покупку подержанного автомобиля'\n",
      " 'на покупку своего автомобиля' 'операции с коммерческой недвижимостью'\n",
      " 'строительство жилой недвижимости' 'жилье'\n",
      " 'операции со своей недвижимостью' 'автомобили' 'заняться образованием'\n",
      " 'сделка с подержанным автомобилем' 'получение образования' 'автомобиль'\n",
      " 'свадьба' 'получение дополнительного образования' 'покупка своего жилья'\n",
      " 'операции с недвижимостью' 'получение высшего образования'\n",
      " 'свой автомобиль' 'сделка с автомобилем' 'профильное образование'\n",
      " 'высшее образование' 'покупка жилья для сдачи' 'на покупку автомобиля'\n",
      " 'ремонт жилью' 'заняться высшим образованием']\n",
      "Количество пропусков: 0 \n",
      "\n"
     ]
    }
   ],
   "source": [
    "for column in df_borrowers.columns:\n",
    "    print(column, '\\n', df_borrowers[column].unique())\n",
    "    print('Количество пропусков:', df_borrowers[column].isna().sum(), '\\n')"
   ]
  },
  {
   "cell_type": "markdown",
   "metadata": {},
   "source": [
    "#### План действий по предварительной подготовке данных в колонках:\n",
    "\n",
    "children - количественный. есть недостоверные данные '-1' и '20'. Проверить записи, возможно опечатка ввода данных. Если '20' единичная запись - целосообразно удалить, поскольку данное значение будет влиять на показатели, но не является харрактерным.\n",
    "\n",
    "days_employed - преобразовать в целочисленный формат.\n",
    "\n",
    "days_employed и total_income - имеют пропущенные значения. Проверить их совпадают ли они по записям.\n",
    "\n",
    "\n",
    "dob_years - колличественный, без изменений\n",
    "\n",
    "education и education_id - категориальный.  \n",
    "В поле 'education' - разброс написания прописных и строчных букв, \n",
    "привести к строчному формату, проверить соответствие с education_id.\n",
    "\n",
    "family_status и family_status_id\t- действия аналогично предыдущему\n",
    "\n",
    "gender - проверить 'XNA'\t\n",
    "\n",
    "income_type\t- без изменений \n",
    "\n",
    "debt - \tбез изменений\t\n",
    "\n",
    "total_income - преобразовать формат в целочисленный.\n",
    "\n",
    "purpose - множество сходных по смыслу целей, необходимо лемматизировать"
   ]
  },
  {
   "cell_type": "markdown",
   "metadata": {},
   "source": [
    "### Шаг 2. Предобработка данных."
   ]
  },
  {
   "cell_type": "markdown",
   "metadata": {},
   "source": [
    "### Проверка массива на наличие дубликатов:"
   ]
  },
  {
   "cell_type": "code",
   "execution_count": 7,
   "metadata": {},
   "outputs": [
    {
     "data": {
      "text/plain": [
       "54"
      ]
     },
     "execution_count": 7,
     "metadata": {},
     "output_type": "execute_result"
    }
   ],
   "source": [
    "# Подсчет общего количества полных дубликатов\n",
    "df_borrowers.duplicated().sum()"
   ]
  },
  {
   "cell_type": "code",
   "execution_count": 8,
   "metadata": {},
   "outputs": [
    {
     "data": {
      "text/plain": [
       "0    42\n",
       "1     9\n",
       "2     3\n",
       "Name: children, dtype: int64"
      ]
     },
     "execution_count": 8,
     "metadata": {},
     "output_type": "execute_result"
    }
   ],
   "source": [
    "# Общее число предполагаемых дубликатов 54. \n",
    "# В исходной таблице отсутсвует уникальный ID клиента, \n",
    "# другой характеристикой имеющей широкий диапазон и позволяющей говорить об уникальности является 'total_income'\n",
    "# Выполним проверку содержат ли предполагаемы \"дубликаты\" сведения о доходах клиентов:\n",
    "bor_dublicates = df_borrowers.loc[df_borrowers['total_income'] != 0].loc[df_borrowers.duplicated()==True]\n",
    "bor_dublicates['children'].value_counts() "
   ]
  },
  {
   "cell_type": "markdown",
   "metadata": {},
   "source": [
    "Вывод: у всех дубликатов отсутствуют значения в поле  'total_income'\n",
    "Таким образом выявленные \"дубликаты\" скорее всего являются совпадением характеристик клиентов. \n",
    "Также они содержат целевые данные о наличии/отсутствии детей у заемщиков.\n",
    "Целесообразно эти данные оставить."
   ]
  },
  {
   "cell_type": "markdown",
   "metadata": {},
   "source": [
    "##### 'gender'"
   ]
  },
  {
   "cell_type": "code",
   "execution_count": 9,
   "metadata": {},
   "outputs": [
    {
     "data": {
      "text/plain": [
       "F      14236\n",
       "M       7288\n",
       "XNA        1\n",
       "Name: gender, dtype: int64"
      ]
     },
     "execution_count": 9,
     "metadata": {},
     "output_type": "execute_result"
    }
   ],
   "source": [
    "# в колонке 'gender' пол, кроме корректных значений, есть значения 'XNA'\n",
    "# выполняем проверку их количества:\n",
    "df_borrowers['gender'].value_counts()"
   ]
  },
  {
   "cell_type": "code",
   "execution_count": 10,
   "metadata": {},
   "outputs": [
    {
     "data": {
      "text/plain": [
       "F    14236\n",
       "M     7288\n",
       "Name: gender, dtype: int64"
      ]
     },
     "execution_count": 10,
     "metadata": {},
     "output_type": "execute_result"
    }
   ],
   "source": [
    "# удаляем некорректное значение из таблицы:\n",
    "df_borrowers.drop(df_borrowers[df_borrowers.gender == 'XNA'].index, inplace=True)\n",
    "## можно проще на мой взгляд: df_borrowers = df_borrowers[df_borrowers.gender != 'XNA']) , но тут как самому больше нравится..\n",
    "\n",
    "# выполняем проверку. Все в порядке, строка удалена.\n",
    "df_borrowers['gender'].value_counts()"
   ]
  },
  {
   "cell_type": "markdown",
   "metadata": {},
   "source": [
    "### Преобразование типа данных"
   ]
  },
  {
   "cell_type": "markdown",
   "metadata": {},
   "source": [
    "##### 'education'  'education_id '"
   ]
  },
  {
   "cell_type": "code",
   "execution_count": 11,
   "metadata": {},
   "outputs": [
    {
     "data": {
      "text/plain": [
       "среднее                15233\n",
       "высшее                  5260\n",
       "неоконченное высшее      743\n",
       "начальное                282\n",
       "ученая степень             6\n",
       "Name: education, dtype: int64"
      ]
     },
     "execution_count": 11,
     "metadata": {},
     "output_type": "execute_result"
    }
   ],
   "source": [
    "# преобразование данных столбца 'education' к нижнему регистру:\n",
    "df_borrowers['education'] = df_borrowers['education'].str.lower()\n",
    "df_borrowers['education'].value_counts()"
   ]
  },
  {
   "cell_type": "code",
   "execution_count": 12,
   "metadata": {},
   "outputs": [
    {
     "data": {
      "text/plain": [
       "1    15233\n",
       "0     5260\n",
       "2      743\n",
       "3      282\n",
       "4        6\n",
       "Name: education_id, dtype: int64"
      ]
     },
     "execution_count": 12,
     "metadata": {},
     "output_type": "execute_result"
    }
   ],
   "source": [
    "# проверим соответствие количества значений по категориям 'education' и 'education_id':\n",
    "df_borrowers['education_id'].value_counts()"
   ]
  },
  {
   "cell_type": "markdown",
   "metadata": {},
   "source": [
    "Теперь с 'education' все в порядке."
   ]
  },
  {
   "cell_type": "markdown",
   "metadata": {},
   "source": [
    "##### 'family_status'  'family_status_id'"
   ]
  },
  {
   "cell_type": "code",
   "execution_count": 13,
   "metadata": {},
   "outputs": [
    {
     "data": {
      "text/plain": [
       "женат / замужем          12380\n",
       "гражданский брак          4176\n",
       "не женат / не замужем     2813\n",
       "в разводе                 1195\n",
       "вдовец / вдова             960\n",
       "Name: family_status, dtype: int64"
      ]
     },
     "execution_count": 13,
     "metadata": {},
     "output_type": "execute_result"
    }
   ],
   "source": [
    "# преобразование данных столбца 'family_status' к нижнему регистру:\n",
    "df_borrowers['family_status'] = df_borrowers['family_status'].str.lower()\n",
    "df_borrowers['family_status'].value_counts()"
   ]
  },
  {
   "cell_type": "code",
   "execution_count": 14,
   "metadata": {},
   "outputs": [
    {
     "data": {
      "text/plain": [
       "0    12380\n",
       "1     4176\n",
       "4     2813\n",
       "3     1195\n",
       "2      960\n",
       "Name: family_status_id, dtype: int64"
      ]
     },
     "execution_count": 14,
     "metadata": {},
     "output_type": "execute_result"
    }
   ],
   "source": [
    "# проверим соответствие количества значений по категориям 'family_status' и 'family_status_id':\n",
    "df_borrowers['family_status_id'].value_counts()"
   ]
  },
  {
   "cell_type": "markdown",
   "metadata": {},
   "source": [
    "Теперь с 'family_status' все в порядке."
   ]
  },
  {
   "cell_type": "markdown",
   "metadata": {},
   "source": [
    "##### 'days_employed' - преобразование типа"
   ]
  },
  {
   "cell_type": "code",
   "execution_count": 15,
   "metadata": {},
   "outputs": [
    {
     "name": "stdout",
     "output_type": "stream",
     "text": [
      "Число ошибок при конвертации: 2174\n",
      "Образец:\n",
      "0      8437.0\n",
      "1      4024.0\n",
      "2      5623.0\n",
      "3      4124.0\n",
      "4    340266.0\n",
      "Name: days_employed, dtype: float64\n",
      "основные характеристики:\n",
      "Минимум: 24.0\n",
      "Максимум: 401755.0\n",
      "Среднее: 66917.56583979329\n",
      "Медиана: 2194.0\n",
      "Количество пропусков: 0\n"
     ]
    }
   ],
   "source": [
    "# преобразование данных столбца 'days_employed' в положительное целое число\n",
    "# данные NaN остаются без изменений\n",
    "mistake = 0\n",
    "new_column = []\n",
    "for val in df_borrowers['days_employed']:\n",
    "    try:\n",
    "        val = int(abs(val))    \n",
    "    except:\n",
    "        mistake +=1\n",
    "    new_column.append(val)\n",
    "\n",
    "df_borrowers['days_employed'] = new_column\n",
    "print('Число ошибок при конвертации:', mistake)\n",
    "\n",
    "brief(df_borrowers['days_employed'])"
   ]
  },
  {
   "cell_type": "markdown",
   "metadata": {},
   "source": [
    "##### 'days_employed' - обработка данных о стаже"
   ]
  },
  {
   "cell_type": "code",
   "execution_count": 16,
   "metadata": {},
   "outputs": [
    {
     "name": "stdout",
     "output_type": "stream",
     "text": [
      "Заемщики со стажем превышающим начало работы с 14 лет: 3535\n",
      "Заемщики со стажем превышающим возраст: 3519\n"
     ]
    }
   ],
   "source": [
    "# В соответствии с законодательством РФ и СССР прием на работу допускается с 14 лет.\n",
    "# В колонке 'dob_years' значения превышают и этот уровень и возраст заемщика.\n",
    "print('Заемщики со стажем превышающим начало работы с 14 лет:',\n",
    "    df_borrowers.loc[(df_borrowers['days_employed'] / 365) > (df_borrowers['dob_years'] - 14)]['dob_years'].shape[0])\n",
    "print('Заемщики со стажем превышающим возраст:',\n",
    "    df_borrowers.loc[(df_borrowers['days_employed'] / 365) > (df_borrowers['dob_years'])]['dob_years'].shape[0])\n"
   ]
  },
  {
   "cell_type": "code",
   "execution_count": 17,
   "metadata": {
    "scrolled": true
   },
   "outputs": [
    {
     "name": "stdout",
     "output_type": "stream",
     "text": [
      "Число записей с пропусками в обоих категориях: 2174\n"
     ]
    },
    {
     "data": {
      "text/html": [
       "<div>\n",
       "<style scoped>\n",
       "    .dataframe tbody tr th:only-of-type {\n",
       "        vertical-align: middle;\n",
       "    }\n",
       "\n",
       "    .dataframe tbody tr th {\n",
       "        vertical-align: top;\n",
       "    }\n",
       "\n",
       "    .dataframe thead th {\n",
       "        text-align: right;\n",
       "    }\n",
       "</style>\n",
       "<table border=\"1\" class=\"dataframe\">\n",
       "  <thead>\n",
       "    <tr style=\"text-align: right;\">\n",
       "      <th></th>\n",
       "      <th>children</th>\n",
       "      <th>debt</th>\n",
       "    </tr>\n",
       "    <tr>\n",
       "      <th>children</th>\n",
       "      <th></th>\n",
       "      <th></th>\n",
       "    </tr>\n",
       "  </thead>\n",
       "  <tbody>\n",
       "    <tr>\n",
       "      <th>-1</th>\n",
       "      <td>3</td>\n",
       "      <td>3</td>\n",
       "    </tr>\n",
       "    <tr>\n",
       "      <th>0</th>\n",
       "      <td>1439</td>\n",
       "      <td>1439</td>\n",
       "    </tr>\n",
       "    <tr>\n",
       "      <th>1</th>\n",
       "      <td>475</td>\n",
       "      <td>475</td>\n",
       "    </tr>\n",
       "    <tr>\n",
       "      <th>2</th>\n",
       "      <td>204</td>\n",
       "      <td>204</td>\n",
       "    </tr>\n",
       "    <tr>\n",
       "      <th>3</th>\n",
       "      <td>36</td>\n",
       "      <td>36</td>\n",
       "    </tr>\n",
       "    <tr>\n",
       "      <th>4</th>\n",
       "      <td>7</td>\n",
       "      <td>7</td>\n",
       "    </tr>\n",
       "    <tr>\n",
       "      <th>5</th>\n",
       "      <td>1</td>\n",
       "      <td>1</td>\n",
       "    </tr>\n",
       "    <tr>\n",
       "      <th>20</th>\n",
       "      <td>9</td>\n",
       "      <td>9</td>\n",
       "    </tr>\n",
       "  </tbody>\n",
       "</table>\n",
       "</div>"
      ],
      "text/plain": [
       "          children  debt\n",
       "children                \n",
       "-1               3     3\n",
       " 0            1439  1439\n",
       " 1             475   475\n",
       " 2             204   204\n",
       " 3              36    36\n",
       " 4               7     7\n",
       " 5               1     1\n",
       " 20              9     9"
      ]
     },
     "execution_count": 17,
     "metadata": {},
     "output_type": "execute_result"
    }
   ],
   "source": [
    "empty = df_borrowers.loc[df_borrowers['days_employed'].isna() == True].loc[df_borrowers['total_income'].isna() == True]\n",
    "print('Число записей с пропусками в обоих категориях:', len(empty))\n",
    "empty.groupby('children').agg({'children': 'count', 'debt' : 'count'})"
   ]
  },
  {
   "cell_type": "markdown",
   "metadata": {},
   "source": [
    "Записи в которых отсутствуют данные по трудовому стажу и доходу в месяц совпадают.\n",
    "Поскольку основная цель исследования влияние семейного статуса и наличие детей на надежность заемщика и эта информация присутствует, то эти записи оставляем для основного исследования."
   ]
  },
  {
   "cell_type": "markdown",
   "metadata": {},
   "source": [
    "##### 'total_income' "
   ]
  },
  {
   "cell_type": "code",
   "execution_count": 18,
   "metadata": {},
   "outputs": [
    {
     "name": "stdout",
     "output_type": "stream",
     "text": [
      "Число ошибок при конвертации: 2174\n"
     ]
    }
   ],
   "source": [
    "# аналогичные преобразования для данных столбца 'total_income' \n",
    "# данные NaN остаются без изменений\n",
    "mistake = 0\n",
    "new_column = []\n",
    "for val in df_borrowers['total_income']:\n",
    "    try:\n",
    "        val = int(abs(val))    \n",
    "    except:\n",
    "        mistake +=1\n",
    "    new_column.append(val)\n",
    "\n",
    "df_borrowers['total_income'] = new_column\n",
    "print('Число ошибок при конвертации:', mistake)"
   ]
  },
  {
   "cell_type": "markdown",
   "metadata": {},
   "source": [
    "### Лемматизация данных"
   ]
  },
  {
   "cell_type": "markdown",
   "metadata": {},
   "source": [
    "##### 'purpose' - создание категорий по лемматическому анализу"
   ]
  },
  {
   "cell_type": "code",
   "execution_count": 19,
   "metadata": {},
   "outputs": [
    {
     "name": "stdout",
     "output_type": "stream",
     "text": [
      "Counter({' ': 96, 'недвижимость': 10, 'покупка': 10, 'автомобиль': 9, 'образование': 9, 'жилье': 7, 'с': 5, 'на': 4, 'операция': 4, 'свой': 4, 'свадьба': 3, 'строительство': 3, 'высокий': 3, 'получение': 3, 'коммерческий': 2, 'для': 2, 'жилой': 2, 'заниматься': 2, 'сделка': 2, 'дополнительный': 2, 'проведение': 1, 'сыграть': 1, 'сдача': 1, 'семья': 1, 'собственный': 1, 'со': 1, 'ремонт': 1, 'подержанный': 1, 'подержать': 1, 'приобретение': 1, 'профильный': 1, '\\n': 1})\n"
     ]
    }
   ],
   "source": [
    "# Определяем самые частые леммы в столбце 'purpose':\n",
    "df_borrowers['purpose'] = df_borrowers['purpose'].str.lower()\n",
    "purpose = df_borrowers['purpose'].value_counts().reset_index()\n",
    "purpose.set_axis(['purpose', 'count'], axis = 'columns', inplace=True)\n",
    "lemma_total = ' '.join(purpose['purpose'])\n",
    "print(Counter(m.lemmatize(lemma_total)))\n"
   ]
  },
  {
   "cell_type": "markdown",
   "metadata": {},
   "source": [
    "Приориет для категорий отдаем существительным.\n",
    "Выявлены основные леммы: недвижимость и жилье, автомобиль, образование, свадьба.\n",
    "Выполняем преобразование записей содержащих указанные леммы в новые категории:\n",
    "- недвижимость коммерческая (недвижимость + коммерческий)\n",
    "- невижимость жилая (недвижимость + (жилой, собственный); жилье)\n",
    "- автомобиль\n",
    "- образование\n",
    "- свадьба"
   ]
  },
  {
   "cell_type": "code",
   "execution_count": 20,
   "metadata": {
    "scrolled": true
   },
   "outputs": [
    {
     "name": "stdout",
     "output_type": "stream",
     "text": [
      "Всего произведено замен: 18976\n",
      "Общая длина столбца 21524\n"
     ]
    },
    {
     "data": {
      "text/plain": [
       "недвижимость жилая                 6341\n",
       "автомобиль                         4315\n",
       "образование                        4022\n",
       "свадьба                            2348\n",
       "недвижимость коммерческая          1315\n",
       "операции с недвижимостью            676\n",
       "недвижимость                        634\n",
       "операции со своей недвижимостью     630\n",
       "покупка недвижимости                623\n",
       "строительство недвижимости          620\n",
       "Name: purpose, dtype: int64"
      ]
     },
     "execution_count": 20,
     "metadata": {},
     "output_type": "execute_result"
    }
   ],
   "source": [
    "# Создан словарь замены лемм на новые категории.\n",
    "# !!! Замена производится в порядке записи в словаре. УЧИТЫВАТЬ ПРИ СОСТАВЛЕНИИ !!!\n",
    "purpose_dict = [['недвижимость коммерческая', 'недвижимость', 'коммерческий'],\n",
    "                ['недвижимость жилая', 'недвижимость', 'собственный'],\n",
    "                ['недвижимость жилая', 'недвижимость', 'жилой'],\n",
    "                ['недвижимость жилая', 'жилье'],\n",
    "                ['автомобиль', 'автомобиль'],\n",
    "                ['образование', 'образование'],        # для чего здесь в трех категориях слова повторяются дважды?        \n",
    "                ['свадьба', 'свадьба']  \n",
    "               ]\n",
    "\n",
    "purpose_new = []\n",
    "count = 0\n",
    "for val in df_borrowers['purpose']:\n",
    "    for words in purpose_dict:\n",
    "        if len(words)==3 and (words[1] and words[2] in m.lemmatize(val)):\n",
    "            val = words[0]\n",
    "            count += 1\n",
    "        if len(words)==2 and words[1] in m.lemmatize(val):\n",
    "            val = words[0]\n",
    "            count += 1\n",
    "    purpose_new.append(val) \n",
    "\n",
    "df_borrowers['purpose'] =  purpose_new\n",
    "\n",
    "print('Всего произведено замен:', count)\n",
    "print('Общая длина столбца', len(purpose_new))\n",
    "df_borrowers['purpose'].value_counts()"
   ]
  },
  {
   "cell_type": "markdown",
   "metadata": {},
   "source": [
    "Осталось несколько категорий связанных с недвижимостью, однако из названия неясно к какому виду она относится 'коммерческой' или 'жилой'. Выполняем замену этих значений на 'недвижимость':"
   ]
  },
  {
   "cell_type": "code",
   "execution_count": 21,
   "metadata": {},
   "outputs": [
    {
     "name": "stdout",
     "output_type": "stream",
     "text": [
      "Всего произведено замен: 2549\n",
      "Общая длина столбца 21524\n"
     ]
    },
    {
     "data": {
      "text/plain": [
       "недвижимость жилая           6341\n",
       "автомобиль                   4315\n",
       "образование                  4022\n",
       "недвижимость                 3183\n",
       "свадьба                      2348\n",
       "недвижимость коммерческая    1315\n",
       "Name: purpose, dtype: int64"
      ]
     },
     "execution_count": 21,
     "metadata": {},
     "output_type": "execute_result"
    }
   ],
   "source": [
    "purpose_list = ['операции с недвижимостью', 'операции со своей недвижимостью',\n",
    "                'покупка недвижимости', 'строительство недвижимости']\n",
    "\n",
    "purpose_new = []\n",
    "count = 0\n",
    "for val in df_borrowers['purpose']:\n",
    "    for words in purpose_list:\n",
    "        if words in val:\n",
    "            val = 'недвижимость'\n",
    "            count += 1\n",
    "    purpose_new.append(val) \n",
    "\n",
    "df_borrowers['purpose'] =  purpose_new\n",
    "\n",
    "print('Всего произведено замен:', count)\n",
    "print('Общая длина столбца', len(purpose_new))\n",
    "df_borrowers['purpose'].value_counts()"
   ]
  },
  {
   "cell_type": "markdown",
   "metadata": {},
   "source": [
    "##### 'purpose' - создание новых категорий закончено"
   ]
  },
  {
   "cell_type": "markdown",
   "metadata": {},
   "source": [
    "### Определяем и заполняем пропущенные значения"
   ]
  },
  {
   "cell_type": "markdown",
   "metadata": {},
   "source": [
    "##### 'children' - корреляция с 'dob_years'  и 'family_status'\n",
    "Основными для нашего исследования являются два столбца: 'children' и 'debt'\n",
    "в первую очередь занимаемся ими."
   ]
  },
  {
   "cell_type": "code",
   "execution_count": null,
   "metadata": {},
   "outputs": [],
   "source": [
    "# группируем количество записей с разным числом детей \n",
    "df_borrowers.groupby('children').agg({'children': 'count', 'dob_years' : 'mean'})\n"
   ]
  },
  {
   "cell_type": "markdown",
   "metadata": {},
   "source": [
    "##### Предполагаем, возрастной портрет групп с определенным числом детей и семейным полежением сходны.\n",
    "В данных есть пиковые значения количества -1 и 20. Что в первом случае невозможно, а во втором маловероятно.\n",
    "Проверим рабочую гипотезу \"опечатка\", возможно -1 это 1, а 20 это 2.\n",
    "Вычисляем средний возраст по группам и проверяем коэф. корреляции с группами -1 и 20."
   ]
  },
  {
   "cell_type": "code",
   "execution_count": null,
   "metadata": {},
   "outputs": [],
   "source": [
    "#df_borrowers.loc[df_borrowers['children'] ==  -1].groupby('family_status').agg({'children': 'count', 'dob_years' : 'mean'})\n",
    "children_pivot_count = df_borrowers.pivot_table(\n",
    "    index = ['children'], columns = ['family_status_id'], values =['dob_years'], aggfunc = 'count', margins=True)\n",
    "# число заемщиков по группам число детей / сем. положение\n",
    "print(children_pivot_count)"
   ]
  },
  {
   "cell_type": "code",
   "execution_count": null,
   "metadata": {},
   "outputs": [],
   "source": [
    "#  средний возраст заемщиков по группам число детей / сем. положение\n",
    "children_pivot_dob_years = df_borrowers.pivot_table(\n",
    "    index = ['children'], columns = ['family_status_id'], values =['dob_years'])\n",
    "\n",
    "print(children_pivot_dob_years)\n",
    "#print(children_pivot_dob_years.iloc[7])\n",
    "# коэфф. корреляции с целевыми строками.\n",
    "children_corr = pd.DataFrame(index=children_pivot_dob_years.index)\n",
    "children_corr['-1'] = children_pivot_dob_years.corrwith(children_pivot_dob_years.iloc[0], axis=1)\n",
    "children_corr['20'] = children_pivot_dob_years.corrwith(children_pivot_dob_years.iloc[7], axis=1)\n",
    "children_corr"
   ]
  },
  {
   "cell_type": "markdown",
   "metadata": {},
   "source": [
    "##### Гипотеза не подтвердилась. \n",
    "В группе с числом детей 5 слишком мало данных и брать ее для сравнения некорректно.\n",
    "-1 имеет наиб. корреляцию с группой 3 чел.\n",
    "20 - с группами 0 и 1 чел.\n",
    "Принято решение удалить строки с некорректными данными."
   ]
  },
  {
   "cell_type": "code",
   "execution_count": null,
   "metadata": {},
   "outputs": [],
   "source": [
    "# удаляем строки со значениями '-1' и '20'\n",
    "df_borrowers.drop(df_borrowers[df_borrowers['children'] == -1].index, inplace=True)\n",
    "df_borrowers.drop(df_borrowers[df_borrowers['children'] == 20].index, inplace=True)\n",
    "df_borrowers.reset_index(drop=True)\n",
    "# проверка результата\n",
    "df_borrowers['children'].value_counts()"
   ]
  },
  {
   "cell_type": "markdown",
   "metadata": {},
   "source": [
    "### Сводные таблицы с целевыми данными"
   ]
  },
  {
   "cell_type": "code",
   "execution_count": null,
   "metadata": {},
   "outputs": [],
   "source": [
    "# Для целевого исследования создаем отдельный столбец 'child_group' с логическим типом: есть дети / нет детей\n",
    "\n",
    "def child_group(child):\n",
    "        \"\"\"\n",
    "        Возвращает группу по наличию детей, используя правила:\n",
    "        - '0' при значении children == 0\n",
    "        - '1' при значениии children более 0\n",
    "        \"\"\"\n",
    "        if child == 0:\n",
    "            return 'False'\n",
    "        return 'True'\n",
    "df_borrowers.insert(1, 'child_group', df_borrowers['children'].apply(child_group)) "
   ]
  },
  {
   "cell_type": "markdown",
   "metadata": {},
   "source": [
    "##### Сводная таблица доля просрочек от наличия детей и семейного статуса:"
   ]
  },
  {
   "cell_type": "code",
   "execution_count": null,
   "metadata": {},
   "outputs": [],
   "source": [
    "# Сводная таблица доля просрочек от наличия детей и семейного статуса:\n",
    "children_debt_sum_mod = df_borrowers.pivot_table(\n",
    "    index = ['child_group'], columns = ['family_status'], values =['debt'], aggfunc = 'sum', margins=True)\n",
    "children_debt_count_mod = df_borrowers.pivot_table(\n",
    "    index = ['child_group'], columns = ['family_status'], values =['debt'], aggfunc = 'count', margins=True)\n",
    "children_debt_mod = (children_debt_sum_mod / children_debt_count_mod)\n",
    "children_debt_mod\n"
   ]
  },
  {
   "cell_type": "markdown",
   "metadata": {},
   "source": [
    "Можно сделать вывод, что наличие детей у заемщиков ухудшает их надежность. \n",
    "Для группы бездетных средняя просрочка - 0.075\n",
    "Для заемщиков с детьми - 0.091\n",
    "\n",
    "Исследуем в более развернутом виде, выявляем зависимость от числа детей."
   ]
  },
  {
   "cell_type": "markdown",
   "metadata": {},
   "source": [
    "##### Сводная таблица доля просрочек от числа детей и семейного статуса:"
   ]
  },
  {
   "cell_type": "code",
   "execution_count": null,
   "metadata": {},
   "outputs": [],
   "source": [
    "# Сводная таблица доля просрочек от числа детей и семейного статуса:\n",
    "children_debt_sum = df_borrowers.pivot_table(\n",
    "    index = ['children'], columns = ['family_status'], values =['debt'], aggfunc = 'sum', margins=True)\n",
    "children_debt_count = df_borrowers.pivot_table(\n",
    "    index = ['children'], columns = ['family_status'], values =['debt'], aggfunc = 'count', margins=True)\n",
    "children_debt = (children_debt_sum / children_debt_count)\n",
    "children_debt"
   ]
  },
  {
   "cell_type": "markdown",
   "metadata": {},
   "source": [
    "Во взятой системе координат \"число детей - семейное положение\" наименьшую просрочку имеют:\n",
    "0.062 - 02 - бездетные вдовы и вдовцы\n",
    "0.069 - 04 - бездетные женатые / замужем\n",
    "0.067 - 13 - семьи с одним ребенком в разводе\n",
    "\n",
    "Худший показатель для многодетных (4 ребенка) разведенных (44) - 0.5, т.е.  половина заемщиков имеет просрочку.\n",
    "и заемщики в гражданском браке с 3 детьми - 0.143\n"
   ]
  },
  {
   "cell_type": "markdown",
   "metadata": {},
   "source": [
    "##### Сводная таблица: доля просрочек по группировке наличие детей / цели кредита:"
   ]
  },
  {
   "cell_type": "code",
   "execution_count": null,
   "metadata": {},
   "outputs": [],
   "source": [
    "# Сводная таблица: доля просрочек по группировке наличие детей / цели кредита:\n",
    "children_debt_porpose_sum = df_borrowers.pivot_table(\n",
    "    index = ['child_group'], columns = ['purpose'], values =['debt'], aggfunc = 'sum', margins=True)\n",
    "children_debt_porpose_count = df_borrowers.pivot_table(\n",
    "    index = ['child_group'], columns = ['purpose'], values =['debt'], aggfunc = 'count', margins=True)\n",
    "children_debt_porpose = (children_debt_porpose_sum / children_debt_porpose_count)\n",
    "children_debt_porpose"
   ]
  },
  {
   "cell_type": "code",
   "execution_count": null,
   "metadata": {},
   "outputs": [],
   "source": [
    "# число кредитов по группировке наличие детей / цели кредита\n",
    "children_debt_porpose_count"
   ]
  },
  {
   "cell_type": "markdown",
   "metadata": {},
   "source": [
    "##### Сводная таблица: доля просрочек по группировке наличие детей / гендер:"
   ]
  },
  {
   "cell_type": "code",
   "execution_count": null,
   "metadata": {},
   "outputs": [],
   "source": [
    "# Сводная таблица: доля просрочек по группировке наличие детей / гендер:\n",
    "children_debt_porpose_sum = df_borrowers.pivot_table(\n",
    "    index = ['child_group'], columns = ['gender'], values =['debt'], aggfunc = 'sum', margins=True)\n",
    "children_debt_porpose_count = df_borrowers.pivot_table(\n",
    "    index = ['child_group'], columns = ['gender'], values =['debt'], aggfunc = 'count', margins=True)\n",
    "children_debt_porpose = (children_debt_porpose_sum / children_debt_porpose_count)\n",
    "children_debt_porpose.merge(children_debt_porpose_count, \n",
    "                            on='child_group', how='left', suffixes=('_доля проср.', '_к-во заемщиков'))"
   ]
  },
  {
   "cell_type": "markdown",
   "metadata": {},
   "source": [
    "##### Сводная таблица: доля просрочек по группировке наличие детей / образование:"
   ]
  },
  {
   "cell_type": "code",
   "execution_count": null,
   "metadata": {},
   "outputs": [],
   "source": [
    "# Сводная таблица: доля просрочек по группировке наличие детей / образование:\n",
    "children_debt_edu_sum = df_borrowers.pivot_table(\n",
    "    index = ['child_group'], columns = ['education'], values =['debt'], aggfunc = 'sum', margins=True)\n",
    "children_debt_edu_count = df_borrowers.pivot_table(\n",
    "    index = ['child_group'], columns = ['education'], values =['debt'], aggfunc = 'count', margins=True)\n",
    "children_debt_edu = (children_debt_edu_sum / children_debt_edu_count)\n",
    "children_debt_edu.merge(children_debt_edu_count, \n",
    "                            on='child_group', how='left', suffixes=('_доля проср.', '_к-во заемщиков'))"
   ]
  },
  {
   "cell_type": "markdown",
   "metadata": {},
   "source": [
    "##### Сводная таблица: доля просрочек по группировке гендер / образование (Доп. исследование):"
   ]
  },
  {
   "cell_type": "code",
   "execution_count": null,
   "metadata": {},
   "outputs": [],
   "source": [
    "# Сводная таблица: доля просрочек по группировке гендер / образование:\n",
    "children_debt_edu_sum = df_borrowers.pivot_table(\n",
    "    index = ['gender'], columns = ['education'], values =['debt'], aggfunc = 'sum', margins=True)\n",
    "children_debt_edu_count = df_borrowers.pivot_table(\n",
    "    index = ['gender'], columns = ['education'], values =['debt'], aggfunc = 'count', margins=True)\n",
    "children_debt_edu = (children_debt_edu_sum / children_debt_edu_count)\n",
    "children_debt_edu.merge(children_debt_edu_count, \n",
    "                            on='gender', how='left', suffixes=('_доля проср.', '_к-во заемщиков'))"
   ]
  },
  {
   "cell_type": "markdown",
   "metadata": {},
   "source": [
    "##### Самые перспективные заемщики - женщины"
   ]
  },
  {
   "cell_type": "code",
   "execution_count": null,
   "metadata": {},
   "outputs": [],
   "source": [
    "df_borrowers.loc[df_borrowers['gender']== 'F'].loc[\n",
    "    df_borrowers['education'] == 'высшее'].groupby('child_group').agg({'debt':['count', 'sum']})"
   ]
  },
  {
   "cell_type": "markdown",
   "metadata": {},
   "source": [
    "##### Сводная таблица: доля просрочек по наличие наличие детей / тип занятости:"
   ]
  },
  {
   "cell_type": "code",
   "execution_count": null,
   "metadata": {},
   "outputs": [],
   "source": [
    "# Сводная таблица: доля просрочек по наличие наличие детей / тип занятости:\n",
    "children_debt_income_type_sum = df_borrowers.pivot_table(\n",
    "    index = ['child_group'], columns = ['income_type'], values =['debt'], aggfunc = 'sum', margins=True)\n",
    "children_debt_income_type_count = df_borrowers.pivot_table(\n",
    "    index = ['child_group'], columns = ['income_type'], values =['debt'], aggfunc = 'count', margins=True)\n",
    "children_debt_income_type = (children_debt_income_type_sum / children_debt_income_type_count)\n",
    "children_debt_income_type"
   ]
  },
  {
   "cell_type": "code",
   "execution_count": null,
   "metadata": {},
   "outputs": [],
   "source": [
    "children_debt_income_type_count"
   ]
  },
  {
   "cell_type": "markdown",
   "metadata": {},
   "source": [
    "Данные NaN возникают ввиду отсутствия заемщиков данной категории.\n",
    "основной вывод повторяется наличие детей ухудшает статистику.\n",
    "Худшая категория по типу занятости - 'сотрудники' и 'компаньоны' c детьми.\n",
    "Лучшие - госслужащие и пенсионеры.\n",
    "У госслужащих аномальная закономерность - наличие детей улучшает статистику надежности с 0.068 до 0.046, т.е. на 2%"
   ]
  },
  {
   "cell_type": "markdown",
   "metadata": {},
   "source": [
    "##### 'total_income' - cводная таблица: доля просрочек по группировке наличие детей / доходы:\n",
    "Анализ по данной категории представляется неполноценным, поскольку размер доходов имеет смысл в сравнении с нагрузкой на заемщика. Также целессобразно учитывать общий доход семьи и ее размер. Такие данные отсутствуют.\n",
    "В проводимом исследовании размер доходов рассматривается лишь как возможная обобщенная функция от остальных характеристик клиентов."
   ]
  },
  {
   "cell_type": "code",
   "execution_count": null,
   "metadata": {},
   "outputs": [],
   "source": [
    "# краткая информация по столбцу:\n",
    "brief(df_borrowers['total_income'])"
   ]
  },
  {
   "cell_type": "code",
   "execution_count": null,
   "metadata": {},
   "outputs": [],
   "source": [
    "# удаляем пропущенные значения 'total_income'\n",
    "df_borrowers['total_income'].dropna(inplace=True)\n",
    "df_borrowers.reset_index(drop=True)\n",
    "#df_borrowers['total_income'].isna().sum()\n",
    "print()"
   ]
  },
  {
   "cell_type": "markdown",
   "metadata": {},
   "source": [
    "Введем несколько групп заемщиков в зависимости от размера дохода.\n",
    "Диапазон группировки подбирается чтобы численность в группах заемщиков была соизмерима.\n",
    "1. до 80 т.р.\n",
    "2. от 80 до 120 т.р.\n",
    "3. от 120 до 200 т.р.\n",
    "4. свыше 200 т.р."
   ]
  },
  {
   "cell_type": "code",
   "execution_count": null,
   "metadata": {},
   "outputs": [],
   "source": [
    "# Для целевого исследования создаем отдельный столбец 'income_group':\n",
    "\n",
    "def income_group(income):\n",
    "    if income < 80000:\n",
    "        return '1'\n",
    "    if  80000 <= income < 120000:\n",
    "        return '2'\n",
    "    if 120000 <=income < 200000:\n",
    "        return '3'\n",
    "    return '4'\n",
    "\n",
    "df_borrowers.insert(9, 'income_group', df_borrowers['total_income'].apply(income_group))"
   ]
  },
  {
   "cell_type": "code",
   "execution_count": null,
   "metadata": {},
   "outputs": [],
   "source": [
    "df_borrowers['income_group'].value_counts()"
   ]
  },
  {
   "cell_type": "code",
   "execution_count": null,
   "metadata": {},
   "outputs": [],
   "source": [
    "# Сводная таблица: доля просрочек по группировке наличие детей / доход:\n",
    "children_debt_income_sum = df_borrowers.pivot_table(\n",
    "    index = ['child_group'], columns = ['income_group'], values =['debt'], aggfunc = 'sum', margins=True)\n",
    "children_debt_income_count = df_borrowers.pivot_table(\n",
    "    index = ['child_group'], columns = ['income_group'], values =['debt'], aggfunc = 'count', margins=True)\n",
    "children_debt_income = (children_debt_income_sum / children_debt_income_count)\n",
    "children_debt_income.merge(children_debt_income_count, \n",
    "                            on='child_group', how='left', suffixes=('_доля проср.', '_к-во заемщиков'))"
   ]
  },
  {
   "cell_type": "markdown",
   "metadata": {},
   "source": [
    "##### Вывод: общая тенденция повторяется, наличие детей снижает исполнительность заемщиков.\n",
    "Лучше выглядит статистика \"устойчивости к наличию детей\" для 4 группы с доходом свыше 200 т.р. - изменение 0.8% \n",
    "Для 1-3 группы наличие детей ухудшает статистику просрочек на 2%."
   ]
  },
  {
   "cell_type": "markdown",
   "metadata": {},
   "source": [
    "### Задание 2. Выводы по исследованию."
   ]
  },
  {
   "cell_type": "markdown",
   "metadata": {},
   "source": [
    "#### Шаг 1. Выводы на изначально поставленные вопросы:"
   ]
  },
  {
   "cell_type": "markdown",
   "metadata": {},
   "source": [
    "• Есть ли зависимость между наличием детей и возвратом кредита в срок? \n",
    "\n",
    "Есть. Согласно исследованию, без учета остальных факторов: \n",
    "наличие детей увеличивет количество просрочек на 2%, с 7.5% до 9.2%"
   ]
  },
  {
   "cell_type": "markdown",
   "metadata": {},
   "source": [
    "• Есть ли зависимость между семейным положением и возвратом кредита в срок? \n",
    "\n",
    "Есть. Наименьшую просрочку имеют: \n",
    "6.2% - 02 - бездетные вдовы и вдовцы \n",
    "6.9% - 04 - бездетные женатые / замужем \n",
    "6.7% - 13 - семьи с одним ребенком в разводе\n",
    "\n",
    "Худшие показатели:\n",
    "- для многодетных (4 ребенка) разведенных (44) - 50%, т.е. половина заемщиков имеет просрочку,\n",
    "- заемщики с 3 детьми в гражданском браке - 14.3% \n",
    "\n",
    "Большее число детей увеличивает нагрузку и в группе риска находятся неполные семьи."
   ]
  },
  {
   "cell_type": "markdown",
   "metadata": {},
   "source": [
    "•\tЕсть ли зависимость между уровнем дохода и возвратом кредита в срок?\n",
    "\n",
    "Есть. Но более значимы другие факторы. Уровень дохода целесообразно сопоставлять с уровнем расходов.\n",
    "\n",
    "Лучше выглядит статистика \"устойчивости к наличию детей\" для 4 группы с доходом свыше 200 т.р. - ухудшение 0.8% \n",
    "Для 1-3 группы наличие детей ухудшает статистику просрочек на 2%.\n"
   ]
  },
  {
   "cell_type": "markdown",
   "metadata": {},
   "source": [
    "•\tКак разные цели кредита влияют на его возврат в срок?\n",
    "\n",
    "Наиболее безопасны кредиты выданные на жилую недвижимость -6.5% для бездетных, 7.6% с детьми.\n",
    "НЕ ВЛИЯЕТ наличие детей для кредитов выданных на коммерческую недвижимость - 7.5%\n",
    "Наиболее рискованны кредиты выданные на приобретение автомобиле и получение образования: 8.5% без детей до 10% с детьми."
   ]
  },
  {
   "cell_type": "markdown",
   "metadata": {},
   "source": [
    "#### Шаг 2. Общие выводы."
   ]
  },
  {
   "cell_type": "markdown",
   "metadata": {},
   "source": [
    "В результате проведенного исследования подтвердились общие предположения: наличие детей требует дополнительных расходов и увеличивает долю просроченных кредитов на 2% без учета остальных факторов."
   ]
  },
  {
   "cell_type": "markdown",
   "metadata": {},
   "source": [
    "##### Наиболее значимым фактором оказался уровень образования. Наличие высшего образования нивелирует фактор детей. Доля просрочек низкая, не зависит от наличия/отсутсвия детей и составляет 5.3%"
   ]
  },
  {
   "cell_type": "markdown",
   "metadata": {},
   "source": [
    "##### Аномальные результаты получены для зависимости от рода занятости. Для госслужащих фактор наличия детей снижает просрочки с 6.8% до 4.6%\n",
    "Наименее рисковы кредиты госслужащим и пенсионерам. Наибольшее число просрочек у 'сотрудников' и  'компаньонов' "
   ]
  },
  {
   "cell_type": "markdown",
   "metadata": {},
   "source": [
    "У мужчин доля просрочек не зависит от наличия детей и составляет около 10%\n",
    "У женщин дисциплина во всех случаях выше, но с появлением детей просрочки возрастают с 6.1% до 8.7%, дельта 2.6%"
   ]
  },
  {
   "cell_type": "markdown",
   "metadata": {},
   "source": [
    "Гипотезы для проверки на эктремум:\n",
    "\n",
    "\"Лучший заемщик\" - женщина с высшим образованием замужем или в гражданском браке, госслужащая или пенсионер с кредитом на жилую недвижимость\n",
    "\n",
    "\"Рисковый заемщик\" - мужчина со средним или начальным образованием, холостяк или в гражданском браке, работающий сотрудником или компаньон, с кредитом на автомобиль или образование."
   ]
  }
 ],
 "metadata": {
  "kernelspec": {
   "display_name": "Python 3",
   "language": "python",
   "name": "python3"
  },
  "language_info": {
   "codemirror_mode": {
    "name": "ipython",
    "version": 3
   },
   "file_extension": ".py",
   "mimetype": "text/x-python",
   "name": "python",
   "nbconvert_exporter": "python",
   "pygments_lexer": "ipython3",
   "version": "3.7.3"
  }
 },
 "nbformat": 4,
 "nbformat_minor": 2
}
