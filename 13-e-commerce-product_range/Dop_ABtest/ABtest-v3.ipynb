{
 "cells": [
  {
   "cell_type": "markdown",
   "metadata": {},
   "source": [
    "# A/B тест эффективности чата с менеджером\n",
    "**Контекст проекта:**\\\n",
    "Команда внедрила новое решение на сайте — чат с менеджером. Менеджеры продукта говорят о том, что чат назойливый и это вызовет негативный опыт у пользователей, а менеджеры по продажам считают, что так получится больше продавать. Пришли результаты A/B теста — одной выборке показывали чат, а другой нет. Оцените результаты теста и опишите выводы. "
   ]
  },
  {
   "cell_type": "markdown",
   "metadata": {},
   "source": [
    "**Описание данных:**\\\n",
    "лог с результатами AAB теста: **ab_log.csv**\\\n",
    "**Поля:**\\\n",
    "event - событие\\\n",
    "user_id - id пользователя\\\n",
    "EventTime - время события\\\n",
    "Group - группа события\\\n",
    "\n",
    "**Экспериментальные группы, Group:**\\\n",
    "A1 - контрольная группа\\\n",
    "A2 - контрольная группа\\\n",
    "B - экспериментальная группа"
   ]
  },
  {
   "cell_type": "markdown",
   "metadata": {},
   "source": [
    "<a id=\"content\"></a>\n",
    "## Содержание\n",
    "[Шаг 1. Загрузка данных и общая оценка датасета](#1)\n",
    "\n",
    "[Шаг 2. Подготовка данных](#2)\n",
    "- [2.1. Обработка дубликатов](#21)\n",
    "- [2.2. Проверка целостности данных](#22)\n",
    "- [2.3. Создание дополнительных полей](#23)\n",
    "\n",
    "[Шаг 3. Изучение и проверка данных](#3) \n",
    "\n",
    "[Шаг 4. Обработка результатов AAB теста](#4)\n",
    "- [4.1. Подготовка данных ](#41)\n",
    "- [4.2. Проверка результатов теста ](#42)\n",
    "\n",
    "**[Общий вывод](#summary)**"
   ]
  },
  {
   "cell_type": "code",
   "execution_count": 1,
   "metadata": {},
   "outputs": [],
   "source": [
    "# загрузка библиотек\n",
    "import pandas as pd\n",
    "import numpy as np\n",
    "import scipy.stats as st\n",
    "import matplotlib.pyplot as plt\n",
    "import seaborn as sns"
   ]
  },
  {
   "cell_type": "code",
   "execution_count": 2,
   "metadata": {},
   "outputs": [],
   "source": [
    "# настройка окружения\n",
    "pd.options.display.max_columns=None\n",
    "pd.options.display.float_format='{:.2f}'.format\n",
    "sns.set(style='whitegrid')\n",
    "plt.style.use('seaborn-pastel')\n"
   ]
  },
  {
   "cell_type": "markdown",
   "metadata": {},
   "source": [
    "<a id=\"1\"></a>\n",
    "## 1. Загрузка данных и общая оценка датасета [▲](#content)"
   ]
  },
  {
   "cell_type": "code",
   "execution_count": 3,
   "metadata": {},
   "outputs": [
    {
     "data": {
      "text/html": [
       "<div>\n",
       "<style scoped>\n",
       "    .dataframe tbody tr th:only-of-type {\n",
       "        vertical-align: middle;\n",
       "    }\n",
       "\n",
       "    .dataframe tbody tr th {\n",
       "        vertical-align: top;\n",
       "    }\n",
       "\n",
       "    .dataframe thead th {\n",
       "        text-align: right;\n",
       "    }\n",
       "</style>\n",
       "<table border=\"1\" class=\"dataframe\">\n",
       "  <thead>\n",
       "    <tr style=\"text-align: right;\">\n",
       "      <th></th>\n",
       "      <th>event</th>\n",
       "      <th>user_id</th>\n",
       "      <th>EventTime</th>\n",
       "      <th>Group</th>\n",
       "    </tr>\n",
       "  </thead>\n",
       "  <tbody>\n",
       "    <tr>\n",
       "      <td>0</td>\n",
       "      <td>StartReadingOffer</td>\n",
       "      <td>7241586465170049200</td>\n",
       "      <td>1564978321</td>\n",
       "      <td>A2</td>\n",
       "    </tr>\n",
       "    <tr>\n",
       "      <td>1</td>\n",
       "      <td>OpenProductCard</td>\n",
       "      <td>4998498972125515821</td>\n",
       "      <td>1564678223</td>\n",
       "      <td>A2</td>\n",
       "    </tr>\n",
       "    <tr>\n",
       "      <td>2</td>\n",
       "      <td>StartReadingOffer</td>\n",
       "      <td>5794343176311717876</td>\n",
       "      <td>1564681595</td>\n",
       "      <td>B</td>\n",
       "    </tr>\n",
       "    <tr>\n",
       "      <td>3</td>\n",
       "      <td>StartReadingOffer</td>\n",
       "      <td>3371640160394640961</td>\n",
       "      <td>1564635919</td>\n",
       "      <td>A1</td>\n",
       "    </tr>\n",
       "    <tr>\n",
       "      <td>4</td>\n",
       "      <td>OpenProductCard</td>\n",
       "      <td>4623191541226589455</td>\n",
       "      <td>1564695060</td>\n",
       "      <td>A1</td>\n",
       "    </tr>\n",
       "  </tbody>\n",
       "</table>\n",
       "</div>"
      ],
      "text/plain": [
       "               event              user_id   EventTime Group\n",
       "0  StartReadingOffer  7241586465170049200  1564978321    A2\n",
       "1    OpenProductCard  4998498972125515821  1564678223    A2\n",
       "2  StartReadingOffer  5794343176311717876  1564681595     B\n",
       "3  StartReadingOffer  3371640160394640961  1564635919    A1\n",
       "4    OpenProductCard  4623191541226589455  1564695060    A1"
      ]
     },
     "execution_count": 3,
     "metadata": {},
     "output_type": "execute_result"
    }
   ],
   "source": [
    "df_test = pd.read_csv('ab_log.csv')\n",
    "df_test.head()"
   ]
  },
  {
   "cell_type": "code",
   "execution_count": 4,
   "metadata": {},
   "outputs": [
    {
     "name": "stdout",
     "output_type": "stream",
     "text": [
      "<class 'pandas.core.frame.DataFrame'>\n",
      "RangeIndex: 154788 entries, 0 to 154787\n",
      "Data columns (total 4 columns):\n",
      "event        154788 non-null object\n",
      "user_id      154788 non-null int64\n",
      "EventTime    154788 non-null int64\n",
      "Group        154788 non-null object\n",
      "dtypes: int64(2), object(2)\n",
      "memory usage: 4.7+ MB\n"
     ]
    }
   ],
   "source": [
    "df_test.info()"
   ]
  },
  {
   "cell_type": "code",
   "execution_count": 5,
   "metadata": {},
   "outputs": [
    {
     "data": {
      "text/html": [
       "<div>\n",
       "<style scoped>\n",
       "    .dataframe tbody tr th:only-of-type {\n",
       "        vertical-align: middle;\n",
       "    }\n",
       "\n",
       "    .dataframe tbody tr th {\n",
       "        vertical-align: top;\n",
       "    }\n",
       "\n",
       "    .dataframe thead th {\n",
       "        text-align: right;\n",
       "    }\n",
       "</style>\n",
       "<table border=\"1\" class=\"dataframe\">\n",
       "  <thead>\n",
       "    <tr style=\"text-align: right;\">\n",
       "      <th></th>\n",
       "      <th>event</th>\n",
       "      <th>Group</th>\n",
       "    </tr>\n",
       "  </thead>\n",
       "  <tbody>\n",
       "    <tr>\n",
       "      <td>count</td>\n",
       "      <td>154788</td>\n",
       "      <td>154788</td>\n",
       "    </tr>\n",
       "    <tr>\n",
       "      <td>unique</td>\n",
       "      <td>4</td>\n",
       "      <td>3</td>\n",
       "    </tr>\n",
       "    <tr>\n",
       "      <td>top</td>\n",
       "      <td>StartReadingOffer</td>\n",
       "      <td>B</td>\n",
       "    </tr>\n",
       "    <tr>\n",
       "      <td>freq</td>\n",
       "      <td>74108</td>\n",
       "      <td>55143</td>\n",
       "    </tr>\n",
       "  </tbody>\n",
       "</table>\n",
       "</div>"
      ],
      "text/plain": [
       "                    event   Group\n",
       "count              154788  154788\n",
       "unique                  4       3\n",
       "top     StartReadingOffer       B\n",
       "freq                74108   55143"
      ]
     },
     "execution_count": 5,
     "metadata": {},
     "output_type": "execute_result"
    }
   ],
   "source": [
    "df_test.describe(include=[np.object])"
   ]
  },
  {
   "cell_type": "markdown",
   "metadata": {},
   "source": [
    "<a id=\"2\"></a>\n",
    "## 2. Подготовка данных [▲](#content)"
   ]
  },
  {
   "cell_type": "code",
   "execution_count": 6,
   "metadata": {},
   "outputs": [],
   "source": [
    "# изменение имен столбцов (для удобства)\n",
    "df_test = df_test.rename(columns={'EventTime':'event_time',\n",
    "                                  'Group':'group'})"
   ]
  },
  {
   "cell_type": "code",
   "execution_count": 7,
   "metadata": {},
   "outputs": [
    {
     "data": {
      "text/html": [
       "<div>\n",
       "<style scoped>\n",
       "    .dataframe tbody tr th:only-of-type {\n",
       "        vertical-align: middle;\n",
       "    }\n",
       "\n",
       "    .dataframe tbody tr th {\n",
       "        vertical-align: top;\n",
       "    }\n",
       "\n",
       "    .dataframe thead th {\n",
       "        text-align: right;\n",
       "    }\n",
       "</style>\n",
       "<table border=\"1\" class=\"dataframe\">\n",
       "  <thead>\n",
       "    <tr style=\"text-align: right;\">\n",
       "      <th></th>\n",
       "      <th>event</th>\n",
       "      <th>user_id</th>\n",
       "      <th>event_time</th>\n",
       "      <th>group</th>\n",
       "    </tr>\n",
       "  </thead>\n",
       "  <tbody>\n",
       "    <tr>\n",
       "      <td>0</td>\n",
       "      <td>StartReadingOffer</td>\n",
       "      <td>7241586465170049200</td>\n",
       "      <td>2019-08-05 04:12:01</td>\n",
       "      <td>A2</td>\n",
       "    </tr>\n",
       "    <tr>\n",
       "      <td>1</td>\n",
       "      <td>OpenProductCard</td>\n",
       "      <td>4998498972125515821</td>\n",
       "      <td>2019-08-01 16:50:23</td>\n",
       "      <td>A2</td>\n",
       "    </tr>\n",
       "    <tr>\n",
       "      <td>2</td>\n",
       "      <td>StartReadingOffer</td>\n",
       "      <td>5794343176311717876</td>\n",
       "      <td>2019-08-01 17:46:35</td>\n",
       "      <td>B</td>\n",
       "    </tr>\n",
       "    <tr>\n",
       "      <td>3</td>\n",
       "      <td>StartReadingOffer</td>\n",
       "      <td>3371640160394640961</td>\n",
       "      <td>2019-08-01 05:05:19</td>\n",
       "      <td>A1</td>\n",
       "    </tr>\n",
       "    <tr>\n",
       "      <td>4</td>\n",
       "      <td>OpenProductCard</td>\n",
       "      <td>4623191541226589455</td>\n",
       "      <td>2019-08-01 21:31:00</td>\n",
       "      <td>A1</td>\n",
       "    </tr>\n",
       "  </tbody>\n",
       "</table>\n",
       "</div>"
      ],
      "text/plain": [
       "               event              user_id          event_time group\n",
       "0  StartReadingOffer  7241586465170049200 2019-08-05 04:12:01    A2\n",
       "1    OpenProductCard  4998498972125515821 2019-08-01 16:50:23    A2\n",
       "2  StartReadingOffer  5794343176311717876 2019-08-01 17:46:35     B\n",
       "3  StartReadingOffer  3371640160394640961 2019-08-01 05:05:19    A1\n",
       "4    OpenProductCard  4623191541226589455 2019-08-01 21:31:00    A1"
      ]
     },
     "execution_count": 7,
     "metadata": {},
     "output_type": "execute_result"
    }
   ],
   "source": [
    "# преобразование даты-времени из unix формата в datetime\n",
    "df_test['event_time'] = pd.to_datetime(df_test['event_time'], unit='s')\n",
    "df_test.head()"
   ]
  },
  {
   "cell_type": "markdown",
   "metadata": {},
   "source": [
    "<a id=\"21\"></a>\n",
    "#### 2.1. Обработка дубликатов [**↑**](#2)"
   ]
  },
  {
   "cell_type": "code",
   "execution_count": 8,
   "metadata": {},
   "outputs": [
    {
     "name": "stdout",
     "output_type": "stream",
     "text": [
      "Число полных дубликатов в таблице: 296\n"
     ]
    }
   ],
   "source": [
    "# проверка на дубликаты\n",
    "print('Число полных дубликатов в таблице:', df_test.duplicated().sum())"
   ]
  },
  {
   "cell_type": "code",
   "execution_count": 9,
   "metadata": {},
   "outputs": [
    {
     "data": {
      "text/html": [
       "<div>\n",
       "<style scoped>\n",
       "    .dataframe tbody tr th:only-of-type {\n",
       "        vertical-align: middle;\n",
       "    }\n",
       "\n",
       "    .dataframe tbody tr th {\n",
       "        vertical-align: top;\n",
       "    }\n",
       "\n",
       "    .dataframe thead th {\n",
       "        text-align: right;\n",
       "    }\n",
       "</style>\n",
       "<table border=\"1\" class=\"dataframe\">\n",
       "  <thead>\n",
       "    <tr style=\"text-align: right;\">\n",
       "      <th></th>\n",
       "      <th>event</th>\n",
       "      <th>user_id</th>\n",
       "      <th>event_time</th>\n",
       "      <th>group</th>\n",
       "    </tr>\n",
       "  </thead>\n",
       "  <tbody>\n",
       "    <tr>\n",
       "      <td>104580</td>\n",
       "      <td>StartReadingOffer</td>\n",
       "      <td>5613408041336554427</td>\n",
       "      <td>2019-07-30 08:36:24</td>\n",
       "      <td>B</td>\n",
       "    </tr>\n",
       "    <tr>\n",
       "      <td>9569</td>\n",
       "      <td>StartReadingOffer</td>\n",
       "      <td>5613408041336554427</td>\n",
       "      <td>2019-07-30 08:36:24</td>\n",
       "      <td>B</td>\n",
       "    </tr>\n",
       "    <tr>\n",
       "      <td>10426</td>\n",
       "      <td>OpenProductCard</td>\n",
       "      <td>1694940645348351119</td>\n",
       "      <td>2019-07-31 22:08:19</td>\n",
       "      <td>B</td>\n",
       "    </tr>\n",
       "    <tr>\n",
       "      <td>44151</td>\n",
       "      <td>OpenProductCard</td>\n",
       "      <td>1694940645348351119</td>\n",
       "      <td>2019-07-31 22:08:19</td>\n",
       "      <td>B</td>\n",
       "    </tr>\n",
       "  </tbody>\n",
       "</table>\n",
       "</div>"
      ],
      "text/plain": [
       "                    event              user_id          event_time group\n",
       "104580  StartReadingOffer  5613408041336554427 2019-07-30 08:36:24     B\n",
       "9569    StartReadingOffer  5613408041336554427 2019-07-30 08:36:24     B\n",
       "10426     OpenProductCard  1694940645348351119 2019-07-31 22:08:19     B\n",
       "44151     OpenProductCard  1694940645348351119 2019-07-31 22:08:19     B"
      ]
     },
     "execution_count": 9,
     "metadata": {},
     "output_type": "execute_result"
    }
   ],
   "source": [
    "# визуальная проверка записей дубликатов\n",
    "df_test[df_test.duplicated(keep=False)==True].sort_values(by='event_time').head(4)"
   ]
  },
  {
   "cell_type": "markdown",
   "metadata": {},
   "source": [
    "**Некоторые записи полностью дублируются - их удаляем:**"
   ]
  },
  {
   "cell_type": "code",
   "execution_count": 10,
   "metadata": {},
   "outputs": [
    {
     "name": "stdout",
     "output_type": "stream",
     "text": [
      "<class 'pandas.core.frame.DataFrame'>\n",
      "Int64Index: 154492 entries, 0 to 154787\n",
      "Data columns (total 4 columns):\n",
      "event         154492 non-null object\n",
      "user_id       154492 non-null int64\n",
      "event_time    154492 non-null datetime64[ns]\n",
      "group         154492 non-null object\n",
      "dtypes: datetime64[ns](1), int64(1), object(2)\n",
      "memory usage: 5.9+ MB\n"
     ]
    }
   ],
   "source": [
    "# удаление дубликатов \n",
    "df_test.drop_duplicates(inplace=True)\n",
    "df_test.info()"
   ]
  },
  {
   "cell_type": "markdown",
   "metadata": {},
   "source": [
    "<a id=\"22\"></a>\n",
    "#### 2.2. Проверка целостности данных [**↑**](#2)"
   ]
  },
  {
   "cell_type": "code",
   "execution_count": 11,
   "metadata": {},
   "outputs": [
    {
     "data": {
      "text/plain": [
       "StartReadingOffer    74044\n",
       "StartCheckProduct    30114\n",
       "OpenProductCard      27699\n",
       "OpenPaymentScreen    22635\n",
       "Name: event, dtype: int64"
      ]
     },
     "execution_count": 11,
     "metadata": {},
     "output_type": "execute_result"
    }
   ],
   "source": [
    "# оценка целостности данных в столбце 'event'\n",
    "df_test['event'].value_counts()"
   ]
  },
  {
   "cell_type": "markdown",
   "metadata": {},
   "source": [
    "**Имеем 4 варианта событий, опечаток в названиях нет. Все корректно.**"
   ]
  },
  {
   "cell_type": "code",
   "execution_count": 12,
   "metadata": {},
   "outputs": [
    {
     "data": {
      "text/plain": [
       "B     55018\n",
       "A2    49828\n",
       "A1    49646\n",
       "Name: group, dtype: int64"
      ]
     },
     "execution_count": 12,
     "metadata": {},
     "output_type": "execute_result"
    }
   ],
   "source": [
    "# оценка целостности данных в столбце 'group'\n",
    "df_test['group'].value_counts()"
   ]
  },
  {
   "cell_type": "markdown",
   "metadata": {},
   "source": [
    "**Обозначения групп соответствуют заявленным, \"лишние\" отсутствуют. Число записей в выборках имеет расхождение в пределах 10%. Все в порядке.**"
   ]
  },
  {
   "cell_type": "code",
   "execution_count": 13,
   "metadata": {},
   "outputs": [
    {
     "data": {
      "text/plain": [
       "count                  154492\n",
       "unique                 112980\n",
       "top       2019-08-01 14:57:15\n",
       "freq                        9\n",
       "first     2019-07-25 05:00:16\n",
       "last      2019-08-05 11:47:10\n",
       "Name: event_time, dtype: object"
      ]
     },
     "execution_count": 13,
     "metadata": {},
     "output_type": "execute_result"
    }
   ],
   "source": [
    "# проверка корректности временных меток (оценка разброса мин-макс)\n",
    "df_test['event_time'].describe()"
   ]
  },
  {
   "cell_type": "markdown",
   "metadata": {},
   "source": [
    "**Диапазон дат с 25 июля по 05 августа 2019 года. \"Выбросы\" возможных ошибок отсутствуют.**"
   ]
  },
  {
   "cell_type": "markdown",
   "metadata": {},
   "source": [
    "<a id=\"23\"></a>\n",
    "#### 2.3. Создание дополнительных полей [**↑**](#2)"
   ]
  },
  {
   "cell_type": "code",
   "execution_count": 14,
   "metadata": {},
   "outputs": [
    {
     "data": {
      "text/html": [
       "<div>\n",
       "<style scoped>\n",
       "    .dataframe tbody tr th:only-of-type {\n",
       "        vertical-align: middle;\n",
       "    }\n",
       "\n",
       "    .dataframe tbody tr th {\n",
       "        vertical-align: top;\n",
       "    }\n",
       "\n",
       "    .dataframe thead th {\n",
       "        text-align: right;\n",
       "    }\n",
       "</style>\n",
       "<table border=\"1\" class=\"dataframe\">\n",
       "  <thead>\n",
       "    <tr style=\"text-align: right;\">\n",
       "      <th></th>\n",
       "      <th>event</th>\n",
       "      <th>user_id</th>\n",
       "      <th>event_time</th>\n",
       "      <th>group</th>\n",
       "      <th>date</th>\n",
       "      <th>time</th>\n",
       "    </tr>\n",
       "  </thead>\n",
       "  <tbody>\n",
       "    <tr>\n",
       "      <td>0</td>\n",
       "      <td>StartReadingOffer</td>\n",
       "      <td>7241586465170049200</td>\n",
       "      <td>2019-08-05 04:12:01</td>\n",
       "      <td>A2</td>\n",
       "      <td>2019-08-05</td>\n",
       "      <td>04:12:01</td>\n",
       "    </tr>\n",
       "    <tr>\n",
       "      <td>1</td>\n",
       "      <td>OpenProductCard</td>\n",
       "      <td>4998498972125515821</td>\n",
       "      <td>2019-08-01 16:50:23</td>\n",
       "      <td>A2</td>\n",
       "      <td>2019-08-01</td>\n",
       "      <td>16:50:23</td>\n",
       "    </tr>\n",
       "    <tr>\n",
       "      <td>2</td>\n",
       "      <td>StartReadingOffer</td>\n",
       "      <td>5794343176311717876</td>\n",
       "      <td>2019-08-01 17:46:35</td>\n",
       "      <td>B</td>\n",
       "      <td>2019-08-01</td>\n",
       "      <td>17:46:35</td>\n",
       "    </tr>\n",
       "    <tr>\n",
       "      <td>3</td>\n",
       "      <td>StartReadingOffer</td>\n",
       "      <td>3371640160394640961</td>\n",
       "      <td>2019-08-01 05:05:19</td>\n",
       "      <td>A1</td>\n",
       "      <td>2019-08-01</td>\n",
       "      <td>05:05:19</td>\n",
       "    </tr>\n",
       "    <tr>\n",
       "      <td>4</td>\n",
       "      <td>OpenProductCard</td>\n",
       "      <td>4623191541226589455</td>\n",
       "      <td>2019-08-01 21:31:00</td>\n",
       "      <td>A1</td>\n",
       "      <td>2019-08-01</td>\n",
       "      <td>21:31:00</td>\n",
       "    </tr>\n",
       "  </tbody>\n",
       "</table>\n",
       "</div>"
      ],
      "text/plain": [
       "               event              user_id          event_time group  \\\n",
       "0  StartReadingOffer  7241586465170049200 2019-08-05 04:12:01    A2   \n",
       "1    OpenProductCard  4998498972125515821 2019-08-01 16:50:23    A2   \n",
       "2  StartReadingOffer  5794343176311717876 2019-08-01 17:46:35     B   \n",
       "3  StartReadingOffer  3371640160394640961 2019-08-01 05:05:19    A1   \n",
       "4    OpenProductCard  4623191541226589455 2019-08-01 21:31:00    A1   \n",
       "\n",
       "         date      time  \n",
       "0  2019-08-05  04:12:01  \n",
       "1  2019-08-01  16:50:23  \n",
       "2  2019-08-01  17:46:35  \n",
       "3  2019-08-01  05:05:19  \n",
       "4  2019-08-01  21:31:00  "
      ]
     },
     "execution_count": 14,
     "metadata": {},
     "output_type": "execute_result"
    }
   ],
   "source": [
    "# создаем отдельные столбцы с датой 'date' и со временем 'time'\n",
    "df_test['date'] = df_test['event_time'].dt.date\n",
    "df_test['time'] = df_test['event_time'].dt.time\n",
    "df_test.head()"
   ]
  },
  {
   "cell_type": "code",
   "execution_count": 15,
   "metadata": {},
   "outputs": [],
   "source": [
    "# добавляем столбец с ID операции (используем текущий индекс датасета)\n",
    "df_test['operation_id'] = df_test.index"
   ]
  },
  {
   "cell_type": "markdown",
   "metadata": {},
   "source": [
    "**Вывод:** Выполнено преобразование формата даты-времени, выполнена проверка заполнения полей 'event', 'group'. Удалены дубликаты. Добавлены столбцы с датой и временем события. Диапазон дат у данных с 25 июля по 05 августа 2019 года"
   ]
  },
  {
   "cell_type": "markdown",
   "metadata": {},
   "source": [
    "<a id=\"3\"></a>\n",
    "## Шаг 3. Изучение и проверка данных [▲](#content)"
   ]
  },
  {
   "cell_type": "markdown",
   "metadata": {},
   "source": [
    "После удаления дубликатов в логе осталось **154 492 записей.** "
   ]
  },
  {
   "cell_type": "markdown",
   "metadata": {},
   "source": [
    "#### Оценка временного диапазона имеющихся данных"
   ]
  },
  {
   "cell_type": "code",
   "execution_count": 16,
   "metadata": {},
   "outputs": [
    {
     "data": {
      "image/png": "[encoded data removed]",
      "text/plain": [
       "<Figure size 1008x432 with 1 Axes>"
      ]
     },
     "metadata": {},
     "output_type": "display_data"
    }
   ],
   "source": [
    "# строим гистограмму зарегистрированных событий по датам\n",
    "\n",
    "f, ax = plt.subplots(figsize=(14, 6))\n",
    "#sns.set_color_codes(\"muted\")\n",
    "sns.barplot(data=df_test.groupby('date')['event'].count().reset_index(),\n",
    "            x=\"date\", y=\"event\", color='b');\n",
    "# Добавляем заголовок легенду и подписи осей\n",
    "ax.set_title('Число событий по датам', fontdict={'fontsize': 'x-large'})\n",
    "ax.set(ylabel=\"число событий\", xlabel=\"дата\")\n",
    "sns.despine(left=True);"
   ]
  },
  {
   "cell_type": "markdown",
   "metadata": {},
   "source": [
    "На графике видно, что основной массив событий происходил начиная с **01 августа по 05 августа 2019 года.** Возможно влияют особенности алгоритма регистрации данных эксперимента. Тем не менее, если соблюдено разделение на группы, данные могут быть вполне корректны. Проверим число возможных потреь при \"обрезке\":"
   ]
  },
  {
   "cell_type": "code",
   "execution_count": 17,
   "metadata": {},
   "outputs": [
    {
     "name": "stdout",
     "output_type": "stream",
     "text": [
      "Общее число записей: 154492\n",
      "Число записей после 01 августа 2019г.: 151678\n",
      "Потери данных при обрезке записей до 01 августа 2019г.: 1.82%\n"
     ]
    }
   ],
   "source": [
    "# Число записей после 01 августа 2019г.:\n",
    "records_after_190731 = df_test[df_test['date'] > np.datetime64('2019-07-31')].shape[0]\n",
    "\n",
    "print('Общее число записей:', df_test.shape[0])\n",
    "print('Число записей после 01 августа 2019г.:', records_after_190731)\n",
    "print('Потери данных при обрезке записей до 01 августа 2019г.: {:.2%}'.format(1 - records_after_190731 / df_test.shape[0]))"
   ]
  },
  {
   "cell_type": "markdown",
   "metadata": {},
   "source": [
    "Будет потеряно около **1.82% данных**, это допустимо, к тому же есть вероятность некорректной работы алгоритма разбивки на группы в стартовый период. Выполнем \"обрезку\": "
   ]
  },
  {
   "cell_type": "code",
   "execution_count": 18,
   "metadata": {},
   "outputs": [],
   "source": [
    "# удаляем записи до 31 июля 2019 включительно:\n",
    "df_test = df_test[df_test['date'] > np.datetime64('2019-07-31')]"
   ]
  },
  {
   "cell_type": "markdown",
   "metadata": {},
   "source": [
    "**Проверка итогов обработки:**"
   ]
  },
  {
   "cell_type": "code",
   "execution_count": 19,
   "metadata": {},
   "outputs": [
    {
     "name": "stdout",
     "output_type": "stream",
     "text": [
      "Число записей после очистки: 151678\n",
      "Число уникальных пользователей: 6736\n"
     ]
    }
   ],
   "source": [
    "# число записей оставшихся после очистки\n",
    "print('Число записей после очистки:', df_test.shape[0])\n",
    "print('Число уникальных пользователей:', df_test['user_id'].nunique())\n"
   ]
  },
  {
   "cell_type": "markdown",
   "metadata": {},
   "source": [
    "**Вывод:**\\\n",
    "**Основной сбор данных (по количеству) произошел в период с 01 по 05 августа 2019г.**"
   ]
  },
  {
   "cell_type": "markdown",
   "metadata": {},
   "source": [
    "<a id=\"4\"></a>\n",
    "## Шаг 4. Обработка результатов AAB теста [▲](#content)"
   ]
  },
  {
   "cell_type": "markdown",
   "metadata": {},
   "source": [
    "<a id=\"41\"></a>\n",
    "### 4.1. Подготовка данных [**↑**](#4)"
   ]
  },
  {
   "cell_type": "markdown",
   "metadata": {},
   "source": [
    "В нашем случае требуется ответ на вопрос: как изменилось число пользователей дошедших до покупки. Рабочей гипотезой будет изменение доли уникальных пользователей после добавления чата  с менеджером.\\\n",
    "На первом этапе готовим датасет для проведения тестов. Добавим столбец 'payer' с логической меткой, дошел пользователь до оплаты или нет. Среднее по этому столбцу будет соотвествовать среднему числу пользователей дошедших до покупки."
   ]
  },
  {
   "cell_type": "code",
   "execution_count": 20,
   "metadata": {},
   "outputs": [
    {
     "data": {
      "text/html": [
       "<div>\n",
       "<style scoped>\n",
       "    .dataframe tbody tr th:only-of-type {\n",
       "        vertical-align: middle;\n",
       "    }\n",
       "\n",
       "    .dataframe tbody tr th {\n",
       "        vertical-align: top;\n",
       "    }\n",
       "\n",
       "    .dataframe thead th {\n",
       "        text-align: right;\n",
       "    }\n",
       "</style>\n",
       "<table border=\"1\" class=\"dataframe\">\n",
       "  <thead>\n",
       "    <tr style=\"text-align: right;\">\n",
       "      <th></th>\n",
       "      <th>group</th>\n",
       "      <th>group_size</th>\n",
       "      <th>paying_share</th>\n",
       "    </tr>\n",
       "  </thead>\n",
       "  <tbody>\n",
       "    <tr>\n",
       "      <td>0</td>\n",
       "      <td>A1</td>\n",
       "      <td>2255</td>\n",
       "      <td>0.49</td>\n",
       "    </tr>\n",
       "    <tr>\n",
       "      <td>1</td>\n",
       "      <td>A2</td>\n",
       "      <td>2216</td>\n",
       "      <td>0.51</td>\n",
       "    </tr>\n",
       "    <tr>\n",
       "      <td>2</td>\n",
       "      <td>B</td>\n",
       "      <td>2265</td>\n",
       "      <td>0.48</td>\n",
       "    </tr>\n",
       "  </tbody>\n",
       "</table>\n",
       "</div>"
      ],
      "text/plain": [
       "  group  group_size  paying_share\n",
       "0    A1        2255          0.49\n",
       "1    A2        2216          0.51\n",
       "2     B        2265          0.48"
      ]
     },
     "execution_count": 20,
     "metadata": {},
     "output_type": "execute_result"
    }
   ],
   "source": [
    "# готовим список 'id' пользователей дошедших до события 'OpenPaymentScreen'\n",
    "uid_payer = df_test.loc[df_test['event'] == 'OpenPaymentScreen', 'user_id'].drop_duplicates()\n",
    "# формируем датафрейм для тестов с необходимой информацией\n",
    "df_sample = df_test[['user_id', 'group']].drop_duplicates()\n",
    "# для всех пользователей по умолчанию устанавливаем признак оплаты False\n",
    "df_sample['payer'] = False\n",
    "# в соответсвии с подготовленным списком для пользователей дошедших до оплаты ставим True\n",
    "df_sample.loc[df_sample['user_id'].isin(uid_payer), 'payer'] = True\n",
    "# проверяем результат\n",
    "(df_sample.groupby('group').agg({'user_id':'nunique', 'payer':'mean'})\n",
    "        .reset_index().rename(columns={'user_id':'group_size', 'payer':'paying_share'}))"
   ]
  },
  {
   "cell_type": "markdown",
   "metadata": {},
   "source": [
    "Разбиение пользователей по группам  работает корректно. Размер групп составил: **от 2216 до 2265.**"
   ]
  },
  {
   "cell_type": "code",
   "execution_count": 21,
   "metadata": {},
   "outputs": [],
   "source": [
    "# разделяем датасет по эксперементальным группам А1, А2, AA (объединение A1 + A2) и В\n",
    "sampleA1 = df_sample.loc[df_sample['group'].isin(['A1']), 'payer']\n",
    "sampleA2 = df_sample.loc[df_sample['group'].isin(['A2']), 'payer']\n",
    "sampleAA = df_sample.loc[df_sample['group'].isin(['A1', 'A2']), 'payer']\n",
    "sampleB = df_sample.loc[df_sample['group'].isin(['B']), 'payer']"
   ]
  },
  {
   "cell_type": "markdown",
   "metadata": {},
   "source": [
    "<a id=\"42\"></a>\n",
    "### 4.2 Проверка результатов теста [**↑**](#4)"
   ]
  },
  {
   "cell_type": "markdown",
   "metadata": {},
   "source": [
    "Сравниваемые **выборки являются независимыми.**\\\n",
    "**При проверке всех гипотез устанавливаем alpha = 5%**\n",
    "***\n",
    "Поскольку имеем более 2000 значений в каждой выборке, то тест на соответствие распределения нормальному можно не проводить, согласно ЦПТ, распределение средних любого распределения будет подчиняться нормальному закону и следовательно для проверки равенства средних можно использовать t-критерий Стьюдента без дополнительных проверок.\n",
    "***\n",
    "Поскольку доля клиентов дошедших до покупки равно арифметическому среднему нашей выборки по столбцу 'payer', то t-критерий Стьюдента для независимых выборок вполне подходит в данном случае.\n",
    "Формат столбца 'payer' с признаком дошел клиент до оплаты или нет, можно оставить логическим, поскольку при вычислениях True эквивалентно \"1\", а False - \"0\". "
   ]
  },
  {
   "cell_type": "markdown",
   "metadata": {},
   "source": [
    "**В первую очередь проверяем корректность разбивки на группы при эксперименте, т.е. равенство долей клиентов дошедших до покупки по контрольным грппам A1, A2 и АА. Гипотеза:**\n",
    "- H0 - среднее число клиентов дошедших до покупки равны для выборок\n",
    "- H1 - среднее число клиентов дошедших до покупки отличаются в выборках"
   ]
  },
  {
   "cell_type": "markdown",
   "metadata": {},
   "source": [
    "Поскольку у нас множественный тест (три попарных сравнения на одних и тех же данных), нужно скорректировать значение допустимого уровня значимости в отдельных тестах. Для этого применяются методы Бонферрони, Холма, Шидака. Чтобы сохранить большую мощность теста, вместо метода Бонферрони применяем **метод Шидака**, тогда для 3 попарных тестов, уровень значимости в парных сравнениях при групповом  p-value 5% составит:"
   ]
  },
  {
   "cell_type": "code",
   "execution_count": 48,
   "metadata": {},
   "outputs": [
    {
     "data": {
      "text/plain": [
       "0.01695"
      ]
     },
     "execution_count": 48,
     "metadata": {},
     "output_type": "execute_result"
    }
   ],
   "source": [
    "p_value_shidok = np.round((1 - (1 - 0.05)**(1/3)), 5)\n",
    "p_value_shidok"
   ]
  },
  {
   "cell_type": "code",
   "execution_count": 45,
   "metadata": {},
   "outputs": [
    {
     "data": {
      "text/html": [
       "<style  type=\"text/css\" >\n",
       "</style><table id=\"T_43572f98_3ea0_11ea_b45e_1831bf0898c8\" ><thead>    <tr>        <th class=\"blank level0\" ></th>        <th class=\"col_heading level0 col0\" >index</th>        <th class=\"col_heading level0 col1\" >p-value</th>        <th class=\"col_heading level0 col2\" >shidok</th>        <th class=\"col_heading level0 col3\" >confirmed</th>    </tr></thead><tbody>\n",
       "                <tr>\n",
       "                        <th id=\"T_43572f98_3ea0_11ea_b45e_1831bf0898c8level0_row0\" class=\"row_heading level0 row0\" >0</th>\n",
       "                        <td id=\"T_43572f98_3ea0_11ea_b45e_1831bf0898c8row0_col0\" class=\"data row0 col0\" >A1-A2</td>\n",
       "                        <td id=\"T_43572f98_3ea0_11ea_b45e_1831bf0898c8row0_col1\" class=\"data row0 col1\" >23.70%</td>\n",
       "                        <td id=\"T_43572f98_3ea0_11ea_b45e_1831bf0898c8row0_col2\" class=\"data row0 col2\" >1.70%</td>\n",
       "                        <td id=\"T_43572f98_3ea0_11ea_b45e_1831bf0898c8row0_col3\" class=\"data row0 col3\" >True</td>\n",
       "            </tr>\n",
       "            <tr>\n",
       "                        <th id=\"T_43572f98_3ea0_11ea_b45e_1831bf0898c8level0_row1\" class=\"row_heading level0 row1\" >1</th>\n",
       "                        <td id=\"T_43572f98_3ea0_11ea_b45e_1831bf0898c8row1_col0\" class=\"data row1 col0\" >A1-AA</td>\n",
       "                        <td id=\"T_43572f98_3ea0_11ea_b45e_1831bf0898c8row1_col1\" class=\"data row1 col1\" >49.70%</td>\n",
       "                        <td id=\"T_43572f98_3ea0_11ea_b45e_1831bf0898c8row1_col2\" class=\"data row1 col2\" >1.70%</td>\n",
       "                        <td id=\"T_43572f98_3ea0_11ea_b45e_1831bf0898c8row1_col3\" class=\"data row1 col3\" >True</td>\n",
       "            </tr>\n",
       "            <tr>\n",
       "                        <th id=\"T_43572f98_3ea0_11ea_b45e_1831bf0898c8level0_row2\" class=\"row_heading level0 row2\" >2</th>\n",
       "                        <td id=\"T_43572f98_3ea0_11ea_b45e_1831bf0898c8row2_col0\" class=\"data row2 col0\" >A2-AA</td>\n",
       "                        <td id=\"T_43572f98_3ea0_11ea_b45e_1831bf0898c8row2_col1\" class=\"data row2 col1\" >49.20%</td>\n",
       "                        <td id=\"T_43572f98_3ea0_11ea_b45e_1831bf0898c8row2_col2\" class=\"data row2 col2\" >1.70%</td>\n",
       "                        <td id=\"T_43572f98_3ea0_11ea_b45e_1831bf0898c8row2_col3\" class=\"data row2 col3\" >True</td>\n",
       "            </tr>\n",
       "    </tbody></table>"
      ],
      "text/plain": [
       "<pandas.io.formats.style.Styler at 0x2bc9a894108>"
      ]
     },
     "execution_count": 45,
     "metadata": {},
     "output_type": "execute_result"
    }
   ],
   "source": [
    "ttest_table_A = (pd.Series({'A1-A2':np.round(st.ttest_ind(sampleA1, sampleA2)[1],3),\n",
    "                        'A1-AA':np.round(st.ttest_ind(sampleA1, sampleAA)[1],3),\n",
    "                        'A2-AA':np.round(st.ttest_ind(sampleA2, sampleAA)[1],3)})\n",
    "                        .reset_index().rename(columns={0:'p-value'}) )\n",
    "ttest_table_A['shidok'] = p_value_shidok\n",
    "ttest_table_A['confirmed'] =  ttest_table_A['p-value'] > ttest_table_A['shidok']\n",
    "ttest_table_A.style.format({'p-value': '{:.2%}', 'shidok': '{:.2%}'})"
   ]
  },
  {
   "cell_type": "markdown",
   "metadata": {},
   "source": [
    "Гипотеза равенства долей для контрольных выборок А1 и А2 **H0 - подтвердилась**.\\"
   ]
  },
  {
   "cell_type": "markdown",
   "metadata": {},
   "source": [
    "**Проверка гипотезы о снижении доли клиентов дошедших до покупки при версии сайта с чатом. Гипотеза:**\n",
    "- H0 - среднее число клиентов дошедших до покупки не изменилось\n",
    "- H1 - среднее число клиентов дошедших до покупки уменьшилось при использовании чата\\\n",
    "\n",
    "Среднее для группы B (доля клиентов) самая маленькая среди выборок и составляет 0.48.\\\n",
    "Проверяем одностороннюю гипотезу, поэтому в расчетах полученный **p-value  делим на 2.**\n",
    "Поскольку тест множественный, используем поправку к групповому p-value по методу Шидака аналогично предыдущей гипотезе. Число попарных сравнений также 3, поэтому и значение p-value сохраняется."
   ]
  },
  {
   "cell_type": "code",
   "execution_count": 49,
   "metadata": {},
   "outputs": [
    {
     "data": {
      "text/html": [
       "<style  type=\"text/css\" >\n",
       "</style><table id=\"T_c1ea44b0_3ea2_11ea_b57d_1831bf0898c8\" ><thead>    <tr>        <th class=\"blank level0\" ></th>        <th class=\"col_heading level0 col0\" >index</th>        <th class=\"col_heading level0 col1\" >p-value</th>        <th class=\"col_heading level0 col2\" >shidok</th>        <th class=\"col_heading level0 col3\" >confirmed</th>    </tr></thead><tbody>\n",
       "                <tr>\n",
       "                        <th id=\"T_c1ea44b0_3ea2_11ea_b57d_1831bf0898c8level0_row0\" class=\"row_heading level0 row0\" >0</th>\n",
       "                        <td id=\"T_c1ea44b0_3ea2_11ea_b57d_1831bf0898c8row0_col0\" class=\"data row0 col0\" >B-A1</td>\n",
       "                        <td id=\"T_c1ea44b0_3ea2_11ea_b57d_1831bf0898c8row0_col1\" class=\"data row0 col1\" >26.70%</td>\n",
       "                        <td id=\"T_c1ea44b0_3ea2_11ea_b57d_1831bf0898c8row0_col2\" class=\"data row0 col2\" >1.70%</td>\n",
       "                        <td id=\"T_c1ea44b0_3ea2_11ea_b57d_1831bf0898c8row0_col3\" class=\"data row0 col3\" >True</td>\n",
       "            </tr>\n",
       "            <tr>\n",
       "                        <th id=\"T_c1ea44b0_3ea2_11ea_b57d_1831bf0898c8level0_row1\" class=\"row_heading level0 row1\" >1</th>\n",
       "                        <td id=\"T_c1ea44b0_3ea2_11ea_b57d_1831bf0898c8row1_col0\" class=\"data row1 col0\" >B-A2</td>\n",
       "                        <td id=\"T_c1ea44b0_3ea2_11ea_b57d_1831bf0898c8row1_col1\" class=\"data row1 col1\" >3.60%</td>\n",
       "                        <td id=\"T_c1ea44b0_3ea2_11ea_b57d_1831bf0898c8row1_col2\" class=\"data row1 col2\" >1.70%</td>\n",
       "                        <td id=\"T_c1ea44b0_3ea2_11ea_b57d_1831bf0898c8row1_col3\" class=\"data row1 col3\" >True</td>\n",
       "            </tr>\n",
       "            <tr>\n",
       "                        <th id=\"T_c1ea44b0_3ea2_11ea_b57d_1831bf0898c8level0_row2\" class=\"row_heading level0 row2\" >2</th>\n",
       "                        <td id=\"T_c1ea44b0_3ea2_11ea_b57d_1831bf0898c8row2_col0\" class=\"data row2 col0\" >B-AA</td>\n",
       "                        <td id=\"T_c1ea44b0_3ea2_11ea_b57d_1831bf0898c8row2_col1\" class=\"data row2 col1\" >8.10%</td>\n",
       "                        <td id=\"T_c1ea44b0_3ea2_11ea_b57d_1831bf0898c8row2_col2\" class=\"data row2 col2\" >1.70%</td>\n",
       "                        <td id=\"T_c1ea44b0_3ea2_11ea_b57d_1831bf0898c8row2_col3\" class=\"data row2 col3\" >True</td>\n",
       "            </tr>\n",
       "    </tbody></table>"
      ],
      "text/plain": [
       "<pandas.io.formats.style.Styler at 0x2bc9a8984c8>"
      ]
     },
     "execution_count": 49,
     "metadata": {},
     "output_type": "execute_result"
    }
   ],
   "source": [
    "ttest_table_B = (pd.Series({'B-A1':np.round(st.ttest_ind(sampleB, sampleA1)[1] / 2, 3),\n",
    "                        'B-A2':np.round(st.ttest_ind(sampleB, sampleA2)[1] / 2, 3),\n",
    "                        'B-AA':np.round(st.ttest_ind(sampleB, sampleAA)[1] / 2, 3)})\n",
    "                        .reset_index().rename(columns={0:'p-value'}) )\n",
    "ttest_table_B['shidok'] = p_value_shidok\n",
    "ttest_table_B['confirmed'] =  ttest_table_B['p-value'] > ttest_table_B['shidok']\n",
    "ttest_table_B.style.format({'p-value': '{:.2%}', 'shidok': '{:.2%}'})"
   ]
  },
  {
   "cell_type": "markdown",
   "metadata": {},
   "source": [
    "**Вывод:**\\\n",
    "**H0 - подтвердилась. При принятом уровне группового p-value 5%, статистически значимого уменьшения доли клиентов дошедших до покупки не произошло.**"
   ]
  },
  {
   "cell_type": "markdown",
   "metadata": {},
   "source": [
    "<a id=\"summary\"></a>\n",
    "## Общий вывод [▲](#content)"
   ]
  },
  {
   "cell_type": "markdown",
   "metadata": {},
   "source": [
    "**При использовании чата с менеджером статистически значимого уменьшения доли клиентов дошедших до покупки не произошло, на принятом уровне группового p-value 5%.**"
   ]
  }
 ],
 "metadata": {
  "kernelspec": {
   "display_name": "Python 3",
   "language": "python",
   "name": "python3"
  },
  "language_info": {
   "codemirror_mode": {
    "name": "ipython",
    "version": 3
   },
   "file_extension": ".py",
   "mimetype": "text/x-python",
   "name": "python",
   "nbconvert_exporter": "python",
   "pygments_lexer": "ipython3",
   "version": "3.7.4"
  }
 },
 "nbformat": 4,
 "nbformat_minor": 2
}
