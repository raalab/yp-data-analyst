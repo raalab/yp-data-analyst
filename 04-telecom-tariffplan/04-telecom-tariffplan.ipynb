{
 "cells": [
  {
   "cell_type": "markdown",
   "metadata": {},
   "source": [
    "# Определение перспективного тарифа для телеком компании"
   ]
  },
  {
   "cell_type": "markdown",
   "metadata": {},
   "source": [
    "### Описание проекта\n",
    "Вы аналитик компании «Мегалайн» — федерального оператора сотовой связи. Клиентам предлагают два тарифных плана: «Смарт» и «Ультра». Чтобы скорректировать рекламный бюджет, коммерческий департамент хочет понять, какой тариф приносит больше денег.\n",
    "Вам предстоит сделать предварительный анализ тарифов на небольшой выборке клиентов. В вашем распоряжении данные 500 пользователей «Мегалайна»: кто они, откуда, каким тарифом пользуются, сколько звонков и сообщений каждый отправил за 2018 год. **Нужно проанализировать поведение клиентов и сделать вывод — какой тариф лучше.\n",
    "\n",
    "Описание тарифов\n",
    "\n",
    "**Тариф «Смарт»\n",
    "-**\n",
    "Ежемесячная плата: 550 рублей\n",
    "Включено 500 минут разговора, 50 сообщений и 15 Гб интернет-трафика\n",
    "Стоимость услуг сверх тарифного пакета:\n",
    "минута разговора: 3 рубля \n",
    "сообщение: 3 рубля\n",
    "1 Гб интернет-трафика: 200 рублей\n",
    "**«Мегалайн» всегда округляет вверх значения минут и мегабайтов. \n",
    "Если пользователь проговорил всего 1 секунду, в тарифе засчитывается целая минута.\n",
    "\n",
    "\n",
    "**Тариф «Ультра»\n",
    "-**\n",
    "Ежемесячная плата: 1950 рублей\n",
    "Включено 3000 минут разговора, 1000 сообщений и 30 Гб интернет-трафика\n",
    "Стоимость услуг сверх тарифного пакета:\n",
    "минута разговора: 1 рубль\n",
    "сообщение: 1 рубль\n",
    "1 Гб интернет-трафика: 150 рублей\n",
    "***\n",
    "**Источник данных:\n",
    "Собственные данные компании «Мегалайна» по 500 пользователям за 2018 год: \n",
    "кто они, откуда, каким тарифом пользуются, сколько звонков и сообщений каждый отправил \n",
    "-***\n",
    "Путь к файлам:\n",
    "/datasets/calls.csv\n",
    "/datasets/internet.csv\n",
    "/datasets/messages.csv\n",
    "/datasets/tariffs.csv\n",
    "/datasets/users.csv"
   ]
  },
  {
   "cell_type": "markdown",
   "metadata": {},
   "source": [
    "**Описание данных**\n",
    "***\n",
    "**Таблица users (информация о пользователях):**\\\n",
    "user_id — уникальный идентификатор пользователя\n",
    "first_name — имя пользователя\n",
    "last_name — фамилия пользователя\n",
    "age — возраст пользователя (годы)\n",
    "reg_date — дата подключения тарифа (день, месяц, год)\n",
    "churn_date — дата прекращения пользования тарифом (если значение пропущено, то тариф ещё действовал на момент выгрузки данных)\n",
    "city — город проживания пользователя\n",
    "tariff — название тарифного плана\n",
    "***\n",
    "**Таблица calls (информация о звонках):**\\\n",
    "id — уникальный номер звонка\n",
    "call_date — дата звонка\n",
    "duration — длительность звонка в минутах\n",
    "user_id — идентификатор пользователя, сделавшего звонок\n",
    "***\n",
    "**Таблица messages (информация о сообщениях):**\\\n",
    "id — уникальный номер сообщения\n",
    "message_date — дата сообщения\n",
    "user_id — идентификатор пользователя, отправившего сообщение\n",
    "***\n",
    "**Таблица internet (информация об интернет-сессиях):**\\\n",
    "id — уникальный номер сессии\n",
    "mb_used — объём потраченного за сессию интернет-трафика (в мегабайтах)\n",
    "session_date — дата интернет-сессии\n",
    "user_id — идентификатор пользователя\n",
    "\n",
    "**Таблица tariffs (информация о тарифах):**\\\n",
    "tariff_name — название тарифа\n",
    "rub_monthly_fee — ежемесячная абонентская плата в рублях\n",
    "minutes_included — количество минут разговора в месяц, включённых в абонентскую плату\n",
    "messages_included — количество сообщений в месяц, включённых в абонентскую плату\n",
    "mb_per_month_included — объём интернет-трафика, включённого в абонентскую плату (в мегабайтах)\n",
    "rub_per_minute — стоимость минуты разговора сверх тарифного пакета (например, если в тарифе 100 минут разговора в месяц, то со 101 минуты будет взиматься плата)\n",
    "rub_per_message — стоимость отправки сообщения сверх тарифного пакета\n",
    "rub_per_gb — стоимость дополнительного гигабайта интернет-трафика сверх тарифного пакета (1 гигабайт = 1024 мегабайта)"
   ]
  },
  {
   "cell_type": "code",
   "execution_count": 1,
   "metadata": {},
   "outputs": [],
   "source": [
    "# Загрузка необходимых библиотек и настройка окружения\n",
    "import pandas as pd\n",
    "import numpy as np\n",
    "import matplotlib.pyplot as plt\n",
    "from scipy import stats as st\n",
    "\n",
    "# Настройка окружения\n",
    "pd.options.display.width = 160\n",
    "pd.options.display.max_columns = None\n",
    "pd.options.display.float_format = '{0:.2f}'.format"
   ]
  },
  {
   "cell_type": "markdown",
   "metadata": {},
   "source": [
    "### Шаг 1. Открытие файла с данными и изучение общей информации"
   ]
  },
  {
   "cell_type": "code",
   "execution_count": 34,
   "metadata": {},
   "outputs": [
    {
     "data": {
      "text/html": [
       "<div>\n",
       "<style scoped>\n",
       "    .dataframe tbody tr th:only-of-type {\n",
       "        vertical-align: middle;\n",
       "    }\n",
       "\n",
       "    .dataframe tbody tr th {\n",
       "        vertical-align: top;\n",
       "    }\n",
       "\n",
       "    .dataframe thead th {\n",
       "        text-align: right;\n",
       "    }\n",
       "</style>\n",
       "<table border=\"1\" class=\"dataframe\">\n",
       "  <thead>\n",
       "    <tr style=\"text-align: right;\">\n",
       "      <th></th>\n",
       "      <th>id</th>\n",
       "      <th>call_date</th>\n",
       "      <th>duration</th>\n",
       "      <th>user_id</th>\n",
       "    </tr>\n",
       "  </thead>\n",
       "  <tbody>\n",
       "    <tr>\n",
       "      <td>0</td>\n",
       "      <td>1000_0</td>\n",
       "      <td>2018-07-25</td>\n",
       "      <td>0.00</td>\n",
       "      <td>1000</td>\n",
       "    </tr>\n",
       "    <tr>\n",
       "      <td>1</td>\n",
       "      <td>1000_1</td>\n",
       "      <td>2018-08-17</td>\n",
       "      <td>0.00</td>\n",
       "      <td>1000</td>\n",
       "    </tr>\n",
       "    <tr>\n",
       "      <td>2</td>\n",
       "      <td>1000_2</td>\n",
       "      <td>2018-06-11</td>\n",
       "      <td>2.85</td>\n",
       "      <td>1000</td>\n",
       "    </tr>\n",
       "  </tbody>\n",
       "</table>\n",
       "</div>"
      ],
      "text/plain": [
       "       id   call_date  duration  user_id\n",
       "0  1000_0  2018-07-25      0.00     1000\n",
       "1  1000_1  2018-08-17      0.00     1000\n",
       "2  1000_2  2018-06-11      2.85     1000"
      ]
     },
     "metadata": {},
     "output_type": "display_data"
    },
    {
     "name": "stdout",
     "output_type": "stream",
     "text": [
      "Число записей: 202607\n",
      "\n"
     ]
    },
    {
     "data": {
      "text/html": [
       "<div>\n",
       "<style scoped>\n",
       "    .dataframe tbody tr th:only-of-type {\n",
       "        vertical-align: middle;\n",
       "    }\n",
       "\n",
       "    .dataframe tbody tr th {\n",
       "        vertical-align: top;\n",
       "    }\n",
       "\n",
       "    .dataframe thead th {\n",
       "        text-align: right;\n",
       "    }\n",
       "</style>\n",
       "<table border=\"1\" class=\"dataframe\">\n",
       "  <thead>\n",
       "    <tr style=\"text-align: right;\">\n",
       "      <th></th>\n",
       "      <th>id</th>\n",
       "      <th>mb_used</th>\n",
       "      <th>session_date</th>\n",
       "      <th>user_id</th>\n",
       "    </tr>\n",
       "  </thead>\n",
       "  <tbody>\n",
       "    <tr>\n",
       "      <td>0</td>\n",
       "      <td>1000_0</td>\n",
       "      <td>112.95</td>\n",
       "      <td>2018-11-25</td>\n",
       "      <td>1000</td>\n",
       "    </tr>\n",
       "    <tr>\n",
       "      <td>1</td>\n",
       "      <td>1000_1</td>\n",
       "      <td>1052.81</td>\n",
       "      <td>2018-09-07</td>\n",
       "      <td>1000</td>\n",
       "    </tr>\n",
       "    <tr>\n",
       "      <td>2</td>\n",
       "      <td>1000_2</td>\n",
       "      <td>1197.26</td>\n",
       "      <td>2018-06-25</td>\n",
       "      <td>1000</td>\n",
       "    </tr>\n",
       "  </tbody>\n",
       "</table>\n",
       "</div>"
      ],
      "text/plain": [
       "       id  mb_used session_date  user_id\n",
       "0  1000_0   112.95   2018-11-25     1000\n",
       "1  1000_1  1052.81   2018-09-07     1000\n",
       "2  1000_2  1197.26   2018-06-25     1000"
      ]
     },
     "metadata": {},
     "output_type": "display_data"
    },
    {
     "name": "stdout",
     "output_type": "stream",
     "text": [
      "Число записей: 149396\n",
      "\n"
     ]
    },
    {
     "data": {
      "text/html": [
       "<div>\n",
       "<style scoped>\n",
       "    .dataframe tbody tr th:only-of-type {\n",
       "        vertical-align: middle;\n",
       "    }\n",
       "\n",
       "    .dataframe tbody tr th {\n",
       "        vertical-align: top;\n",
       "    }\n",
       "\n",
       "    .dataframe thead th {\n",
       "        text-align: right;\n",
       "    }\n",
       "</style>\n",
       "<table border=\"1\" class=\"dataframe\">\n",
       "  <thead>\n",
       "    <tr style=\"text-align: right;\">\n",
       "      <th></th>\n",
       "      <th>id</th>\n",
       "      <th>message_date</th>\n",
       "      <th>user_id</th>\n",
       "    </tr>\n",
       "  </thead>\n",
       "  <tbody>\n",
       "    <tr>\n",
       "      <td>0</td>\n",
       "      <td>1000_0</td>\n",
       "      <td>2018-06-27</td>\n",
       "      <td>1000</td>\n",
       "    </tr>\n",
       "    <tr>\n",
       "      <td>1</td>\n",
       "      <td>1000_1</td>\n",
       "      <td>2018-10-08</td>\n",
       "      <td>1000</td>\n",
       "    </tr>\n",
       "    <tr>\n",
       "      <td>2</td>\n",
       "      <td>1000_2</td>\n",
       "      <td>2018-08-04</td>\n",
       "      <td>1000</td>\n",
       "    </tr>\n",
       "  </tbody>\n",
       "</table>\n",
       "</div>"
      ],
      "text/plain": [
       "       id message_date  user_id\n",
       "0  1000_0   2018-06-27     1000\n",
       "1  1000_1   2018-10-08     1000\n",
       "2  1000_2   2018-08-04     1000"
      ]
     },
     "metadata": {},
     "output_type": "display_data"
    },
    {
     "name": "stdout",
     "output_type": "stream",
     "text": [
      "Число записей: 123036\n",
      "\n"
     ]
    },
    {
     "data": {
      "text/html": [
       "<div>\n",
       "<style scoped>\n",
       "    .dataframe tbody tr th:only-of-type {\n",
       "        vertical-align: middle;\n",
       "    }\n",
       "\n",
       "    .dataframe tbody tr th {\n",
       "        vertical-align: top;\n",
       "    }\n",
       "\n",
       "    .dataframe thead th {\n",
       "        text-align: right;\n",
       "    }\n",
       "</style>\n",
       "<table border=\"1\" class=\"dataframe\">\n",
       "  <thead>\n",
       "    <tr style=\"text-align: right;\">\n",
       "      <th></th>\n",
       "      <th>user_id</th>\n",
       "      <th>age</th>\n",
       "      <th>churn_date</th>\n",
       "      <th>city</th>\n",
       "      <th>first_name</th>\n",
       "      <th>last_name</th>\n",
       "      <th>reg_date</th>\n",
       "      <th>tariff</th>\n",
       "    </tr>\n",
       "  </thead>\n",
       "  <tbody>\n",
       "    <tr>\n",
       "      <td>0</td>\n",
       "      <td>1000</td>\n",
       "      <td>52</td>\n",
       "      <td>NaN</td>\n",
       "      <td>Краснодар</td>\n",
       "      <td>Рафаил</td>\n",
       "      <td>Верещагин</td>\n",
       "      <td>2018-05-25</td>\n",
       "      <td>ultra</td>\n",
       "    </tr>\n",
       "    <tr>\n",
       "      <td>1</td>\n",
       "      <td>1001</td>\n",
       "      <td>41</td>\n",
       "      <td>NaN</td>\n",
       "      <td>Москва</td>\n",
       "      <td>Иван</td>\n",
       "      <td>Ежов</td>\n",
       "      <td>2018-11-01</td>\n",
       "      <td>smart</td>\n",
       "    </tr>\n",
       "    <tr>\n",
       "      <td>2</td>\n",
       "      <td>1002</td>\n",
       "      <td>59</td>\n",
       "      <td>NaN</td>\n",
       "      <td>Стерлитамак</td>\n",
       "      <td>Евгений</td>\n",
       "      <td>Абрамович</td>\n",
       "      <td>2018-06-17</td>\n",
       "      <td>smart</td>\n",
       "    </tr>\n",
       "  </tbody>\n",
       "</table>\n",
       "</div>"
      ],
      "text/plain": [
       "   user_id  age churn_date         city first_name  last_name    reg_date tariff\n",
       "0     1000   52        NaN    Краснодар     Рафаил  Верещагин  2018-05-25  ultra\n",
       "1     1001   41        NaN       Москва       Иван       Ежов  2018-11-01  smart\n",
       "2     1002   59        NaN  Стерлитамак    Евгений  Абрамович  2018-06-17  smart"
      ]
     },
     "metadata": {},
     "output_type": "display_data"
    },
    {
     "name": "stdout",
     "output_type": "stream",
     "text": [
      "Число записей: 500\n",
      "\n"
     ]
    },
    {
     "data": {
      "text/html": [
       "<div>\n",
       "<style scoped>\n",
       "    .dataframe tbody tr th:only-of-type {\n",
       "        vertical-align: middle;\n",
       "    }\n",
       "\n",
       "    .dataframe tbody tr th {\n",
       "        vertical-align: top;\n",
       "    }\n",
       "\n",
       "    .dataframe thead th {\n",
       "        text-align: right;\n",
       "    }\n",
       "</style>\n",
       "<table border=\"1\" class=\"dataframe\">\n",
       "  <thead>\n",
       "    <tr style=\"text-align: right;\">\n",
       "      <th></th>\n",
       "      <th>messages_included</th>\n",
       "      <th>mg_per_month_included</th>\n",
       "      <th>minutes_included</th>\n",
       "      <th>rub_monthly_fee</th>\n",
       "      <th>rub_per_gb</th>\n",
       "      <th>rub_per_message</th>\n",
       "      <th>rub_per_minute</th>\n",
       "      <th>tariff_name</th>\n",
       "    </tr>\n",
       "  </thead>\n",
       "  <tbody>\n",
       "    <tr>\n",
       "      <td>0</td>\n",
       "      <td>50</td>\n",
       "      <td>15360</td>\n",
       "      <td>500</td>\n",
       "      <td>550</td>\n",
       "      <td>200</td>\n",
       "      <td>3</td>\n",
       "      <td>3</td>\n",
       "      <td>smart</td>\n",
       "    </tr>\n",
       "    <tr>\n",
       "      <td>1</td>\n",
       "      <td>1000</td>\n",
       "      <td>30720</td>\n",
       "      <td>3000</td>\n",
       "      <td>1950</td>\n",
       "      <td>150</td>\n",
       "      <td>1</td>\n",
       "      <td>1</td>\n",
       "      <td>ultra</td>\n",
       "    </tr>\n",
       "  </tbody>\n",
       "</table>\n",
       "</div>"
      ],
      "text/plain": [
       "   messages_included  mg_per_month_included  minutes_included  rub_monthly_fee  rub_per_gb  rub_per_message  rub_per_minute tariff_name\n",
       "0                 50                  15360               500              550         200                3               3       smart\n",
       "1               1000                  30720              3000             1950         150                1               1       ultra"
      ]
     },
     "execution_count": 34,
     "metadata": {},
     "output_type": "execute_result"
    }
   ],
   "source": [
    "# Первое \"знакомство\" и оценка исходных данных:\n",
    "df_calls = pd.read_csv('/datasets/calls.csv')\n",
    "df_internet = pd.read_csv('/datasets/internet.csv')\n",
    "df_messages = pd.read_csv('/datasets/messages.csv')\n",
    "df_tariffs = pd.read_csv('/datasets/tariffs.csv')\n",
    "df_users = pd.read_csv('/datasets/users.csv')\n",
    "\n",
    "for view in [df_calls, df_internet, df_messages, df_users]:\n",
    "    display(view.head(3))\n",
    "    print('Число записей:', view.shape[0])\n",
    "    print()\n",
    "df_tariffs   # методом print \"красивого\" вывода добиться не удалось "
   ]
  },
  {
   "cell_type": "markdown",
   "metadata": {},
   "source": [
    "### Шаг 2. Подготовка данных\n",
    "Приведите данные к нужным типам;\n",
    "Найдите и исправьте ошибки в данных.\n",
    "Поясните, какие ошибки вы нашли и как их исправили. \n",
    "Обратите внимание, что у большого количества звонков длительность — 0.0 минут. Это проблема в данных, нужна предобработка.\n",
    "\n",
    "Посчитайте для каждого пользователя:\n",
    "- calls - количество сделанных звонков и израсходованных минут разговора по месяцам;\n",
    "- messages - количество отправленных сообщений по месяцам;\n",
    "- internet - объем израсходованного интернет-трафика по месяцам;\n",
    "- помесячную выручку с каждого пользователя \n",
    "\n",
    "План:\n",
    "1. Проверка и исправление проблем в данных\n",
    "2. Группировка данных помесячно, расчет необходимых значений\n",
    "3. Объединение таблицы 'calls, internet, messages'  в одну\n",
    "4. Расчет помесячной выручки по данным итоговой таблицы \n",
    "(вычтите бесплатный лимит из суммарного количества звонков, сообщений и интернет-трафика; остаток умножьте на значение из тарифного плана)."
   ]
  },
  {
   "cell_type": "code",
   "execution_count": 36,
   "metadata": {
    "scrolled": true
   },
   "outputs": [
    {
     "name": "stdout",
     "output_type": "stream",
     "text": [
      "<class 'pandas.core.frame.DataFrame'>\n",
      "RangeIndex: 202607 entries, 0 to 202606\n",
      "Data columns (total 4 columns):\n",
      "id           202607 non-null object\n",
      "call_date    202607 non-null object\n",
      "duration     202607 non-null float64\n",
      "user_id      202607 non-null int64\n",
      "dtypes: float64(1), int64(1), object(2)\n",
      "memory usage: 6.2+ MB\n"
     ]
    },
    {
     "data": {
      "text/plain": [
       "None"
      ]
     },
     "metadata": {},
     "output_type": "display_data"
    },
    {
     "name": "stdout",
     "output_type": "stream",
     "text": [
      "<class 'pandas.core.frame.DataFrame'>\n",
      "RangeIndex: 149396 entries, 0 to 149395\n",
      "Data columns (total 4 columns):\n",
      "id              149396 non-null object\n",
      "mb_used         149396 non-null float64\n",
      "session_date    149396 non-null object\n",
      "user_id         149396 non-null int64\n",
      "dtypes: float64(1), int64(1), object(2)\n",
      "memory usage: 4.6+ MB\n"
     ]
    },
    {
     "data": {
      "text/plain": [
       "None"
      ]
     },
     "metadata": {},
     "output_type": "display_data"
    },
    {
     "name": "stdout",
     "output_type": "stream",
     "text": [
      "<class 'pandas.core.frame.DataFrame'>\n",
      "RangeIndex: 123036 entries, 0 to 123035\n",
      "Data columns (total 3 columns):\n",
      "id              123036 non-null object\n",
      "message_date    123036 non-null object\n",
      "user_id         123036 non-null int64\n",
      "dtypes: int64(1), object(2)\n",
      "memory usage: 2.8+ MB\n"
     ]
    },
    {
     "data": {
      "text/plain": [
       "None"
      ]
     },
     "metadata": {},
     "output_type": "display_data"
    },
    {
     "name": "stdout",
     "output_type": "stream",
     "text": [
      "<class 'pandas.core.frame.DataFrame'>\n",
      "RangeIndex: 500 entries, 0 to 499\n",
      "Data columns (total 8 columns):\n",
      "user_id       500 non-null int64\n",
      "age           500 non-null int64\n",
      "churn_date    38 non-null object\n",
      "city          500 non-null object\n",
      "first_name    500 non-null object\n",
      "last_name     500 non-null object\n",
      "reg_date      500 non-null object\n",
      "tariff        500 non-null object\n",
      "dtypes: int64(2), object(6)\n",
      "memory usage: 31.4+ KB\n"
     ]
    },
    {
     "data": {
      "text/plain": [
       "None"
      ]
     },
     "metadata": {},
     "output_type": "display_data"
    },
    {
     "name": "stdout",
     "output_type": "stream",
     "text": [
      "<class 'pandas.core.frame.DataFrame'>\n",
      "RangeIndex: 2 entries, 0 to 1\n",
      "Data columns (total 8 columns):\n",
      "messages_included        2 non-null int64\n",
      "mg_per_month_included    2 non-null int64\n",
      "minutes_included         2 non-null int64\n",
      "rub_monthly_fee          2 non-null int64\n",
      "rub_per_gb               2 non-null int64\n",
      "rub_per_message          2 non-null int64\n",
      "rub_per_minute           2 non-null int64\n",
      "tariff_name              2 non-null object\n",
      "dtypes: int64(7), object(1)\n",
      "memory usage: 256.0+ bytes\n"
     ]
    },
    {
     "data": {
      "text/plain": [
       "None"
      ]
     },
     "metadata": {},
     "output_type": "display_data"
    }
   ],
   "source": [
    "# вывод информации по типам данных в таблицах\n",
    "for view in [df_calls, df_internet, df_messages, df_users, df_tariffs]:\n",
    "    display(view.info())\n",
    "   "
   ]
  },
  {
   "cell_type": "markdown",
   "metadata": {},
   "source": [
    "##### Преобразование форматов данных"
   ]
  },
  {
   "cell_type": "code",
   "execution_count": 4,
   "metadata": {},
   "outputs": [],
   "source": [
    "# преобразование df_calls['call_date'], df_internet['session_date'], df_messages['message_date'] в формат datetime:\n",
    "df_calls['call_date'] = pd.to_datetime(df_calls['call_date'], format='%Y-%m-%d')\n",
    "df_internet['session_date'] = pd.to_datetime(df_internet['session_date'], format='%Y-%m-%d')\n",
    "df_messages['message_date'] = pd.to_datetime(df_messages['message_date'], format='%Y-%m-%d')\n",
    "\n",
    "# преобразование df_users ['reg_date'], ['churn_date'] в формат datetime:\n",
    "df_users['reg_date'] = pd.to_datetime(df_users['reg_date'], format='%Y-%m-%d')\n",
    "df_users['churn_date'] = pd.to_datetime(df_users['churn_date'], format='%Y-%m-%d')\n",
    "\n",
    "# столбцы df_calls['call_date'], df_internet['session_date'], df_messages['message_date'] содержат дату события \n",
    "# поскольку группировка будет осуществляться в последующем по этим данным\n",
    "# перед объединением переименовываем столбцы в 'activity_date'\n",
    "df_calls.rename({'call_date':'activity_date'}, axis=1, inplace=True)\n",
    "df_internet.rename({'session_date' : 'activity_date'}, axis=1, inplace=True)\n",
    "df_messages.rename({'message_date' : 'activity_date'}, axis=1, inplace=True)"
   ]
  },
  {
   "cell_type": "markdown",
   "metadata": {},
   "source": [
    "##### Выявление и исправление ошибок в данных"
   ]
  },
  {
   "cell_type": "markdown",
   "metadata": {},
   "source": [
    "##### df_calls"
   ]
  },
  {
   "cell_type": "code",
   "execution_count": 5,
   "metadata": {},
   "outputs": [
    {
     "name": "stdout",
     "output_type": "stream",
     "text": [
      "Число записей с продолжительностью звонка равной 0.0 : 39613\n"
     ]
    }
   ],
   "source": [
    "# Проверка записей с нулевой продолжительность звонков\n",
    "print('Число записей с продолжительностью звонка равной 0.0 :', df_calls.query('duration == 0').shape[0])"
   ]
  },
  {
   "cell_type": "markdown",
   "metadata": {},
   "source": [
    "**«Мегалайн» всегда округляет вверх значения минут и мегабайтов.\n",
    "(осталось неясным - для обоих тарифов или только для \"Смарт\")\n",
    "Считаем, что данное правило действует для обоих тарифов \n",
    "Если пользователь проговорил всего 1 секунду, по тарифу засчитывается целая минута."
   ]
  },
  {
   "cell_type": "code",
   "execution_count": 6,
   "metadata": {},
   "outputs": [
    {
     "name": "stdout",
     "output_type": "stream",
     "text": [
      "Число записей с продолжительностью звонка равной 0.0 : 0\n"
     ]
    },
    {
     "data": {
      "text/html": [
       "<div>\n",
       "<style scoped>\n",
       "    .dataframe tbody tr th:only-of-type {\n",
       "        vertical-align: middle;\n",
       "    }\n",
       "\n",
       "    .dataframe tbody tr th {\n",
       "        vertical-align: top;\n",
       "    }\n",
       "\n",
       "    .dataframe thead th {\n",
       "        text-align: right;\n",
       "    }\n",
       "</style>\n",
       "<table border=\"1\" class=\"dataframe\">\n",
       "  <thead>\n",
       "    <tr style=\"text-align: right;\">\n",
       "      <th></th>\n",
       "      <th>id</th>\n",
       "      <th>activity_date</th>\n",
       "      <th>duration</th>\n",
       "      <th>user_id</th>\n",
       "    </tr>\n",
       "  </thead>\n",
       "  <tbody>\n",
       "    <tr>\n",
       "      <td>0</td>\n",
       "      <td>1000_0</td>\n",
       "      <td>2018-07-25</td>\n",
       "      <td>1</td>\n",
       "      <td>1000</td>\n",
       "    </tr>\n",
       "    <tr>\n",
       "      <td>1</td>\n",
       "      <td>1000_1</td>\n",
       "      <td>2018-08-17</td>\n",
       "      <td>1</td>\n",
       "      <td>1000</td>\n",
       "    </tr>\n",
       "    <tr>\n",
       "      <td>2</td>\n",
       "      <td>1000_2</td>\n",
       "      <td>2018-06-11</td>\n",
       "      <td>3</td>\n",
       "      <td>1000</td>\n",
       "    </tr>\n",
       "    <tr>\n",
       "      <td>3</td>\n",
       "      <td>1000_3</td>\n",
       "      <td>2018-09-21</td>\n",
       "      <td>14</td>\n",
       "      <td>1000</td>\n",
       "    </tr>\n",
       "    <tr>\n",
       "      <td>4</td>\n",
       "      <td>1000_4</td>\n",
       "      <td>2018-12-15</td>\n",
       "      <td>6</td>\n",
       "      <td>1000</td>\n",
       "    </tr>\n",
       "  </tbody>\n",
       "</table>\n",
       "</div>"
      ],
      "text/plain": [
       "       id activity_date  duration  user_id\n",
       "0  1000_0    2018-07-25         1     1000\n",
       "1  1000_1    2018-08-17         1     1000\n",
       "2  1000_2    2018-06-11         3     1000\n",
       "3  1000_3    2018-09-21        14     1000\n",
       "4  1000_4    2018-12-15         6     1000"
      ]
     },
     "execution_count": 6,
     "metadata": {},
     "output_type": "execute_result"
    }
   ],
   "source": [
    "# замена значений продолжительности разговора 0.0 на 1 мин в соответствии с правилами тарифа \n",
    "# метод np.ceil() в данном случае не подходит, поскольку значения 0, останутся 0.\n",
    "# округляем продолжительность звонков до целого в большую сторону\n",
    "df_calls['duration'] = df_calls['duration'].apply(lambda duration: int(duration) + 1)\n",
    "\n",
    "# преобразование в целочисленный формат\n",
    "df_calls['duration'] = df_calls['duration'].astype(int, errors='ignore')\n",
    "\n",
    "# проверка:\n",
    "print('Число записей с продолжительностью звонка равной 0.0 :', df_calls.query('duration == 0').shape[0])\n",
    "df_calls.head()"
   ]
  },
  {
   "cell_type": "code",
   "execution_count": 7,
   "metadata": {},
   "outputs": [
    {
     "data": {
      "text/plain": [
       "count   202607.00\n",
       "mean         7.36\n",
       "std          5.74\n",
       "min          1.00\n",
       "25%          2.00\n",
       "50%          7.00\n",
       "75%         11.00\n",
       "max         39.00\n",
       "Name: duration, dtype: float64"
      ]
     },
     "execution_count": 7,
     "metadata": {},
     "output_type": "execute_result"
    }
   ],
   "source": [
    "# провера разброса в данных по продолжительности звонков:\n",
    "df_calls['duration'].describe()"
   ]
  },
  {
   "cell_type": "markdown",
   "metadata": {},
   "source": [
    "**Выводы:**\n",
    "Медиана и среднее близки: 7.36 мин и  7.00 мин, значит существенных выбросов нет.\n",
    "Максималное значение 39 мин разговора вполне возможно. \n",
    "Минимальное значение продолжительности звонка стало 1 мин, значит обработка данных прошла успешно.\n",
    "Данные готовы для анализа. "
   ]
  },
  {
   "cell_type": "markdown",
   "metadata": {},
   "source": [
    "##### df_internet"
   ]
  },
  {
   "cell_type": "code",
   "execution_count": 8,
   "metadata": {},
   "outputs": [],
   "source": [
    "# По правилам тарифов округление мегабайтов производится в большую сторону до целого\n",
    "# округляем данные по использованным мегабайтам\n",
    "df_internet['mb_used'] = df_internet['mb_used'].apply(lambda mb: int(mb) + 1)"
   ]
  },
  {
   "cell_type": "code",
   "execution_count": 9,
   "metadata": {},
   "outputs": [
    {
     "data": {
      "text/plain": [
       "count   149396.00\n",
       "mean       370.76\n",
       "std        278.21\n",
       "min          1.00\n",
       "25%        139.00\n",
       "50%        349.00\n",
       "75%        560.00\n",
       "max       1725.00\n",
       "Name: mb_used, dtype: float64"
      ]
     },
     "execution_count": 9,
     "metadata": {},
     "output_type": "execute_result"
    }
   ],
   "source": [
    "df_internet['mb_used'].describe()\n",
    "# медиана и среднее достаточно близки 348 и 370, данные правдоподобны"
   ]
  },
  {
   "cell_type": "markdown",
   "metadata": {},
   "source": [
    "**Выводы:\n",
    "Медиана и среднее близки: 370 Мб и  349 Мб, значит существенных выбросов нет.\n",
    "Минимальное значение трафика данных стало 1 Мб, значит обработка данных прошла успешно.\n",
    "Данные готовы для анализа. "
   ]
  },
  {
   "cell_type": "markdown",
   "metadata": {},
   "source": [
    "##### df_messages\n",
    "данные по смс в таблице бинарны - фиксируется только факт отправки, \n",
    "обработка и анализ будут проводится после объединения и группировки данных."
   ]
  },
  {
   "cell_type": "markdown",
   "metadata": {},
   "source": [
    "##### df_users"
   ]
  },
  {
   "cell_type": "code",
   "execution_count": 10,
   "metadata": {},
   "outputs": [
    {
     "data": {
      "text/plain": [
       "smart    351\n",
       "ultra    149\n",
       "Name: tariff, dtype: int64"
      ]
     },
     "execution_count": 10,
     "metadata": {},
     "output_type": "execute_result"
    }
   ],
   "source": [
    "# проверка возможных ошибок в категорях тарифов:\n",
    "# PS: все в порядке\n",
    "df_users['tariff'].value_counts()"
   ]
  },
  {
   "cell_type": "code",
   "execution_count": 11,
   "metadata": {},
   "outputs": [
    {
     "data": {
      "text/plain": [
       "Москва    99\n",
       "Name: city, dtype: int64"
      ]
     },
     "execution_count": 11,
     "metadata": {},
     "output_type": "execute_result"
    }
   ],
   "source": [
    "# проверка возможных ошибок в названиях городов:\n",
    "df_users['city'].value_counts().head(7)\n",
    "# задача стоит о проверке статистики по г.Москва и остальным регионам, делаем проверку по возможным написаниям 'Москва'\n",
    "# PS: все в порядке, категория имеет однотипное написание в данных\n",
    "df_users.query('city == \"Москва\" or city == \"москва\"').city.value_counts()"
   ]
  },
  {
   "cell_type": "markdown",
   "metadata": {},
   "source": [
    "##### Объединение таблиц"
   ]
  },
  {
   "cell_type": "code",
   "execution_count": 12,
   "metadata": {},
   "outputs": [],
   "source": [
    "# добавление столбца month в исходные таблицы:\n",
    "df_calls['month'] = pd.DatetimeIndex(df_calls['activity_date']).month\n",
    "df_internet['month'] = pd.DatetimeIndex(df_internet['activity_date']).month\n",
    "df_messages['month'] = pd.DatetimeIndex(df_messages['activity_date']).month\n",
    "\n",
    "# группировка и подсчет целевых данных:\n",
    "df_activity = pd.DataFrame(columns = ['month', 'duration', 'mb_used', 'user_id'])\n",
    "for month in range(1, 13):\n",
    "    df_activity = df_activity.append(\n",
    "        df_calls.loc[df_calls['month'] == month].groupby('user_id').agg({'month':'min', 'duration':'sum'}), sort=False)\n",
    "\n",
    "for month in range(1, 13):\n",
    "    df_activity = df_activity.append(\n",
    "        df_internet.loc[df_internet['month'] == month].groupby('user_id').agg({'month':'min', 'mb_used':'sum'}), sort=False)\n",
    "\n",
    "# на данный момент столбец 'user_id' - для подсчета количества смс:\n",
    "for month in range(1, 13):\n",
    "    df_activity = df_activity.append(\n",
    "        df_messages.loc[df_messages['month'] == month].groupby('user_id').agg({'month':'min', 'user_id':'count'}), sort=False)\n",
    "\n",
    "# реиндексация\n",
    "df_activity.reset_index(inplace=True)\n",
    "# переименование 'user_id' в  'messages', как более соотвествующее смыслу,\n",
    "# переименовываем  'index' в 'user_id' \n",
    "df_activity.rename({'user_id':'messages', 'index':'user_id'}, axis=1, inplace=True)\n",
    "\n",
    "# проверка результата для выборочного id = 1005:\n",
    "# df_activity.query('user_id == 1005 and (month == 1 or month == 12) ') \n",
    "# данные по всем видам услуг и для крайних диапазонов значения месяца присутствуют, можно группировать в окончательную таблицу"
   ]
  },
  {
   "cell_type": "code",
   "execution_count": 13,
   "metadata": {},
   "outputs": [],
   "source": [
    "# группировка всех видов услуг в помесячном формате для каждого клиента:\n",
    "df_activity_final = pd.DataFrame(columns = ['month', 'duration', 'mb_used', 'messages'])\n",
    "for month in range(1, 13):\n",
    "    df_activity_final = df_activity_final.append(\n",
    "        df_activity.loc[df_activity['month'] == month].groupby('user_id')\n",
    "        .agg({'month':'min', 'duration':'sum', 'mb_used': 'sum', 'messages':'sum'}))\n",
    "\n",
    "df_activity_final.reset_index(inplace=True)\n",
    "df_activity_final.rename({'index' : 'user_id'}, axis=1, inplace=True)\n",
    "# проверка результата для выборочного id = 1005:\n",
    "# df_activity_final.query('user_id == 1005')"
   ]
  },
  {
   "cell_type": "code",
   "execution_count": 14,
   "metadata": {},
   "outputs": [],
   "source": [
    "# Объединение таблицы со статитстикой по испоьзованию услуг с таблицой персональных данных клиентов\n",
    "# ФИО клиентов не переносим, для исследования в них нет необходимости и их можно узнать по id\n",
    "df_activity_final = pd.merge(\n",
    "    df_activity_final, df_users[['user_id','tariff', 'age', 'city', 'reg_date', 'churn_date']], left_index=True, on = 'user_id')"
   ]
  },
  {
   "cell_type": "code",
   "execution_count": 15,
   "metadata": {},
   "outputs": [],
   "source": [
    "# после merge появился \"дублер\" индексов, обновляем эти данные\n",
    "df_activity_final.reset_index(inplace=True)\n",
    "del df_activity_final['index']"
   ]
  },
  {
   "cell_type": "code",
   "execution_count": 16,
   "metadata": {},
   "outputs": [
    {
     "data": {
      "text/plain": [
       "3214"
      ]
     },
     "execution_count": 16,
     "metadata": {},
     "output_type": "execute_result"
    }
   ],
   "source": [
    "# проверка итоговой таблицы после слияния\n",
    "# успешно: размер таблицы сохранился, данные в порядке\n",
    "#df_activity_final.info()\n",
    "#df_activity_final.tail(10)\n",
    "df_activity_final.shape[0]"
   ]
  },
  {
   "cell_type": "markdown",
   "metadata": {},
   "source": [
    "##### Расчет помесячной выручки с каждого пользователя"
   ]
  },
  {
   "cell_type": "code",
   "execution_count": 17,
   "metadata": {},
   "outputs": [
    {
     "data": {
      "text/html": [
       "<div>\n",
       "<style scoped>\n",
       "    .dataframe tbody tr th:only-of-type {\n",
       "        vertical-align: middle;\n",
       "    }\n",
       "\n",
       "    .dataframe tbody tr th {\n",
       "        vertical-align: top;\n",
       "    }\n",
       "\n",
       "    .dataframe thead th {\n",
       "        text-align: right;\n",
       "    }\n",
       "</style>\n",
       "<table border=\"1\" class=\"dataframe\">\n",
       "  <thead>\n",
       "    <tr style=\"text-align: right;\">\n",
       "      <th></th>\n",
       "      <th>messages_included</th>\n",
       "      <th>mg_per_month_included</th>\n",
       "      <th>minutes_included</th>\n",
       "      <th>rub_monthly_fee</th>\n",
       "      <th>rub_per_gb</th>\n",
       "      <th>rub_per_message</th>\n",
       "      <th>rub_per_minute</th>\n",
       "      <th>tariff_name</th>\n",
       "    </tr>\n",
       "  </thead>\n",
       "  <tbody>\n",
       "    <tr>\n",
       "      <td>0</td>\n",
       "      <td>50</td>\n",
       "      <td>15360</td>\n",
       "      <td>500</td>\n",
       "      <td>550</td>\n",
       "      <td>200</td>\n",
       "      <td>3</td>\n",
       "      <td>3</td>\n",
       "      <td>smart</td>\n",
       "    </tr>\n",
       "    <tr>\n",
       "      <td>1</td>\n",
       "      <td>1000</td>\n",
       "      <td>30720</td>\n",
       "      <td>3000</td>\n",
       "      <td>1950</td>\n",
       "      <td>150</td>\n",
       "      <td>1</td>\n",
       "      <td>1</td>\n",
       "      <td>ultra</td>\n",
       "    </tr>\n",
       "  </tbody>\n",
       "</table>\n",
       "</div>"
      ],
      "text/plain": [
       "   messages_included  mg_per_month_included  minutes_included  rub_monthly_fee  rub_per_gb  rub_per_message  rub_per_minute tariff_name\n",
       "0                 50                  15360               500              550         200                3               3       smart\n",
       "1               1000                  30720              3000             1950         150                1               1       ultra"
      ]
     },
     "execution_count": 17,
     "metadata": {},
     "output_type": "execute_result"
    }
   ],
   "source": [
    "# Таблица действующих тарифов для расчетов\n",
    "df_tariffs"
   ]
  },
  {
   "cell_type": "code",
   "execution_count": 18,
   "metadata": {},
   "outputs": [],
   "source": [
    "# функция mtz (minus_to_zero) возвращает значение '0' если число отрицательное\n",
    "def mtz(x):\n",
    "    if x > 0:\n",
    "        return(x)\n",
    "    else:\n",
    "        return(0)\n",
    "    \n",
    "# функция расчета месячного платежа абонента в зависимости от тарифа \n",
    "# для интернета расчет трафика указан в таблицах в Мб, для расчета тарифа цена идет за Гб. \n",
    "# делим сверхлитный трафик на 1024 для перевода Мб в Гб\n",
    "\n",
    "def income(tariff, duration, mb_used, messages):\n",
    "    try:\n",
    "        return (\n",
    "            (mtz(duration - df_tariffs.loc[df_tariffs['tariff_name'] == tariff, 'minutes_included'].iloc[0]) \n",
    "            * df_tariffs.loc[df_tariffs['tariff_name'] == tariff, 'rub_per_minute'].iloc[0])\n",
    "            + (mtz(mb_used - df_tariffs.loc[df_tariffs['tariff_name'] == tariff, 'mg_per_month_included'].iloc[0]) \n",
    "               / 1024 # Делим сверхлитный трафик на 1024 для перевода Мб в Гб\n",
    "            * df_tariffs.loc[df_tariffs['tariff_name'] == tariff, 'rub_per_gb'].iloc[0])\n",
    "            + (mtz(messages - df_tariffs.loc[df_tariffs['tariff_name'] == tariff, 'messages_included'].iloc[0]) \n",
    "            * df_tariffs.loc[df_tariffs['tariff_name'] == tariff, 'rub_per_message'].iloc[0])\n",
    "            + df_tariffs.loc[df_tariffs['tariff_name'] == tariff, 'rub_monthly_fee'].iloc[0] # ставка месячной абонентской платы\n",
    "        )\n",
    "    except:\n",
    "        return (np.nan)"
   ]
  },
  {
   "cell_type": "markdown",
   "metadata": {},
   "source": [
    "**К расчету размера выручки добавлена ставка ежемесячной абонентской платы, поскольку ее доля значительна, а включенный объем предоплаченных услуг может перекрывать их реальное потребелние клиентами."
   ]
  },
  {
   "cell_type": "code",
   "execution_count": 19,
   "metadata": {},
   "outputs": [],
   "source": [
    "# перед расчетом выручки по каждому клиенту приводим к целочисленному формату все используемые\n",
    "# в расчетах данные ('duration' и 'mb_used' - повторно, поскольку метод info() выдает по этим стобцам dtype - object)\n",
    "df_activity_final['duration'] = df_activity_final['duration'].astype(int, errors='ignore')\n",
    "df_activity_final['mb_used'] = df_activity_final['mb_used'].astype(int, errors='ignore')\n",
    "df_activity_final['messages'] = df_activity_final['messages'].astype(int, errors='ignore')"
   ]
  },
  {
   "cell_type": "code",
   "execution_count": 20,
   "metadata": {},
   "outputs": [],
   "source": [
    "# производим расчет платежей по каждому абоненту согласно правилам тарифа \n",
    "df_activity_final['income'] = df_activity_final.apply(\n",
    "    lambda row: income(row['tariff'], row['duration'], row['mb_used'], row['messages']), axis=1)"
   ]
  },
  {
   "cell_type": "code",
   "execution_count": 21,
   "metadata": {},
   "outputs": [
    {
     "name": "stdout",
     "output_type": "stream",
     "text": [
      "<class 'pandas.core.frame.DataFrame'>\n",
      "RangeIndex: 3214 entries, 0 to 3213\n",
      "Data columns (total 11 columns):\n",
      "user_id       3214 non-null int64\n",
      "month         3214 non-null object\n",
      "duration      3214 non-null int64\n",
      "mb_used       3214 non-null int64\n",
      "messages      3214 non-null int64\n",
      "tariff        3214 non-null object\n",
      "age           3214 non-null int64\n",
      "city          3214 non-null object\n",
      "reg_date      3214 non-null datetime64[ns]\n",
      "churn_date    187 non-null datetime64[ns]\n",
      "income        3214 non-null float64\n",
      "dtypes: datetime64[ns](2), float64(1), int64(5), object(3)\n",
      "memory usage: 276.3+ KB\n"
     ]
    }
   ],
   "source": [
    "# после многочисленных группировок часть данных в таблице имела тип object\n",
    "# повторная проверка типа данных перед началом анализа\n",
    "df_activity_final.info()"
   ]
  },
  {
   "cell_type": "code",
   "execution_count": 22,
   "metadata": {},
   "outputs": [
    {
     "data": {
      "text/plain": [
       "(543.78, 1793.706]      1734\n",
       "(1793.706, 3037.412]    1366\n",
       "(3037.412, 4281.119]      99\n",
       "(4281.119, 5524.825]      11\n",
       "(5524.825, 6768.531]       4\n",
       "Name: income, dtype: int64"
      ]
     },
     "execution_count": 22,
     "metadata": {},
     "output_type": "execute_result"
    }
   ],
   "source": [
    "df_activity_final['income'].value_counts(bins=5)"
   ]
  },
  {
   "cell_type": "markdown",
   "metadata": {},
   "source": [
    "### Шаг 3. Анализ данных\n",
    "Опишите поведение клиентов оператора, исходя из выборки. \n",
    "Сколько минут разговора, сколько сообщений и какой объём интернет-трафика требуется пользователям каждого тарифа в месяц? Посчитайте среднее количество, дисперсию и стандартное отклонение. Постройте гистограммы. Опишите распределения."
   ]
  },
  {
   "cell_type": "markdown",
   "metadata": {},
   "source": [
    "##### Расчет количества, среднего, стандартного отклонения, квартилей и дисперсии."
   ]
  },
  {
   "cell_type": "code",
   "execution_count": 23,
   "metadata": {},
   "outputs": [
    {
     "data": {
      "text/html": [
       "<div>\n",
       "<style scoped>\n",
       "    .dataframe tbody tr th:only-of-type {\n",
       "        vertical-align: middle;\n",
       "    }\n",
       "\n",
       "    .dataframe tbody tr th {\n",
       "        vertical-align: top;\n",
       "    }\n",
       "\n",
       "    .dataframe thead th {\n",
       "        text-align: right;\n",
       "    }\n",
       "</style>\n",
       "<table border=\"1\" class=\"dataframe\">\n",
       "  <thead>\n",
       "    <tr style=\"text-align: right;\">\n",
       "      <th></th>\n",
       "      <th>duration-smart</th>\n",
       "      <th>duration-ultra</th>\n",
       "      <th>mb_used-smart</th>\n",
       "      <th>mb_used-ultra</th>\n",
       "      <th>messages-smart</th>\n",
       "      <th>messages-ultra</th>\n",
       "    </tr>\n",
       "  </thead>\n",
       "  <tbody>\n",
       "    <tr>\n",
       "      <td>count</td>\n",
       "      <td>2229.00</td>\n",
       "      <td>985.00</td>\n",
       "      <td>2229.00</td>\n",
       "      <td>985.00</td>\n",
       "      <td>2229.00</td>\n",
       "      <td>985.00</td>\n",
       "    </tr>\n",
       "    <tr>\n",
       "      <td>mean</td>\n",
       "      <td>429.91</td>\n",
       "      <td>541.32</td>\n",
       "      <td>16237.62</td>\n",
       "      <td>19489.08</td>\n",
       "      <td>33.38</td>\n",
       "      <td>49.36</td>\n",
       "    </tr>\n",
       "    <tr>\n",
       "      <td>std</td>\n",
       "      <td>195.06</td>\n",
       "      <td>326.02</td>\n",
       "      <td>5879.96</td>\n",
       "      <td>10097.31</td>\n",
       "      <td>28.23</td>\n",
       "      <td>47.80</td>\n",
       "    </tr>\n",
       "    <tr>\n",
       "      <td>min</td>\n",
       "      <td>0.00</td>\n",
       "      <td>0.00</td>\n",
       "      <td>0.00</td>\n",
       "      <td>0.00</td>\n",
       "      <td>0.00</td>\n",
       "      <td>0.00</td>\n",
       "    </tr>\n",
       "    <tr>\n",
       "      <td>25%</td>\n",
       "      <td>291.00</td>\n",
       "      <td>292.00</td>\n",
       "      <td>12662.00</td>\n",
       "      <td>11787.00</td>\n",
       "      <td>10.00</td>\n",
       "      <td>6.00</td>\n",
       "    </tr>\n",
       "    <tr>\n",
       "      <td>50%</td>\n",
       "      <td>435.00</td>\n",
       "      <td>532.00</td>\n",
       "      <td>16540.00</td>\n",
       "      <td>19324.00</td>\n",
       "      <td>28.00</td>\n",
       "      <td>38.00</td>\n",
       "    </tr>\n",
       "    <tr>\n",
       "      <td>75%</td>\n",
       "      <td>561.00</td>\n",
       "      <td>773.00</td>\n",
       "      <td>20079.00</td>\n",
       "      <td>26869.00</td>\n",
       "      <td>51.00</td>\n",
       "      <td>79.00</td>\n",
       "    </tr>\n",
       "    <tr>\n",
       "      <td>max</td>\n",
       "      <td>1473.00</td>\n",
       "      <td>1728.00</td>\n",
       "      <td>38628.00</td>\n",
       "      <td>49793.00</td>\n",
       "      <td>143.00</td>\n",
       "      <td>224.00</td>\n",
       "    </tr>\n",
       "    <tr>\n",
       "      <td>variance</td>\n",
       "      <td>38049.70</td>\n",
       "      <td>106291.43</td>\n",
       "      <td>34573951.90</td>\n",
       "      <td>101955627.78</td>\n",
       "      <td>796.81</td>\n",
       "      <td>2285.27</td>\n",
       "    </tr>\n",
       "  </tbody>\n",
       "</table>\n",
       "</div>"
      ],
      "text/plain": [
       "          duration-smart  duration-ultra  mb_used-smart  mb_used-ultra  messages-smart  messages-ultra\n",
       "count            2229.00          985.00        2229.00         985.00         2229.00          985.00\n",
       "mean              429.91          541.32       16237.62       19489.08           33.38           49.36\n",
       "std               195.06          326.02        5879.96       10097.31           28.23           47.80\n",
       "min                 0.00            0.00           0.00           0.00            0.00            0.00\n",
       "25%               291.00          292.00       12662.00       11787.00           10.00            6.00\n",
       "50%               435.00          532.00       16540.00       19324.00           28.00           38.00\n",
       "75%               561.00          773.00       20079.00       26869.00           51.00           79.00\n",
       "max              1473.00         1728.00       38628.00       49793.00          143.00          224.00\n",
       "variance        38049.70       106291.43    34573951.90   101955627.78          796.81         2285.27"
      ]
     },
     "execution_count": 23,
     "metadata": {},
     "output_type": "execute_result"
    }
   ],
   "source": [
    "df_stat = pd.DataFrame(index = list(df_activity_final.duration.describe().index))\n",
    "for val in ['duration', 'mb_used', 'messages']:    \n",
    "    df_stat[str(val + '-smart')] = list(df_activity_final.query('tariff == \"smart\" ')[val].describe())\n",
    "    df_stat[str(val + '-ultra')] = list(df_activity_final.query('tariff == \"ultra\" ')[val].describe())\n",
    "# расчет дисперсии как квадрата стандартного отклонения 'std':\n",
    "df_stat.loc['variance'] = df_stat.loc['std'] ** 2\n",
    "df_stat"
   ]
  },
  {
   "cell_type": "markdown",
   "metadata": {},
   "source": [
    "**Первые выводы\n",
    "-***\n",
    "Число абонентов на тарифе ultra и smart составляет 31% и 69% от общего числа соответственно.\n",
    "Для пользователей ultra характерен значительно больший разброс в объеме потребляемых услуг, стандартное отклонение от средних показателей в 1.7 раза выше чем для smart по всем трем видам услуг.\n",
    "В среднем объем потребляемых услуг у ultra незначительно отличается от smart: по медиане длительности разговоров 22%, потребляемому трафику интернет - 17%, числу сообщений - 36%.\n",
    "Первый квартиль объема услуг по тарифу ultra лежит в границах предоплаченного объема услуг тарифа smart. \n",
    "Это не значит, что 25% абонентов ultra смогут войти в объем предоплаченного объема smart, поскольку статистика по месацам может отличаться и малое потребление одной услуги абонентом может сочетаться с большим потрблением другой. Тем не менее, реальная потребность в объеме потребляемых услуг у клиентов ultra превышает объем аналогичных услуг потребляемых клиентами smart до 22% по длительности разговоров и интернет трафику, а объем предоплаченных услуг в тарифе Ultra отличается от Smart в 6 раз по продолжительности разговоров (3000 мин и 500 мин) и в 2 раза по объему интернет трафика (30720 МБ и 15360 Мб)"
   ]
  },
  {
   "cell_type": "code",
   "execution_count": 24,
   "metadata": {},
   "outputs": [
    {
     "data": {
      "text/plain": [
       "0.16852791878172588"
      ]
     },
     "execution_count": 24,
     "metadata": {},
     "output_type": "execute_result"
    }
   ],
   "source": [
    "# проверим гипотезу о пересечении потребности объема  услуг в тарифе ultra с тарифом smart\n",
    "# заданы граничные условия, когда все три услуги в пределах месяца, укладываются в  предоплаченный лимит по тарифу smart\n",
    "(df_activity_final.query(\n",
    "    'tariff == \"ultra\" and  duration > 500 and mb_used > 15360 and messages > 50').shape[0]\n",
    "    / df_activity_final.query('tariff == \"ultra\"').shape[0])"
   ]
  },
  {
   "cell_type": "markdown",
   "metadata": {},
   "source": [
    "**Почти в 17% случаев месячная потребность в физическом объеме услуг пользователей ultra находится в пределах предоплаченного объма услуг на smart."
   ]
  },
  {
   "cell_type": "code",
   "execution_count": 40,
   "metadata": {},
   "outputs": [
    {
     "data": {
      "image/png": "[encoded data removed]",
      "text/plain": [
       "<Figure size 1080x360 with 2 Axes>"
      ]
     },
     "metadata": {
      "needs_background": "light"
     },
     "output_type": "display_data"
    }
   ],
   "source": [
    "# построение графиков распределения по частоте/объему услуги\n",
    "fig, axs = plt.subplots(1, 2, figsize=(15, 5))\n",
    "df_activity_final.loc[df_activity_final['tariff'] == 'smart'].duration.hist(bins=100, ax=axs[0])\n",
    "df_activity_final.loc[df_activity_final['tariff'] == 'ultra'].duration.hist(bins=100, ax=axs[0])\n",
    "df_activity_final.loc[df_activity_final['tariff'] == 'smart'].mb_used.hist(bins=100, ax=axs[1])\n",
    "df_activity_final.loc[df_activity_final['tariff'] == 'ultra'].mb_used.hist(bins=100, ax=axs[1])\n",
    "axs[0].set_title('Продолжительность звонка (мин): smart / ultra')\n",
    "axs[0].set_xlabel('Продолжительность звонка (мин)')\n",
    "axs[0].set_ylabel('Число пользователей')\n",
    "axs[1].set_title('Интернет трафик (Мб): smart / ultra');\n",
    "axs[1].set_xlabel('Объем интернет трафика (Мб)')\n",
    "axs[1].set_ylabel('Число пользователей');"
   ]
  },
  {
   "cell_type": "markdown",
   "metadata": {},
   "source": [
    "***\n",
    "## Комментарий наставника\n",
    "\n",
    "Хорошо, что добавил заголовки графиков, классно было бы еще добавить легенду и подписи осей\n",
    "***"
   ]
  },
  {
   "cell_type": "markdown",
   "metadata": {},
   "source": [
    "Вывод: визуально распределение объема потребляемого клиентами интернет трафика напоминает нормальное, при этом распределение для тарифа ultra не имееет такого выраженного пика как у smart и имеет более пологую харатеристику.\n",
    "Этот вывод также подтверждается статистикой полученной методом describe: стадндартное отклоненение для распределений по объему интернет трафика для smart и ultra составляют соответственно 5879.96 и 10097.31, т.е. почти двукратная разница разброса.\n",
    "Для распределения по продолжительности звонка характерна ассиметрия распределения, более длинное правое плечо, данное распределение ближе форме к распределению Пуассона, чем к нормальному."
   ]
  },
  {
   "cell_type": "code",
   "execution_count": 43,
   "metadata": {},
   "outputs": [
    {
     "data": {
      "image/png": "[encoded data removed]",
      "text/plain": [
       "<Figure size 432x288 with 1 Axes>"
      ]
     },
     "metadata": {
      "needs_background": "light"
     },
     "output_type": "display_data"
    }
   ],
   "source": [
    "plt.ylim(0, 80)\n",
    "df_activity_final.loc[df_activity_final['tariff'] == 'smart'].messages.hist(bins=100)\n",
    "df_activity_final.loc[df_activity_final['tariff'] == 'ultra'].messages.hist(bins=100)\n",
    "plt.title('Использование  сообщений SMS (мин): smart / ultra')\n",
    "plt.xlabel('Число сообщений sms, шт')\n",
    "plt.ylabel('Число пользователей');"
   ]
  },
  {
   "cell_type": "markdown",
   "metadata": {},
   "source": [
    "**Вывод:** визуально распределение объема сообщений отправляемых клиентами близко к распределению Пуассона."
   ]
  },
  {
   "cell_type": "markdown",
   "metadata": {},
   "source": [
    "**Выводы по гистограммам распределения.**\\\n",
    "Ближе всего к распределению гаусса объем интернет трафика клиентов для обоих тарифов, распределение для отправленных сообщений напоминает распределение Пуассона, форма распределения для продолжительности звонков имеет переходную форму.\n",
    "Распределения для тарифа ultra имеют более пологую форму, распределение для тарифа smart имеет более выраженный пик.\n",
    "***\n",
    "Почти в 17% случаев потребляемый пользователями тарифа Ultra объем услуг находится в пределах предоплаченного пакета услуг для Smart.\n",
    "***\n",
    "Объем услуг включенных в предоплаченный пакет по тарифу ultra значительно превышает реальную потребность клиентов.\n",
    "Реальная потребность в объеме потребляемых услуг у клиентов ultra превышает объем аналогичных услуг потребляемых клиентами smart на 22% по интернет трафику и длительности разговоров, а объем предоплаченных услуг в тарифе Ultra отличается от Smart в 2 раза по объему интернет трафика (30720 МБ и 15360 Мб) и в 6 раз по продолжительности разговоров (3000 мин и 500 мин)\n",
    "***\n",
    "Согласно статистической теории при увеличении числа наблюдений распределение Пуассона стремится к нормальному. То есть, чем ближе характеристики распределения для конкретной услуги к нормальному, тем чаще этой услугой полузуются, тем более она востребована. Можно предположить, что наиболее востребованной услугой на момент исследования явлется предоставление интернет трафика, это стало более важно чем просто услуга мобильной связи и наименьшая потребность у клиентов в сервисе отправки сообщений."
   ]
  },
  {
   "cell_type": "markdown",
   "metadata": {},
   "source": [
    "### Шаг 4. Проверка гипотез\n",
    "***\n",
    "1. средняя выручка пользователей тарифов «Ультра» и «Смарт» различается; \n",
    "2. средняя выручка пользователей из Москвы отличается от выручки пользователей из других регионов; \n",
    "***\n",
    "Пороговое значение alpha задайте самостоятельно. \n",
    "Поясните: \n",
    "- как вы формулировали нулевую и альтернативную гипотезы; \n",
    "- какой критерий использовали для проверки гипотез и почему."
   ]
  },
  {
   "cell_type": "markdown",
   "metadata": {},
   "source": [
    "#### 1. Средняя выручка пользователей тарифов «Ультра» и «Смарт» "
   ]
  },
  {
   "cell_type": "markdown",
   "metadata": {},
   "source": [
    "**Гипотеза:\n",
    "H0 - средняя выручка  по пользователям тарифов «Ультра» и «Смарт» равны\n",
    "H1 - средняя выручка  по пользователям тарифов «Ультра» и «Смарт» не равны друг другу.\n",
    "***\n",
    "уровень значимости принимаем alfa = 5% (5e-2)"
   ]
  },
  {
   "cell_type": "code",
   "execution_count": 27,
   "metadata": {},
   "outputs": [
    {
     "data": {
      "text/html": [
       "<div>\n",
       "<style scoped>\n",
       "    .dataframe tbody tr th:only-of-type {\n",
       "        vertical-align: middle;\n",
       "    }\n",
       "\n",
       "    .dataframe tbody tr th {\n",
       "        vertical-align: top;\n",
       "    }\n",
       "\n",
       "    .dataframe thead th {\n",
       "        text-align: right;\n",
       "    }\n",
       "</style>\n",
       "<table border=\"1\" class=\"dataframe\">\n",
       "  <thead>\n",
       "    <tr style=\"text-align: right;\">\n",
       "      <th></th>\n",
       "      <th>smart</th>\n",
       "      <th>ultra</th>\n",
       "    </tr>\n",
       "  </thead>\n",
       "  <tbody>\n",
       "    <tr>\n",
       "      <td>count</td>\n",
       "      <td>2229.00</td>\n",
       "      <td>985.00</td>\n",
       "    </tr>\n",
       "    <tr>\n",
       "      <td>mean</td>\n",
       "      <td>1252.19</td>\n",
       "      <td>2060.61</td>\n",
       "    </tr>\n",
       "    <tr>\n",
       "      <td>std</td>\n",
       "      <td>798.08</td>\n",
       "      <td>356.46</td>\n",
       "    </tr>\n",
       "    <tr>\n",
       "      <td>min</td>\n",
       "      <td>550.00</td>\n",
       "      <td>1950.00</td>\n",
       "    </tr>\n",
       "    <tr>\n",
       "      <td>25%</td>\n",
       "      <td>553.00</td>\n",
       "      <td>1950.00</td>\n",
       "    </tr>\n",
       "    <tr>\n",
       "      <td>50%</td>\n",
       "      <td>988.00</td>\n",
       "      <td>1950.00</td>\n",
       "    </tr>\n",
       "    <tr>\n",
       "      <td>75%</td>\n",
       "      <td>1705.08</td>\n",
       "      <td>1950.00</td>\n",
       "    </tr>\n",
       "    <tr>\n",
       "      <td>max</td>\n",
       "      <td>6768.53</td>\n",
       "      <td>4743.90</td>\n",
       "    </tr>\n",
       "  </tbody>\n",
       "</table>\n",
       "</div>"
      ],
      "text/plain": [
       "        smart   ultra\n",
       "count 2229.00  985.00\n",
       "mean  1252.19 2060.61\n",
       "std    798.08  356.46\n",
       "min    550.00 1950.00\n",
       "25%    553.00 1950.00\n",
       "50%    988.00 1950.00\n",
       "75%   1705.08 1950.00\n",
       "max   6768.53 4743.90"
      ]
     },
     "execution_count": 27,
     "metadata": {},
     "output_type": "execute_result"
    }
   ],
   "source": [
    "# оценка датасетов по тарифам\n",
    "df_stat = pd.DataFrame(index = list(df_activity_final.income.describe().index))\n",
    "df_stat['smart'] = list(df_activity_final.query('tariff == \"smart\" ').income.describe())\n",
    "df_stat['ultra'] = list(df_activity_final.query('tariff == \"ultra\" ').income.describe())\n",
    "df_stat"
   ]
  },
  {
   "cell_type": "markdown",
   "metadata": {},
   "source": [
    "В статистике выручки по тарифам сразу видна видна принципиальная разница, для тарифа ultra первые три квартиля клиентов полностью покрывают свои потребности услугами входящими в предоплаченный пакет. Среднее плата за доп. услуги для smart - 702 р. для ultra - 110 р., разница семикратная. "
   ]
  },
  {
   "cell_type": "code",
   "execution_count": 28,
   "metadata": {},
   "outputs": [
    {
     "data": {
      "text/plain": [
       "Text(0.5, 1.0, 'ultra')"
      ]
     },
     "execution_count": 28,
     "metadata": {},
     "output_type": "execute_result"
    },
    {
     "data": {
      "image/png": "[encoded data removed]",
      "text/plain": [
       "<Figure size 864x288 with 2 Axes>"
      ]
     },
     "metadata": {
      "needs_background": "light"
     },
     "output_type": "display_data"
    }
   ],
   "source": [
    "# визуальная оценка формы распределения выручки от клиентов по тарифам\n",
    "# поскольку разброс частот очень большой используем логарифмическую шкалу графиков\n",
    "fig, axs = plt.subplots(1, 2, figsize=(12, 4))\n",
    "df_activity_final.loc[df_activity_final['tariff'] == 'smart'].plot(y='income', kind='hist', bins=100, ax=axs[0], grid=True)\n",
    "df_activity_final.loc[df_activity_final['tariff'] == 'ultra'].plot(y='income', kind='hist', bins=100, ax=axs[1], grid=True)\n",
    "axs[0].set_yscale('log')\n",
    "axs[1].set_yscale('log')\n",
    "axs[0].set_title('smart')\n",
    "axs[1].set_title('ultra')"
   ]
  },
  {
   "cell_type": "markdown",
   "metadata": {},
   "source": [
    "Визуально оба распределения далеки от гауссовского, причем для тарифа ultra это особенно выражено. \n",
    "Если для smart можно предположить возможность распределения Пуассона, то для Ultra после пика, когда оплата не выходит за рамки абонентской платы, распределение равномерное вплоть до 4000 руб.\n",
    "Выполняем проверку этих выборок также статистическими методами.\n",
    "Наиболее популярен для подобной проверки тест д'Агостино (на соответствие выборки нормальному закону распределения)\n",
    "**Гипотезы:\n",
    "H0 - выборка значений выручки по тарифу имеет гауссово распределение\n",
    "H1 - выборка значений выручки по тарифу не имеет гауссовского распределения"
   ]
  },
  {
   "cell_type": "code",
   "execution_count": 29,
   "metadata": {},
   "outputs": [
    {
     "name": "stdout",
     "output_type": "stream",
     "text": [
      "Тест дАгостино на соответствие выборки нормальному закону распределения:\n",
      "Тариф smart: NormaltestResult(statistic=682.0977864646997, pvalue=7.662096369292467e-149)\n",
      "Тариф ultra: NormaltestResult(statistic=803.7052840524709, pvalue=3.003412816912251e-175)\n"
     ]
    }
   ],
   "source": [
    "print('Тест дАгостино на соответствие выборки нормальному закону распределения:')\n",
    "print('Тариф smart:', st.normaltest(df_activity_final.loc[df_activity_final['tariff'] == 'smart'].income))\n",
    "print('Тариф ultra:', st.normaltest(df_activity_final.loc[df_activity_final['tariff'] == 'ultra'].income))"
   ]
  },
  {
   "cell_type": "markdown",
   "metadata": {},
   "source": [
    "**Вывод: стандартный критерий значимости при анализе составляет 5е-2, в нашем случае полученный критерий значимости отличается более чем на 100 порядков. Для smart и ultra соответственно: 7e-149 и 3e-175.\n",
    "Нулевую гипотезу отвергаем. Выборки по значениям выручки от абонентов не имеют гауссовского распределения."
   ]
  },
  {
   "cell_type": "markdown",
   "metadata": {},
   "source": [
    "Для сравнения среднего выборок не имеющих нормального распределения рекомендуется использовать U-критерий Манна — Уитни\n",
    "https://malev.ru/shpargalka-po-statisticheskomy-analizu/\n",
    "\n"
   ]
  },
  {
   "cell_type": "code",
   "execution_count": 30,
   "metadata": {
    "scrolled": true
   },
   "outputs": [
    {
     "name": "stdout",
     "output_type": "stream",
     "text": [
      "U-критерий Манна — Уитни 8.144798620231045e-208\n"
     ]
    }
   ],
   "source": [
    "u, p_value = st.mannwhitneyu(df_activity_final.loc[df_activity_final['tariff'] == 'smart'].income\n",
    "                             , df_activity_final.loc[df_activity_final['tariff'] == 'ultra'].income)\n",
    "print('U-критерий Манна — Уитни', p_value)"
   ]
  },
  {
   "cell_type": "markdown",
   "metadata": {},
   "source": [
    "**Вывод: Нулевая гипотеза о равенстве средних не подтвердилась, \n",
    "p_value = 8e-208 при принятом уровне значимости alfa = 5% (5e-2)\n",
    "Принимаем гипотезу H1: средняя выручка  по пользователям тарифов «Ультра» и «Смарт» не равны друг другу"
   ]
  },
  {
   "cell_type": "markdown",
   "metadata": {},
   "source": [
    "#### 2. Средняя выручка пользователей из Москвы отличается от выручки пользователей из других регионов; "
   ]
  },
  {
   "cell_type": "code",
   "execution_count": 31,
   "metadata": {},
   "outputs": [
    {
     "data": {
      "text/html": [
       "<div>\n",
       "<style scoped>\n",
       "    .dataframe tbody tr th:only-of-type {\n",
       "        vertical-align: middle;\n",
       "    }\n",
       "\n",
       "    .dataframe tbody tr th {\n",
       "        vertical-align: top;\n",
       "    }\n",
       "\n",
       "    .dataframe thead th {\n",
       "        text-align: right;\n",
       "    }\n",
       "</style>\n",
       "<table border=\"1\" class=\"dataframe\">\n",
       "  <thead>\n",
       "    <tr style=\"text-align: right;\">\n",
       "      <th></th>\n",
       "      <th>Москва</th>\n",
       "      <th>Регионы</th>\n",
       "    </tr>\n",
       "  </thead>\n",
       "  <tbody>\n",
       "    <tr>\n",
       "      <td>count</td>\n",
       "      <td>611.00</td>\n",
       "      <td>2603.00</td>\n",
       "    </tr>\n",
       "    <tr>\n",
       "      <td>mean</td>\n",
       "      <td>1518.26</td>\n",
       "      <td>1495.65</td>\n",
       "    </tr>\n",
       "    <tr>\n",
       "      <td>std</td>\n",
       "      <td>741.07</td>\n",
       "      <td>797.60</td>\n",
       "    </tr>\n",
       "    <tr>\n",
       "      <td>min</td>\n",
       "      <td>550.00</td>\n",
       "      <td>550.00</td>\n",
       "    </tr>\n",
       "    <tr>\n",
       "      <td>25%</td>\n",
       "      <td>767.47</td>\n",
       "      <td>705.81</td>\n",
       "    </tr>\n",
       "    <tr>\n",
       "      <td>50%</td>\n",
       "      <td>1733.59</td>\n",
       "      <td>1545.90</td>\n",
       "    </tr>\n",
       "    <tr>\n",
       "      <td>75%</td>\n",
       "      <td>1950.00</td>\n",
       "      <td>1950.00</td>\n",
       "    </tr>\n",
       "    <tr>\n",
       "      <td>max</td>\n",
       "      <td>5232.14</td>\n",
       "      <td>6768.53</td>\n",
       "    </tr>\n",
       "  </tbody>\n",
       "</table>\n",
       "</div>"
      ],
      "text/plain": [
       "       Москва  Регионы\n",
       "count  611.00  2603.00\n",
       "mean  1518.26  1495.65\n",
       "std    741.07   797.60\n",
       "min    550.00   550.00\n",
       "25%    767.47   705.81\n",
       "50%   1733.59  1545.90\n",
       "75%   1950.00  1950.00\n",
       "max   5232.14  6768.53"
      ]
     },
     "execution_count": 31,
     "metadata": {},
     "output_type": "execute_result"
    }
   ],
   "source": [
    "# оценка датасетов по регионам\n",
    "df_stat = pd.DataFrame(index = list(df_activity_final.income.describe().index))\n",
    "df_stat['Москва'] = list(df_activity_final.query('city == \"Москва\" ').income.describe())\n",
    "df_stat['Регионы'] = list(df_activity_final.query('city != \"Москва\" ').income.describe())\n",
    "df_stat"
   ]
  },
  {
   "cell_type": "markdown",
   "metadata": {},
   "source": [
    "**Гипотеза:\n",
    "H0 - средняя выручка от пользователей из Москвы и от пользователей из регионов равны\n",
    "H1 - средняя выручка от пользователей из Москвы и от пользователей из регионов равны не равны друг другу.\n",
    "***\n",
    "уровень значимости принимаем alfa = 5% (5e-2)"
   ]
  },
  {
   "cell_type": "code",
   "execution_count": 32,
   "metadata": {},
   "outputs": [
    {
     "name": "stdout",
     "output_type": "stream",
     "text": [
      "Тест дАгостино на соответствие выборки нормальному закону распределения:\n",
      "Тариф smart: NormaltestResult(statistic=25.099006782188702, pvalue=3.5466630193635585e-06)\n",
      "Тариф ultra: NormaltestResult(statistic=352.08973319978406, pvalue=3.504982615814169e-77)\n"
     ]
    }
   ],
   "source": [
    "# Выполняем проверку выборок по критерию д'Агостино (на соответствие выборки нормальному закону распределения)\n",
    "#Гипотезы:\n",
    "#H0 - выборка значений выручки по тарифу имеет гауссово распределение\n",
    "#H1 - выборка значений выручки по тарифу не имеет гауссовского распределения\n",
    "print('Тест дАгостино на соответствие выборки нормальному закону распределения:')\n",
    "print('Тариф smart:', st.normaltest(df_activity_final.loc[df_activity_final['city'] == 'Москва'].income))\n",
    "print('Тариф ultra:', st.normaltest(df_activity_final.loc[df_activity_final['city'] != 'Москва'].income))"
   ]
  },
  {
   "cell_type": "markdown",
   "metadata": {},
   "source": [
    "Вывод: стандартный критерий значимости при анализе составляет 5е-2, в нашем случае полученный критерий значимости отличается более чем на 100 порядков. Для smart и ultra соответственно: 1.5e-52 и 1e-216.\n",
    "Нулевую гипотезу отвергаем. Принимаем H1: Выборки по значениям выручки от абонентов из разных регионов не имеют гауссовского распределения."
   ]
  },
  {
   "cell_type": "markdown",
   "metadata": {},
   "source": [
    "Для сравнения среднего выборок не имеющих нормального распределения используем U-критерий Манна — Уитни:"
   ]
  },
  {
   "cell_type": "code",
   "execution_count": 33,
   "metadata": {
    "scrolled": true
   },
   "outputs": [
    {
     "name": "stdout",
     "output_type": "stream",
     "text": [
      "U-критерий Манна — Уитни 0.15009450789106138\n"
     ]
    }
   ],
   "source": [
    "u, p_value = st.mannwhitneyu(df_activity_final.loc[df_activity_final['city'] == 'Москва'].income\n",
    "                             , df_activity_final.loc[df_activity_final['city'] != 'Москва'].income)\n",
    "print('U-критерий Манна — Уитни', p_value)"
   ]
  },
  {
   "cell_type": "markdown",
   "metadata": {},
   "source": [
    "**Вывод: Нулевая гипотеза о равенстве средних не подтвердилась, \n",
    "p_value = 15% при принятом уровне значимости alfa = 5% \n",
    "Гипотеза H0 подтвердилась: средняя выручка  по пользователям из Москвы и регионов могут быть равны друг другу"
   ]
  },
  {
   "cell_type": "markdown",
   "metadata": {},
   "source": [
    "### Шаг 5. Общий вывод"
   ]
  },
  {
   "cell_type": "markdown",
   "metadata": {},
   "source": [
    "##### Основные выводы :\n",
    "Рапределение выборок по выручке проверено на соответствие нормальному распределению по методу  д'Агостино. \n",
    "Поскольку соответствие нормальной форме распределения не подтвердилось,\n",
    "принято решения для анализа взаимосвязи выборок использовать метод Манна — Уитни.\n",
    "***\n",
    "1. Средняя выручка пользователей тарифов «Ультра» и «Смарт» отличаются друг от друга\n",
    "**Выдвинута гипотеза:\n",
    "H0 - средняя выручка  по пользователям тарифов «Ультра» и «Смарт» равны\n",
    "H1 - средняя выручка  по пользователям тарифов «Ультра» и «Смарт» не равны друг другу.\n",
    "уровень значимости принят alfa = 5% (5e-2)\n",
    "***\n",
    "Вывод: Средняя выручка  по пользователям тарифов «Ультра» и «Смарт» не равны друг другу\n",
    "Нулевая гипотеза о равенстве средних не подтвердилась: \n",
    "p_value = 8e-208 при принятом уровне значимости alfa = 5% (5e-2)\n",
    "Принимаем гипотезу H1: средняя выручка  по пользователям тарифов «Ультра» и «Смарт» не равны друг другу\n",
    "***\n",
    "***\n",
    "2. Средняя выручка пользователей из Москвы отличается от выручки пользователей из других регионов; \n",
    "**Выдвинута гипотеза:\n",
    "H0 - средняя выручка от пользователей из Москвы и от пользователей из регионов равны\n",
    "H1 - средняя выручка от пользователей из Москвы и от пользователей из регионов равны не равны друг другу.\n",
    "уровень значимости принят alfa = 5% (5e-2)\n",
    "***\n",
    "**Вывод: Средняя выручка от пользователей из Москвы и регионов могут быть равны друг другу\n",
    "Нулевая гипотеза о равенстве средних подтвердилась \n",
    "p_value = 15% при принятом уровне значимости alfa = 5% \n"
   ]
  },
  {
   "cell_type": "markdown",
   "metadata": {},
   "source": [
    "##### Дополнительные выводы\n",
    "**Выводы по гистограммам распределения.\n",
    "Ближе всего к распределению Гаусса распределение объема интернет трафика для клиентов обоих тарифов. Распределение для отправленных сообщений напоминает распределение Пуассона, форма распределения для продолжительности звонков имеет переходную форму.\n",
    "Распределения для тарифа Ультра имеют более пологую форму. Распределение для тарифа Смарт имеет выраженный пик.\n",
    "***\n",
    "Почти в 17% случаев потребляемый пользователями тарифа Ультра объем услуг находится в пределах предоплаченного пакета услуг для Смарт.\n",
    "***\n",
    "Объем услуг включенных в предоплаченный пакет по тарифу Ультра значительно превышает реальную потребность клиентов.\n",
    "Потребление услуг у клиентов Ультра превышает объем аналогичных услуг потребляемых клиентами Смарт: на 17% по интернет трафику и 22% длительности разговоров. При этом объем предоплаченных услуг в тарифе Ультра отличается от Смарт в 2 раза по объему интернет трафика (30720 МБ и 15360 Мб) и в 6 раз по продолжительности разговоров (3000 мин и 500 мин)\n",
    "***\n",
    "Согласно статистической теории, при увеличении числа наблюдений (в нашем случае частоты) распределение Пуассона стремится к нормальному. \n",
    "Исходя из формы распределения можно предположить, что наиболее востребованной услугой на момент исследования явлется предоставление интернет трафика, это стало более важно чем услуга мобильной связи,  а сервис отправки сообщений имеет наименьшую значимость для клиентов."
   ]
  }
 ],
 "metadata": {
  "kernelspec": {
   "display_name": "Python 3",
   "language": "python",
   "name": "python3"
  },
  "language_info": {
   "codemirror_mode": {
    "name": "ipython",
    "version": 3
   },
   "file_extension": ".py",
   "mimetype": "text/x-python",
   "name": "python",
   "nbconvert_exporter": "python",
   "pygments_lexer": "ipython3",
   "version": "3.7.4"
  }
 },
 "nbformat": 4,
 "nbformat_minor": 2
}
